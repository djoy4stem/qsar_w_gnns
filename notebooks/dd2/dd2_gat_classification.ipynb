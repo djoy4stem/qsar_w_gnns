{
 "cells": [
  {
   "cell_type": "code",
   "execution_count": 1,
   "metadata": {},
   "outputs": [],
   "source": [
    "## IPython extensions to reload modules before executing user code.\n",
    "# Autorelad is an IPython extension to reload modules before executing user code.\n",
    "%load_ext autoreload\n",
    "\n",
    "# Reload all modules (except those excluded by %aimport) every time before executing the Python code typed.\n",
    "%autoreload 2"
   ]
  },
  {
   "cell_type": "code",
   "execution_count": 2,
   "metadata": {},
   "outputs": [
    {
     "name": "stdout",
     "output_type": "stream",
     "text": [
      "/home/djoy2409-wsl/projects/software_development/qsar_w_gnns/data\n"
     ]
    }
   ],
   "source": [
    "from matplotlib import pyplot as plt\n",
    "\n",
    "import os\n",
    "from os.path import join\n",
    "import sys\n",
    "from IPython.display import display\n",
    "from PIL import Image\n",
    "\n",
    "ROOT_DIR = os.sep.join(os.path.abspath('.').split(os.sep)[:-2])\n",
    "sys.path.insert(0, ROOT_DIR)\n",
    "DATASET_DIR = \"{}/data\".format(ROOT_DIR)\n",
    "print(DATASET_DIR)"
   ]
  },
  {
   "cell_type": "code",
   "execution_count": 3,
   "metadata": {},
   "outputs": [],
   "source": [
    "from typing import List, Union, Any, Tuple\n",
    "from datetime import datetime\n",
    "from random import sample\n",
    "import pickle\n",
    "\n",
    "import pandas as pd\n",
    "import numpy as np\n",
    "from tqdm import tqdm\n",
    "import torch\n",
    "import torch_geometric\n",
    "from torch_geometric.data import Data\n",
    "from torch.nn import BCELoss, LeakyReLU, ReLU\n",
    "from torch.optim import lr_scheduler,Adagrad, Adadelta, Adam, AdamW, SGD\n",
    "\n",
    "from rdkit import Chem, RDLogger\n",
    "from rdkit.Chem import Draw, AllChem, PandasTools, MolFromSequence, MolToSmiles, MolToInchiKey, Descriptors, GraphDescriptors, MolFromSmiles\n",
    "from rdkit.Chem import rdMolDescriptors as rdmdesc\n",
    "\n",
    "from joblib import Parallel, delayed\n",
    "\n",
    "RDLogger.DisableLog('rdApp.*')\n",
    "import warnings\n",
    "warnings.filterwarnings(\"ignore\", category=UserWarning)\n",
    "from lib import gnn_utils, utilities, datasets, splitters, featurizers, training_utils, graph_nns, visuals\n",
    "\n",
    "\n",
    "from sklearn.metrics import f1_score, roc_auc_score, recall_score, precision_score, balanced_accuracy_score\n",
    "\n",
    "import matplotlib.pyplot as plt\n",
    "plt.rcParams['figure.dpi'] = 100\n",
    "plt.rcParams.update({'font.size': 24})"
   ]
  },
  {
   "cell_type": "code",
   "execution_count": 4,
   "metadata": {},
   "outputs": [],
   "source": [
    "## Set seeds\n",
    "seed = 123\n",
    "utilities.set_seeds(seed=seed, torch_use_deterministic_algos=False) "
   ]
  },
  {
   "cell_type": "markdown",
   "metadata": {},
   "source": [
    "<p style=\"font-family: cursive; font-size=14px\">\n",
    "In the following, we will train graph attention neural network (GAT) models to predict hether a compound inhibits of the growth  <em>P. falciparum's</em> DD2.\n",
    "\n",
    "Interesting tutorials about GATs can be found here:\n",
    "<ol>\n",
    "<li><a href=\"https://medium.com/stanford-cs224w/incorporating-edge-features-into-graph-neural-networks-for-country-gdp-predictions-1d4dea68337d\">Incorporating Edge Features into Graph Neural Networks for Country GDP Predictions.</a></li>\n",
    "<li><a href=\"https://towardsdatascience.com/graph-attention-networks-in-python-975736ac5c0c\">Graph Attention Networks: Self-Attention Explained.</a></li>\n",
    "<li><a href=\"https://medium.com/@ashish28082002.ak/graph-attention-networks-52f03591b3cc\">Graph Attention Networks.</a></li>\n",
    "<li><a href=\"https://www.youtube.com/watch?v=SnRfBfXwLuY\">Graph Attention Networks (GAT) in 5 minutes (Video).</a></li>\n",
    "</ol>\n",
    "</p>"
   ]
  },
  {
   "cell_type": "markdown",
   "metadata": {},
   "source": [
    "<h3 style=\"font-family: cursive\">Data Preparation</h4>"
   ]
  },
  {
   "cell_type": "markdown",
   "metadata": {},
   "source": [
    "<h4 style=\"font-family: cursive\">Dataset Cleaning</h4>\n",
    "<p style=\"font-family: cursive; font-size=14px\">\n",
    "The dataset was obtained from the PubChem Biossay AID 2302. It was used as example in the paper by [Chakravarti and Mani Alla (2019); Frontiers in Artificial Intelligence, 2, DOI: 10.3389/frai.2019.00017](https://www.frontiersin.org/articles/10.3389/frai.2019.00017/full). </p>\n"
   ]
  },
  {
   "cell_type": "code",
   "execution_count": 5,
   "metadata": {},
   "outputs": [],
   "source": [
    "# dd2_data_df   = pd.read_csv(f\"{DATASET_DIR}/dd2_inhibition_pubchem_aid_2302.csv\")\n",
    "# smiles_column = \"PUBCHEM_EXT_DATASOURCE_SMILES\"\n",
    "# # target_column = \"PCT_INHIB_DD2\"\n",
    "# target_column = \"DD2_ACTIVITY_CLS\"\n",
    "# mol_column    = 'RMol'\n",
    "\n",
    "# print(f\"Number of molecules with a missing SMILES string: {dd2_data_df[smiles_column].isna().sum()}/{dd2_data_df.shape[0]}\")\n",
    "\n",
    "# # Removing rows with a missing SMILES string\n",
    "# dd2_data_df.dropna(subset=[smiles_column], axis=0, inplace=True)\n",
    "\n",
    "\n",
    "# # Remove rows where is not defined\n",
    "# dd2_data_df.dropna(subset=['PUBCHEM_ACTIVITY_OUTCOME'], axis=0, inplace=True)\n",
    "\n",
    "# # Add a column with 0/1 activity values\n",
    "# dd2_data_df[target_column] = dd2_data_df['PUBCHEM_ACTIVITY_OUTCOME'].apply(lambda x: 1 if x =='Active' else 0)\n",
    "\n",
    "\n",
    "# # Adding molecule (Mol) objects to the dataframe\n",
    "# PandasTools.AddMoleculeColumnToFrame(dd2_data_df, smiles_column, mol_column)\n",
    "\n",
    "# dd2_data_df.head(2)"
   ]
  },
  {
   "cell_type": "markdown",
   "metadata": {},
   "source": [
    "<span style=\"font-family: cursive; font-size=16px\">\n",
    "Beside removing rows with an empty SMILES, we will proceed with the following steps:\n",
    "<ol>\n",
    "    <li>Select the largest fragment for each molecule, which will also remove slats, among others. We will use the SMILES and inchikeys of the fragment.</li>\n",
    "    <li>Sanitize the retained molecule</li>\n",
    "    <li>Fix the target values. Negative values are set to 0 and values greater than 100 are set to 100</li>\n",
    "    <li>Remove duplicates, using the inchikey as primary key. For each group of duplicates: </li>\n",
    "        <ol>\n",
    "            <li>If the min and max values are apart by 20 or more, omit and proceed to the next group</li>\n",
    "            <li>Else, retain the first occurrence but replace the target value by an average</li>\n",
    "            <li>It is worth mentioning that duplicate removal is usually a more involved process, where outliers can be detected and removed using a statisical approach, before averaging the taarget value.</li>\n",
    "        </ol>\n",
    "</ol>\n",
    "</span>"
   ]
  },
  {
   "cell_type": "code",
   "execution_count": 6,
   "metadata": {},
   "outputs": [],
   "source": [
    "# dd2_data_df['largest_frag']        = dd2_data_df[mol_column].apply(utilities.get_largest_fragment_from_mol)\n",
    "\n",
    "# dd2_data_df['largest_frag_smiles'] = dd2_data_df['largest_frag'].apply(lambda mol: MolToSmiles(utilities.sanitize_molecule(mol, add_explicit_h=True)))\n",
    "\n",
    "# dd2_data_df.dropna(subset=['largest_frag_smiles'], axis=0, inplace=True)\n",
    "\n",
    "\n",
    "# dd2_data_df['largest_frag_ikey'] = dd2_data_df['largest_frag'].apply(MolToInchiKey)\n",
    "# duplicates = dd2_data_df[dd2_data_df.duplicated(subset=['largest_frag_ikey'], keep=False)].sort_values(by='largest_frag_ikey')\n",
    "\n",
    "# print(f\"Number of molecules with a missing largest fragment SMILES string: {dd2_data_df['largest_frag_smiles'].isna().sum()}/{dd2_data_df.shape[0]}\")\n",
    "\n",
    "# print(f\"Number of unique inchikeys: {dd2_data_df['largest_frag_ikey'].unique().size}/{dd2_data_df.shape[0]}\")\n",
    "# print(f\"Number of duplicates inchikeys: {duplicates.shape[0]} - e.g.: {duplicates.index[:2]}\")\n",
    "# print(f\"Number of molecules with a negative target value: {dd2_data_df[dd2_data_df[target_column]<0].shape[0]}/{dd2_data_df.shape[0]} - e.g.:{dd2_data_df[dd2_data_df[target_column]<0].index[:2]}\")\n",
    "# print(f\"Number of molecules with target value>100: {dd2_data_df[dd2_data_df[target_column]>100].shape[0]}/{dd2_data_df.shape[0]} - e.g.:{dd2_data_df[dd2_data_df[target_column]>100].index[:2]}\")\n",
    "# dd2_data_df[['PUBCHEM_CID', 'largest_frag_ikey', target_column]].loc[[8,9,272, 458, 11041, 11042],:]\n",
    "\n"
   ]
  },
  {
   "cell_type": "code",
   "execution_count": 7,
   "metadata": {},
   "outputs": [],
   "source": [
    "# dd2_data_df['lf_num_frags'] = dd2_data_df['largest_frag'].apply(lambda x: len(Chem.GetMolFrags(x)))\n",
    "# print(dd2_data_df[dd2_data_df['lf_num_frags']>1])"
   ]
  },
  {
   "cell_type": "code",
   "execution_count": 8,
   "metadata": {},
   "outputs": [],
   "source": [
    "# print(f\" Unique target values = {dd2_data_df[target_column].unique()}\")\n",
    "\n",
    "# dd2_data_df['PUBCHEM_CID'] = dd2_data_df['PUBCHEM_CID'].astype(int)\n",
    "\n",
    "# dd2_data_df[dd2_data_df.columns.difference([mol_column, 'largest_frag', 'lf_num_frags'])].to_csv(f\"{DATASET_DIR}/dd2_inhibition_pubchem_aid_2302_cleaned.csv\")\n",
    "# dd2_data_df[['PUBCHEM_CID', 'largest_frag_smiles']].to_csv(f\"{DATASET_DIR}/dd2_inhibition_pubchem_aid_2302_largest_frag_cleaned.csv\")\n",
    "\n",
    "\n",
    "# # dd2_data_df.head(2)"
   ]
  },
  {
   "cell_type": "markdown",
   "metadata": {},
   "source": [
    "<p style=\"font-family: cursive; font-size=16px\">As you can see, the target values outside of the [0,100] were fixed\n",
    "    . Moreover, the rows with indices 11041 and 11042 are no longer in the datarame. This is because the corresponding rows have the same inchikeys, but with values that\n",
    "    are more than 20 % apart. </p>"
   ]
  },
  {
   "cell_type": "code",
   "execution_count": 9,
   "metadata": {},
   "outputs": [],
   "source": [
    "# atom_list = dd2_data_df['largest_frag'].apply(lambda mol: list(set([atom.GetAtomicNum() for atom in mol.GetAtoms()])))\n",
    "# atom_list = list(set(utilities.flatten_list(atom_list.values.tolist())))\n",
    "\n",
    "# print(\"List of unique atomic numbers: \",  [f\"{i}:{Chem.Atom(i).GetSymbol()}\" for i in atom_list])\n",
    "\n",
    "atom_list = [35, 6, 7, 8, 9, 15, 16, 17, 53]"
   ]
  },
  {
   "cell_type": "markdown",
   "metadata": {},
   "source": [
    "<p style=\"font-family: cursive; font-size=16px\">Instead of defining a long range of values for possible atomic numbers (e.g.: 1-100), which could lead to a very sparse matrix, we can instead focus on the list of atoms that commonly occur in drug-like compounds. Specifically in this set, we notice that only 9 atoms occur in the list of tested compounds. If we add Hydrogen (which will be expicit), we have a vector of length 10 to represent the atomic number, plus 1 additional bit for unknown atomic numbers.</p>\n",
    "<p style=\"font-family: cursive; font-size=16px\">Le'ts define the atom anf bond featurizers.</p>\n"
   ]
  },
  {
   "cell_type": "code",
   "execution_count": 10,
   "metadata": {},
   "outputs": [
    {
     "data": {
      "text/plain": [
       "20"
      ]
     },
     "execution_count": 10,
     "metadata": {},
     "output_type": "execute_result"
    }
   ],
   "source": [
    "atom_featurizer = featurizers.AtomFeaturizer(\n",
    "    allowable_sets_one_hot={\n",
    "        \"atomic_num\": set(atom_list + [1]),\n",
    "        \"n_valence\": {0, 1, 2, 3, 4, 5, 6},\n",
    "        \"n_hydrogens\": {0, 1, 2, 3, 4},\n",
    "        \"hybridization\": {\"s\", \"sp\", \"sp2\", \"sp3\", \"sp3\", \"sp3d\", \"sp3d2\"},\n",
    "        \"chiral_tag\": {0,1,2,3},\n",
    "        \"is_aromatic\": {True, False},\n",
    "        \"is_in_ring\": {True, False} ,\n",
    "        \"is_in_ring_size_4\": {True, False},\n",
    "        \"is_in_ring_size_5\": {True, False},\n",
    "        \"is_in_ring_size_6\": {True, False}\n",
    "    }\n",
    "    , continuous_props = ['atomic_mass', 'atomic_vdw_radius', 'atomic_covalent_radius']\n",
    ")\n",
    "\n",
    "bond_featurizer = featurizers.BondFeaturizer(\n",
    "    allowable_sets_one_hot={\n",
    "        \"bond_type\": {\"single\", \"double\", \"triple\", \"aromatic\"},\n",
    "        \"conjugated\": {True, False},\n",
    "        \"stereo\": {\"stereonone, stereoz, stereoe, stereocis, stereotrans\"},\n",
    "        \"is_in_ring\": {True, False},\n",
    "        \"is_in_ring_size_5\": {True, False},\n",
    "        \"is_in_ring_size_6\": {True, False}\n",
    "\n",
    "    }\n",
    "\n",
    ")\n",
    "bond_featurizer.dim"
   ]
  },
  {
   "cell_type": "code",
   "execution_count": 11,
   "metadata": {},
   "outputs": [],
   "source": [
    "# print('atom_featurizer = ', atom_featurizer.features_mapping) \n",
    "# print('\\nbond_featurizer = ', bond_featurizer.features_mapping) "
   ]
  },
  {
   "cell_type": "markdown",
   "metadata": {},
   "source": [
    "<h4 style=\"font-family: cursive\"> Data splitting</h4>\n",
    "<p style=\"font-family: cursive; font-size=16px\">We will split the data into train, validation and test sets, using the scaffold splitting method. Small-molecule scaffold splitting, particularly using the Bemis-Murcko scaffold approach, involves identifying and extracting the core structural framework shared among a set of chemical compounds, excluding variable substituents. This process simplifies and abstracts the diverse chemical structures, aiding in the analysis of chemical libraries and structure-activity relationships. The Bemis-Murcko scaffold represents the most conserved structural elements of the compounds.<br/>While scaffold splitting facilitates the identification of key structural motifs,and can enhance model interpretation, it has limitations in handling highly flexible or structurally diverse molecules,and may result in the loss of detailed iformation about specific functional groups or substituents, potentially oversimplifying structure-activity relationships. Moreover, In some cases, scaffold splitting may lead to overly strict splitting criteria, resulting in training, validation, and test sets that are too similar in chemical space.</p>"
   ]
  },
  {
   "cell_type": "code",
   "execution_count": 12,
   "metadata": {},
   "outputs": [],
   "source": [
    "# molecules = dd2_data_df['largest_frag'].values\n",
    "# targets = dd2_data_df[target_column].values\n",
    "\n",
    "# splitter= splitters.ScaffoldSplitter()\n",
    "# train_idx, val_idx, test_idx = splitter.train_val_test_split(molecules=molecules[:], train_ratio=0.8, val_ratio=0.15\n",
    "#                             , test_ratio=0.05, return_as_indices=True, return_as_clusters=False, include_chirality=False\n",
    "#                             , sort_by_size=True, shuffle_idx=True, random_state=seed)\n",
    "\n",
    "# # csplitter = splitters.ClusterSplitter()\n",
    "# # train_idx, val_idx, test_idx = csplitter.train_val_test_split(molecules=molecules[:], train_ratio=0.8, val_ratio=0.1\n",
    "# #                             , test_ratio=0.1, return_as_indices=True, return_as_clusters=False, include_chirality=True\n",
    "# #                             , sort_by_size=True, shuffle_idx=False, random_state=seed, sim_cutoff=0.7)\n",
    "\n",
    "# # kfold_splits = splitter.kfold_split(molecules=molecules[:50], n_folds=3, return_as_indices=False, include_chirality=False\n",
    "# #                             , random_state=1)\n",
    "# # print(f\"fold sizes: {[len(f) for f in kfold_splits]}\")\n",
    "\n",
    "# train_mols, y_train = [molecules[i] for i in train_idx], targets[train_idx]\n",
    "# val_mols, y_val     = [molecules[i] for i in val_idx], targets[val_idx]\n",
    "# test_mols, y_test   = [molecules[i] for i in test_idx], targets[test_idx]\n",
    "\n",
    "# print(f\"Dataset sizes: Train ({len(train_mols)}) - Validation ({len(val_mols)}) - Test ({len(test_mols)})\")\n",
    "\n",
    "\n",
    "# smiles_and_labels = {}\n",
    "# largest_frag_smiles = dd2_data_df['largest_frag_smiles'].values\n",
    "# train_smiles        = [largest_frag_smiles[i] for i in train_idx]\n",
    "# val_smiles          = [largest_frag_smiles[i] for i in val_idx]\n",
    "# test_smiles         = [largest_frag_smiles[i] for i in test_idx]\n",
    "\n",
    "# smiles_and_labels['train'] = (train_smiles, y_train)\n",
    "# smiles_and_labels['val']   = (val_smiles, y_val)\n",
    "# smiles_and_labels['test']  = (test_smiles, y_test)\n",
    "\n",
    "\n",
    "# pickle.dump(smiles_and_labels, open(f'{DATASET_DIR}/dd2_splits_smiles_and_labels.pkl', 'wb'))"
   ]
  },
  {
   "cell_type": "code",
   "execution_count": 13,
   "metadata": {},
   "outputs": [],
   "source": [
    "# Draw.MolsToGridImage(sample(train_mols, 5) +sample(val_mols, 5) + sample(test_mols, 5)\n",
    "#                      , molsPerRow=5, subImgSize=(200, 150)\n",
    "#                      , legends=['train'] * 5 + ['val'] * 5 + ['test'] * 5, highlightAtomLists=None)"
   ]
  },
  {
   "cell_type": "code",
   "execution_count": 14,
   "metadata": {},
   "outputs": [],
   "source": [
    "# smiles_and_labels = pickle.load(open(f'{DATASET_DIR}/dd2_splits_smiles_and_labels.pkl', 'rb'))\n",
    "\n",
    "# train_smiles, y_train = smiles_and_labels['train']\n",
    "# val_smiles, y_val     = smiles_and_labels['val']\n",
    "# test_smiles, y_test   = smiles_and_labels['test']\n",
    "\n",
    "# train_mols = [MolFromSmiles(smi) for smi in train_smiles]\n",
    "# val_mols = [MolFromSmiles(smi) for smi in val_smiles]\n",
    "# test_mols = [MolFromSmiles(smi) for smi in test_smiles]\n"
   ]
  },
  {
   "cell_type": "code",
   "execution_count": 15,
   "metadata": {},
   "outputs": [
    {
     "name": "stdout",
     "output_type": "stream",
     "text": [
      "CPU times: user 85 µs, sys: 38 µs, total: 123 µs\n",
      "Wall time: 130 µs\n"
     ]
    }
   ],
   "source": [
    "%%time\n",
    "# features_ = None\n",
    "features_ = [\n",
    "                'CalcExactMolWt'\n",
    "                , 'CalcTPSA', 'CalcNumAromaticRings', 'CalcNumHBA', 'CalcNumHBD'\n",
    "                , 'CalcNumRotatableBonds'\n",
    "                # , 'CalcChi0n', 'CalcChi0v', 'CalcChi1n', 'CalcChi1v', 'CalcChi2n', 'CalcChi2v'\n",
    "                # , 'CalcChi3n', 'CalcChi3v', 'CalcChi4n', 'CalcChi4v', 'CalcChi0n', 'CalcChi0v'\n",
    "                , 'MolLogP', 'HallKierAlpha', 'qed', 'MaxPartialCharge', 'MinPartialCharge'\n",
    "                # , 'ZagrebIndex'\n",
    "                , 'MoeType'\n",
    "            ]\n",
    "\n",
    "mol_featurizer = featurizers.MoleculeFeaturizer(features = features_, df_func_gps=featurizers.DF_FUNC_GRPS_MINI) #featurizers.DF_FUNC_GRPS\n",
    "\n",
    "# train_dataset  = gnn_utils.get_dataset_from_mol_list(mol_list=train_mols[:], targets=y_train[:]\n",
    "#                                                     , atom_featurizer=atom_featurizer, bond_featurizer=bond_featurizer\n",
    "#                                                     , mol_featurizer=mol_featurizer\n",
    "#                                                     , add_explicit_h=True, compute_global_features=True\n",
    "#                                                     , add_global_feat_to_nodes=False)\n",
    "\n",
    "# # # print(train_dataset[1].x, train_dataset[1].y, train_dataset[1].x[0].shape) \n",
    "# # # if 'global_feats' in train_dataset[1].to_dict():\n",
    "# # #     print(train_dataset[1].global_feats.shape)\n",
    "# # # # train_dataset[1].x[5:10]\n",
    "\n",
    "# # # # s = mol_featurizer.compute_rdkit_properties(train_mols[0])\n",
    "# # # s"
   ]
  },
  {
   "cell_type": "code",
   "execution_count": 16,
   "metadata": {},
   "outputs": [],
   "source": [
    "# val_dataset = gnn_utils.get_dataset_from_mol_list(mol_list=val_mols, targets=y_val\n",
    "#                                                     , atom_featurizer=atom_featurizer, bond_featurizer=bond_featurizer\n",
    "#                                                     , mol_featurizer=mol_featurizer\n",
    "#                                                     , add_explicit_h=True, compute_global_features=True\n",
    "#                                                     , add_global_feat_to_nodes=False)\n",
    "\n",
    "# test_dataset = gnn_utils.get_dataset_from_mol_list(mol_list=test_mols, targets=y_test\n",
    "#                                                     , atom_featurizer=atom_featurizer, bond_featurizer=bond_featurizer\n",
    "#                                                     , mol_featurizer=mol_featurizer\n",
    "#                                                     , add_explicit_h=True, compute_global_features=True\n",
    "#                                                     , add_global_feat_to_nodes=False)"
   ]
  },
  {
   "cell_type": "code",
   "execution_count": 17,
   "metadata": {},
   "outputs": [],
   "source": [
    "# dd2_dataset_fname = f'{DATASET_DIR}/dd2_datasets_objects_.pt'\n",
    "# torch.save({\n",
    "#             \"splitter\": splitter.__class__.__name__\n",
    "#             , \"train\": train_dataset\n",
    "#             , \"val\": val_dataset\n",
    "#             , \"test\": test_dataset\n",
    "#         }          \n",
    "#         , dd2_dataset_fname\n",
    "# )\n",
    "# train_dataset[0]"
   ]
  },
  {
   "cell_type": "code",
   "execution_count": 18,
   "metadata": {},
   "outputs": [],
   "source": [
    "dd2_dataset_fname = f'{DATASET_DIR}/dd2_datasets.pt'\n",
    "dd2_dataset = torch.load(dd2_dataset_fname)  \n",
    "\n",
    "train_dataset = dd2_dataset['train_dataset']\n",
    "val_dataset   = dd2_dataset['val_dataset']\n",
    "test_dataset  = dd2_dataset['test_dataset']"
   ]
  },
  {
   "cell_type": "code",
   "execution_count": 19,
   "metadata": {},
   "outputs": [],
   "source": [
    "from sklearn.preprocessing import MinMaxScaler, StandardScaler\n",
    "\n",
    "batch_size=128\n",
    "train_loader, val_loader, test_loader =datasets.get_dataloaders(train_data=train_dataset, test_data=test_dataset\n",
    "                                                                 , val_data=val_dataset, batch_size=batch_size, shuffle_train=True\n",
    "                                                                 , add_global_feats_to_nodes=False, num_workers=0\n",
    "                                                                  )\n",
    "\n",
    "\n",
    "dd2_loader_fname = f'{DATASET_DIR}/dd2_dataloaders_for_gat.pt'\n",
    "torch.save({'train_loader':train_loader, 'val_loader':val_loader, 'test_loader':test_loader}, dd2_loader_fname)    \n",
    "# list(train_loader)[0].x.shape"
   ]
  },
  {
   "cell_type": "code",
   "execution_count": 20,
   "metadata": {},
   "outputs": [],
   "source": [
    "# dd2_loader_fname = f'{DATASET_DIR}/dd2_dataloaders_for_gats.pt'\n",
    "# dd2_loaders = torch.load(dd2_loader_fname)  \n",
    "\n",
    "# train_loader = dd2_loaders['train_loader']\n",
    "# val_loader   = dd2_loaders['val_loader']\n",
    "# test_loader  = dd2_loaders['test_loader']"
   ]
  },
  {
   "cell_type": "markdown",
   "metadata": {},
   "source": [
    "<h3 style=\"font-family: cursive\">Creating and Training a model</h3>"
   ]
  },
  {
   "cell_type": "code",
   "execution_count": 21,
   "metadata": {},
   "outputs": [
    {
     "name": "stderr",
     "output_type": "stream",
     "text": [
      "[I 2024-10-30 13:32:12,030] A new study created in memory with name: my_gat_study\n"
     ]
    },
    {
     "name": "stdout",
     "output_type": "stream",
     "text": [
      "params = {'task': 'binary_classification', 'in_channels': 159, 'global_fdim': None, 'model': 'graph_nns.GAT', 'gnn_hidden_neurons': 214, 'gnn_nlayers': 2, 'ffn_hidden_neurons': 166, 'ffn_nlayers': 1, 'out_neurons': 1, 'dropout_rate': 0.4929597012454883, 'attn_dropout_rate': 0.23863328134949596, 'activation_func': 'torch.nn.ReLU', 'gpooling_func': 'mean', 'heads': 3, 'edge_dim': 20, 'add_edge_features': True, 'learning_rate': 0.0805923201342874, 'n_epochs': 150, 'criterion': BCELoss(), 'optimizer': \"{'optimizer_type':'torch.optim.SGD', 'weight_decay':1e-3}\", 'scheduler': \"{'lr_scheduler_type':'lr_scheduler.ReduceLROnPlateau', 'mode':'min', 'factor':0.7, 'patience':30, 'threshold':5e-02, 'eps':1e-08}\", 'scoring_func': 'roc_auc_score', 'add_batch_norm': True}\n",
      "Initializing parameters...\n",
      "\toptimizer:  {'state': {}, 'param_groups': [{'lr': 0.0805923201342874, 'momentum': 0, 'dampening': 0, 'weight_decay': 0.001, 'nesterov': False, 'maximize': False, 'foreach': None, 'differentiable': False, 'params': [0, 1, 2, 3, 4, 5, 6, 7, 8, 9, 10, 11, 12, 13, 14, 15, 16, 17]}]}\n",
      "\tlr_scheduler:  {'factor': 0.7, 'min_lrs': [0], 'patience': 30, 'verbose': False, 'cooldown': 0, 'cooldown_counter': 0, 'mode': 'min', 'threshold': 0.05, 'threshold_mode': 'rel', 'best': inf, 'num_bad_epochs': 0, 'mode_worse': inf, 'eps': 1e-08, 'last_epoch': 0}\n",
      "checkpoint dir: None\n",
      "device = cuda\n",
      "TASK: binary_classification\n",
      "\n",
      "===> Epoch    1/150: Average Train Loss: 0.690 |  Average validation Loss: 0.644 | Validation Score: 0.640 | lr: 0.08059\n",
      "\n",
      "===> Epoch   21/150: Average Train Loss: 0.515 |  Average validation Loss: 0.581 | Validation Score: 0.739 | lr: 0.08059\n",
      "\n",
      "===> Epoch   41/150: Average Train Loss: 0.414 |  Average validation Loss: 0.639 | Validation Score: 0.768 | lr: 0.08059\n",
      "\n",
      "===> Epoch   61/150: Average Train Loss: 0.324 |  Average validation Loss: 0.557 | Validation Score: 0.790 | lr: 0.05641\n",
      "\n",
      "===> Epoch   81/150: Average Train Loss: 0.270 |  Average validation Loss: 0.527 | Validation Score: 0.815 | lr: 0.03949\n",
      "\n",
      "===> Epoch  101/150: Average Train Loss: 0.239 |  Average validation Loss: 0.539 | Validation Score: 0.814 | lr: 0.03949\n",
      "\n",
      "===> Epoch  121/150: Average Train Loss: 0.200 |  Average validation Loss: 0.538 | Validation Score: 0.823 | lr: 0.02764\n",
      "\n",
      "===> Epoch  141/150: Average Train Loss: 0.191 |  Average validation Loss: 0.536 | Validation Score: 0.825 | lr: 0.02764\n"
     ]
    },
    {
     "name": "stderr",
     "output_type": "stream",
     "text": [
      "[I 2024-10-30 13:38:38,266] Trial 0 finished with value: 0.8265713780180433 and parameters: {'in_channels': 159, 'model': 'graph_nns.GAT', 'gnn_hidden_neurons': 214, 'gnn_nlayers': 2, 'ffn_hidden_neurons': 166, 'ffn_nlayers': 1, 'out_neurons': 1, 'dropout_rate': 0.4929597012454883, 'attn_dropout_rate': 0.23863328134949596, 'activation_func': 'torch.nn.ReLU', 'gpooling_func': 'mean', 'heads': 3, 'edge_dim': 20, 'learning_rate': 0.0805923201342874, 'n_epochs': 150, 'optimizer': \"{'optimizer_type':'torch.optim.SGD', 'weight_decay':1e-3}\", 'scheduler': \"{'lr_scheduler_type':'lr_scheduler.ReduceLROnPlateau', 'mode':'min', 'factor':0.7, 'patience':30, 'threshold':5e-02, 'eps':1e-08}\", 'scoring_func': 'roc_auc_score'}. Best is trial 0 with value: 0.8265713780180433.\n"
     ]
    },
    {
     "name": "stdout",
     "output_type": "stream",
     "text": [
      "\n",
      "===> Epoch  150/150: Average Train Loss: 0.173 |  Average validation Loss: 0.531 | Validation Score: 0.827 | lr: 0.01935\n",
      "VAL SCORE = 0.8265713780180433\n",
      "params = {'task': 'binary_classification', 'in_channels': 159, 'global_fdim': None, 'model': 'graph_nns.GAT', 'gnn_hidden_neurons': 166, 'gnn_nlayers': 3, 'ffn_hidden_neurons': 246, 'ffn_nlayers': 2, 'out_neurons': 1, 'dropout_rate': 0.2077274467833806, 'attn_dropout_rate': 0.0858754388467166, 'activation_func': 'torch.nn.ReLU', 'gpooling_func': 'mean', 'heads': 3, 'edge_dim': 20, 'add_edge_features': True, 'learning_rate': 0.06627997756187622, 'n_epochs': 150, 'criterion': BCELoss(), 'optimizer': \"{'optimizer_type':'torch.optim.SGD', 'weight_decay':1e-3}\", 'scheduler': \"{'lr_scheduler_type':'lr_scheduler.ReduceLROnPlateau', 'mode':'min', 'factor':0.7, 'patience':30, 'threshold':5e-02, 'eps':1e-08}\", 'scoring_func': 'roc_auc_score', 'add_batch_norm': True}\n",
      "Initializing parameters...\n",
      "\toptimizer:  {'state': {}, 'param_groups': [{'lr': 0.06627997756187622, 'momentum': 0, 'dampening': 0, 'weight_decay': 0.001, 'nesterov': False, 'maximize': False, 'foreach': None, 'differentiable': False, 'params': [0, 1, 2, 3, 4, 5, 6, 7, 8, 9, 10, 11, 12, 13, 14, 15, 16, 17, 18, 19, 20, 21, 22, 23, 24, 25, 26]}]}\n",
      "\tlr_scheduler:  {'factor': 0.7, 'min_lrs': [0], 'patience': 30, 'verbose': False, 'cooldown': 0, 'cooldown_counter': 0, 'mode': 'min', 'threshold': 0.05, 'threshold_mode': 'rel', 'best': inf, 'num_bad_epochs': 0, 'mode_worse': inf, 'eps': 1e-08, 'last_epoch': 0}\n",
      "checkpoint dir: None\n",
      "device = cuda\n",
      "TASK: binary_classification\n",
      "\n",
      "===> Epoch    1/150: Average Train Loss: 0.655 |  Average validation Loss: 0.630 | Validation Score: 0.660 | lr: 0.06628\n",
      "\n",
      "===> Epoch   21/150: Average Train Loss: 0.419 |  Average validation Loss: 0.623 | Validation Score: 0.752 | lr: 0.06628\n",
      "\n",
      "===> Epoch   41/150: Average Train Loss: 0.259 |  Average validation Loss: 0.672 | Validation Score: 0.780 | lr: 0.04640\n",
      "\n",
      "===> Epoch   61/150: Average Train Loss: 0.192 |  Average validation Loss: 0.760 | Validation Score: 0.786 | lr: 0.04640\n",
      "\n",
      "===> Epoch   81/150: Average Train Loss: 0.141 |  Average validation Loss: 0.728 | Validation Score: 0.794 | lr: 0.03248\n",
      "\n",
      "===> Epoch  101/150: Average Train Loss: 0.122 |  Average validation Loss: 0.723 | Validation Score: 0.803 | lr: 0.03248\n",
      "\n",
      "===> Epoch  121/150: Average Train Loss: 0.096 |  Average validation Loss: 0.735 | Validation Score: 0.809 | lr: 0.02273\n",
      "\n",
      "===> Epoch  141/150: Average Train Loss: 0.084 |  Average validation Loss: 0.698 | Validation Score: 0.822 | lr: 0.01591\n"
     ]
    },
    {
     "name": "stderr",
     "output_type": "stream",
     "text": [
      "[I 2024-10-30 13:46:12,773] Trial 1 finished with value: 0.8301157155346766 and parameters: {'in_channels': 159, 'model': 'graph_nns.GAT', 'gnn_hidden_neurons': 166, 'gnn_nlayers': 3, 'ffn_hidden_neurons': 246, 'ffn_nlayers': 2, 'out_neurons': 1, 'dropout_rate': 0.2077274467833806, 'attn_dropout_rate': 0.0858754388467166, 'activation_func': 'torch.nn.ReLU', 'gpooling_func': 'mean', 'heads': 3, 'edge_dim': 20, 'learning_rate': 0.06627997756187622, 'n_epochs': 150, 'optimizer': \"{'optimizer_type':'torch.optim.SGD', 'weight_decay':1e-3}\", 'scheduler': \"{'lr_scheduler_type':'lr_scheduler.ReduceLROnPlateau', 'mode':'min', 'factor':0.7, 'patience':30, 'threshold':5e-02, 'eps':1e-08}\", 'scoring_func': 'roc_auc_score'}. Best is trial 1 with value: 0.8301157155346766.\n"
     ]
    },
    {
     "name": "stdout",
     "output_type": "stream",
     "text": [
      "\n",
      "===> Epoch  150/150: Average Train Loss: 0.082 |  Average validation Loss: 0.694 | Validation Score: 0.830 | lr: 0.01591\n",
      "VAL SCORE = 0.8301157155346766\n",
      "\n",
      "*** We have a better model with val_score = 0.8301157155346766 (> 0.8265713780180433) ***\n",
      "\n",
      "state_dict1 keys = ['conv1.att', 'conv1.bias', 'conv1.lin_l.weight', 'conv1.lin_l.bias', 'conv1.lin_r.weight', 'conv1.lin_r.bias', 'conv1.lin_edge.weight', 'convs.0.att', 'convs.0.bias', 'convs.0.lin_l.weight', 'convs.0.lin_l.bias', 'convs.0.lin_r.weight', 'convs.0.lin_r.bias', 'convs.0.lin_edge.weight', 'ffn.1.weight', 'ffn.1.bias', 'ffn.2.weight', 'ffn.2.bias', 'ffn.2.running_mean', 'ffn.2.running_var', 'ffn.2.num_batches_tracked']\n",
      "state_dict2 keys = ['conv1.att', 'conv1.bias', 'conv1.lin_l.weight', 'conv1.lin_l.bias', 'conv1.lin_r.weight', 'conv1.lin_r.bias', 'conv1.lin_edge.weight', 'convs.0.att', 'convs.0.bias', 'convs.0.lin_l.weight', 'convs.0.lin_l.bias', 'convs.0.lin_r.weight', 'convs.0.lin_r.bias', 'convs.0.lin_edge.weight', 'convs.1.att', 'convs.1.bias', 'convs.1.lin_l.weight', 'convs.1.lin_l.bias', 'convs.1.lin_r.weight', 'convs.1.lin_r.bias', 'convs.1.lin_edge.weight', 'ffn.1.weight', 'ffn.1.bias', 'ffn.2.weight', 'ffn.2.bias', 'ffn.2.running_mean', 'ffn.2.running_var', 'ffn.2.num_batches_tracked', 'final.weight', 'final.bias']\n",
      "modules_are_equal =False\n",
      "\n",
      "params = {'task': 'binary_classification', 'in_channels': 159, 'global_fdim': None, 'model': 'graph_nns.GAT', 'gnn_hidden_neurons': 246, 'gnn_nlayers': 3, 'ffn_hidden_neurons': 214, 'ffn_nlayers': 2, 'out_neurons': 1, 'dropout_rate': 0.34613873716484245, 'attn_dropout_rate': 0.10076979409732582, 'activation_func': 'torch.nn.ReLU', 'gpooling_func': 'mean', 'heads': 1, 'edge_dim': 20, 'add_edge_features': True, 'learning_rate': 0.0782434527656318, 'n_epochs': 200, 'criterion': BCELoss(), 'optimizer': \"{'optimizer_type':'torch.optim.SGD', 'weight_decay':1e-3}\", 'scheduler': \"{'lr_scheduler_type':'lr_scheduler.ReduceLROnPlateau', 'mode':'min', 'factor':0.7, 'patience':30, 'threshold':5e-02, 'eps':1e-08}\", 'scoring_func': 'roc_auc_score', 'add_batch_norm': True}\n",
      "Initializing parameters...\n",
      "\toptimizer:  {'state': {}, 'param_groups': [{'lr': 0.0782434527656318, 'momentum': 0, 'dampening': 0, 'weight_decay': 0.001, 'nesterov': False, 'maximize': False, 'foreach': None, 'differentiable': False, 'params': [0, 1, 2, 3, 4, 5, 6, 7, 8, 9, 10, 11, 12, 13, 14, 15, 16, 17, 18, 19, 20, 21, 22, 23, 24, 25, 26]}]}\n",
      "\tlr_scheduler:  {'factor': 0.7, 'min_lrs': [0], 'patience': 30, 'verbose': False, 'cooldown': 0, 'cooldown_counter': 0, 'mode': 'min', 'threshold': 0.05, 'threshold_mode': 'rel', 'best': inf, 'num_bad_epochs': 0, 'mode_worse': inf, 'eps': 1e-08, 'last_epoch': 0}\n",
      "checkpoint dir: None\n",
      "device = cuda\n",
      "TASK: binary_classification\n",
      "\n",
      "===> Epoch    1/200: Average Train Loss: 0.671 |  Average validation Loss: 0.643 | Validation Score: 0.645 | lr: 0.07824\n",
      "\n",
      "===> Epoch   21/200: Average Train Loss: 0.481 |  Average validation Loss: 0.594 | Validation Score: 0.742 | lr: 0.07824\n",
      "\n",
      "===> Epoch   41/200: Average Train Loss: 0.378 |  Average validation Loss: 0.629 | Validation Score: 0.761 | lr: 0.07824\n",
      "\n",
      "===> Epoch   61/200: Average Train Loss: 0.281 |  Average validation Loss: 0.715 | Validation Score: 0.772 | lr: 0.05477\n",
      "\n",
      "===> Epoch   81/200: Average Train Loss: 0.223 |  Average validation Loss: 0.767 | Validation Score: 0.771 | lr: 0.03834\n",
      "\n",
      "===> Epoch  101/200: Average Train Loss: 0.201 |  Average validation Loss: 0.754 | Validation Score: 0.773 | lr: 0.03834\n",
      "\n",
      "===> Epoch  121/200: Average Train Loss: 0.158 |  Average validation Loss: 0.804 | Validation Score: 0.783 | lr: 0.02684\n",
      "\n",
      "===> Epoch  141/200: Average Train Loss: 0.138 |  Average validation Loss: 0.837 | Validation Score: 0.780 | lr: 0.01879\n",
      "\n",
      "===> Epoch  161/200: Average Train Loss: 0.130 |  Average validation Loss: 0.863 | Validation Score: 0.774 | lr: 0.01879\n",
      "\n",
      "===> Epoch  181/200: Average Train Loss: 0.119 |  Average validation Loss: 0.835 | Validation Score: 0.787 | lr: 0.01315\n"
     ]
    },
    {
     "name": "stderr",
     "output_type": "stream",
     "text": [
      "[I 2024-10-30 13:54:22,288] Trial 2 finished with value: 0.7867472303249173 and parameters: {'in_channels': 159, 'model': 'graph_nns.GAT', 'gnn_hidden_neurons': 246, 'gnn_nlayers': 3, 'ffn_hidden_neurons': 214, 'ffn_nlayers': 2, 'out_neurons': 1, 'dropout_rate': 0.34613873716484245, 'attn_dropout_rate': 0.10076979409732582, 'activation_func': 'torch.nn.ReLU', 'gpooling_func': 'mean', 'heads': 1, 'edge_dim': 20, 'learning_rate': 0.0782434527656318, 'n_epochs': 200, 'optimizer': \"{'optimizer_type':'torch.optim.SGD', 'weight_decay':1e-3}\", 'scheduler': \"{'lr_scheduler_type':'lr_scheduler.ReduceLROnPlateau', 'mode':'min', 'factor':0.7, 'patience':30, 'threshold':5e-02, 'eps':1e-08}\", 'scoring_func': 'roc_auc_score'}. Best is trial 1 with value: 0.8301157155346766.\n"
     ]
    },
    {
     "name": "stdout",
     "output_type": "stream",
     "text": [
      "\n",
      "===> Epoch  200/200: Average Train Loss: 0.112 |  Average validation Loss: 0.823 | Validation Score: 0.787 | lr: 0.01315\n",
      "VAL SCORE = 0.7867472303249173\n",
      "CPU times: user 20min 7s, sys: 2min 3s, total: 22min 11s\n",
      "Wall time: 22min 12s\n"
     ]
    },
    {
     "data": {
      "text/plain": [
       "{'best_params': {'in_channels': 159,\n",
       "  'model': 'graph_nns.GAT',\n",
       "  'gnn_hidden_neurons': 166,\n",
       "  'gnn_nlayers': 3,\n",
       "  'ffn_hidden_neurons': 246,\n",
       "  'ffn_nlayers': 2,\n",
       "  'out_neurons': 1,\n",
       "  'dropout_rate': 0.2077274467833806,\n",
       "  'attn_dropout_rate': 0.0858754388467166,\n",
       "  'activation_func': 'torch.nn.ReLU',\n",
       "  'gpooling_func': 'mean',\n",
       "  'heads': 3,\n",
       "  'edge_dim': 20,\n",
       "  'learning_rate': 0.06627997756187622,\n",
       "  'n_epochs': 150,\n",
       "  'optimizer': \"{'optimizer_type':'torch.optim.SGD', 'weight_decay':1e-3}\",\n",
       "  'scheduler': \"{'lr_scheduler_type':'lr_scheduler.ReduceLROnPlateau', 'mode':'min', 'factor':0.7, 'patience':30, 'threshold':5e-02, 'eps':1e-08}\",\n",
       "  'scoring_func': 'roc_auc_score'},\n",
       " 'best_score': 0.8301157155346766}"
      ]
     },
     "execution_count": 21,
     "metadata": {},
     "output_type": "execute_result"
    }
   ],
   "source": [
    "%%time\n",
    "import sklearn\n",
    "from torch.optim import lr_scheduler\n",
    "\n",
    "in_channels = list(train_loader)[0].x[0].shape[0]\n",
    "global_fdim = list(train_loader)[0].global_feats.shape[1] if 'global_feats' in list(train_loader)[0].to_dict() else None\n",
    "criterion   = BCELoss()\n",
    "\n",
    "exp_params_grid = {\n",
    "    'task': 'binary_classification',\n",
    "    'in_channels' : in_channels, 'global_fdim' : global_fdim,\n",
    "    'model': ['graph_nns.GAT'], #, 'graph_nns.GAT'\n",
    "    # 'gnn_hidden_neurons': [128, 256, 384, 512]\n",
    "    'gnn_hidden_neurons': [150, 250]\n",
    "    , 'gnn_nlayers':[2, 3]\n",
    "    # , 'ffn_hidden_neurons': [64, 128, 256, 384, 512]\n",
    "    , 'ffn_hidden_neurons': [150, 250]\n",
    "    , 'ffn_nlayers': [1, 2], 'out_neurons':1\n",
    "    , 'dropout_rate': [0.2, 0.5], 'attn_dropout_rate': [0.05, 0.3]\n",
    "    , 'activation_func': ['torch.nn.ReLU'], 'gpooling_func' : ['mean']\n",
    "    , 'heads' : [1,3]\n",
    "    , 'edge_dim': bond_featurizer.dim\n",
    "    , 'add_edge_features': True # We take the edge features in consideration, which is not possible with a GCN.\n",
    "    \n",
    "    , 'learning_rate': [5e-2, 1e-1], 'n_epochs': [150, 250] \n",
    "    , 'criterion' : criterion\n",
    "    , 'optimizer' : [\"{'optimizer_type':'torch.optim.SGD', 'weight_decay':1e-3}\"]\n",
    "    , 'scheduler' : [\"{'lr_scheduler_type':'lr_scheduler.ReduceLROnPlateau', 'mode':'min', 'factor':0.7, 'patience':30, 'threshold':5e-02, 'eps':1e-08}\"] \n",
    "    # , 'scheduler' : [\"{'lr_scheduler_type':'lr_scheduler.CyclicLR', 'max_lr':0.15, 'step_size_up':100, 'cycle_momentum':True}\"]\n",
    "    , 'scoring_func': ['roc_auc_score']\n",
    "    , 'add_batch_norm':True\n",
    "\n",
    "}\n",
    "\n",
    "my_hpo = training_utils.OptunaHPO(n_trials=3, n_jobs=1, sampler=None)\n",
    "\n",
    "results = my_hpo.run_optimization(   \n",
    "            train_val_data= [train_loader, val_loader]\n",
    "            , params_grid=exp_params_grid\n",
    "            , optuna_direction='maximize'\n",
    "            , split_mode='classic'\n",
    "            , study_name='my_gat_study'\n",
    "        )\n",
    "# print(\"best_model = \", my_hpo.best_model)\n",
    "results\n"
   ]
  },
  {
   "cell_type": "markdown",
   "metadata": {},
   "source": [
    "<h3 style=\"font-family: cursive\">Evaluating The Best Model</h3>"
   ]
  },
  {
   "cell_type": "markdown",
   "metadata": {},
   "source": [
    "<h4 style=\"font-family: cursive\"> Visualizing Losses and Scores</h4>"
   ]
  },
  {
   "cell_type": "code",
   "execution_count": 22,
   "metadata": {},
   "outputs": [
    {
     "name": "stdout",
     "output_type": "stream",
     "text": [
      "CPU times: user 8 µs, sys: 1e+03 ns, total: 9 µs\n",
      "Wall time: 12.6 µs\n"
     ]
    }
   ],
   "source": [
    "%%time\n",
    "best_params = results['best_params']\n",
    "gat_model = my_hpo.best_model\n",
    "train_losses, val_losses, val_scores = my_hpo.train_val_metadata[\"train_losses\"],  my_hpo.train_val_metadata[\"val_losses\"], my_hpo.train_val_metadata[\"val_scores\"], "
   ]
  },
  {
   "cell_type": "code",
   "execution_count": 23,
   "metadata": {},
   "outputs": [],
   "source": [
    "# list(gat_model.state_dict().keys())"
   ]
  },
  {
   "cell_type": "code",
   "execution_count": 24,
   "metadata": {},
   "outputs": [
    {
     "data": {
      "image/png": "[encoded data removed]",
      "text/plain": [
       "<Figure size 1000x700 with 1 Axes>"
      ]
     },
     "metadata": {},
     "output_type": "display_data"
    }
   ],
   "source": [
    "visuals.plots_train_val_metrics(train_losses=train_losses, val_scores=val_scores\n",
    "                            , val_losses=val_losses, figsize=(10, 7)\n",
    "                            , image_pathname=f\"{DATASET_DIR}/models/dd2_class_gat_stats_gat.jpeg\"\n",
    "                            , val_score_name=best_params['scoring_func'])"
   ]
  },
  {
   "cell_type": "code",
   "execution_count": 25,
   "metadata": {},
   "outputs": [],
   "source": [
    "torch.save(gat_model.state_dict(), f\"{DATASET_DIR}/models/dd2_class_gat_model.pt\")"
   ]
  },
  {
   "cell_type": "markdown",
   "metadata": {},
   "source": [
    "<h4 style=\"font-family: cursive\"> Model Evaluation</h4>"
   ]
  },
  {
   "cell_type": "code",
   "execution_count": 26,
   "metadata": {},
   "outputs": [
    {
     "name": "stdout",
     "output_type": "stream",
     "text": [
      "nr. of predictions =  676\n",
      "\n",
      "ROC AUC Score = 0.718\n",
      "Balanced Acc. = 0.671\n",
      "F1-Score      = 0.744\n",
      "Precision     = 0.73\n",
      "Recall        = 0.757\n"
     ]
    }
   ],
   "source": [
    "from lib import predictions\n",
    "test_pred, test_true = predictions.predict_from_loader(loader=test_loader, model=gat_model\n",
    "                                                     , device='cuda:0'\n",
    "                                                     , return_true_targets=True, desc=\"Predicting...\")\n",
    "\n",
    "threshold = 0.5\n",
    "test_pred_classes = [int(x>threshold) for x in test_pred.squeeze(1)] \n",
    "\n",
    "# # print(test_pred)\n",
    "# print(test_pred_classes)\n",
    "# print(test_true.detach().cpu().numpy())\n",
    "print(\"nr. of predictions = \", len(test_true))\n",
    "\n",
    "print(f\"\\nROC AUC Score = {round(roc_auc_score(test_true.cpu(), test_pred.detach().cpu()),3)}\")\n",
    "print(f\"Balanced Acc. = {round(balanced_accuracy_score(test_true.cpu(), test_pred_classes),3)}\")\n",
    "print(f\"F1-Score      = {round(f1_score(test_true.cpu(), test_pred_classes),3)}\")\n",
    "print(f\"Precision     = {round(precision_score(test_true.cpu(), test_pred_classes),3)}\")\n",
    "print(f\"Recall        = {round(recall_score(test_true.cpu(), test_pred_classes),3)}\")\n",
    "\n",
    "# # s = [test_pred_classes[i] == test_true[i].item() for i in range(len(test_pred_classes))  ]\n",
    "# # print(sum(s)/len(test_pred_classes))\n",
    "\n",
    "# true_pos = [i for i in range(len(test_true)) if test_true[i].item()==1.0 ]\n",
    "# print(\"len(true_pos) = \", len(true_pos))\n",
    "# # r = [test_pred_classes[i] == test_true[i].item() if test_true[i].item()==1.0 for i in range(len(test_pred_classes))  ]\n",
    "\n",
    "# tp = sum( [ test_pred_classes[i] == test_true[i].item()  for i in true_pos])\n",
    "# print(\"tp = \", tp)\n",
    "# tp/len(true_pos)"
   ]
  },
  {
   "cell_type": "markdown",
   "metadata": {},
   "source": [
    "<h5 style=\"font-family: cursive\"> Evaluate using the GNNPredictor</h5>"
   ]
  },
  {
   "cell_type": "code",
   "execution_count": 27,
   "metadata": {},
   "outputs": [],
   "source": [
    "gat_predictor = predictions.GNNPredictor(model=gat_model, atom_featurizer=atom_featurizer\n",
    "                                        , bond_featurizer=bond_featurizer, add_explicit_h=True\n",
    "                                        , mol_featurizer=mol_featurizer\n",
    "                                        , scale_features=True, feature_scaler=StandardScaler()\n",
    "                                        , compute_global_features=True, add_global_feats_to_nodes=True)                                        "
   ]
  },
  {
   "cell_type": "code",
   "execution_count": 28,
   "metadata": {},
   "outputs": [],
   "source": [
    "# gat_model = torch.load(f\"{DATASET_DIR}/models/dd2_class_gat_model.pt\")\n",
    "torch.save(gat_predictor, f\"{DATASET_DIR}/models/dd2_class_gat_predictor.pt\")"
   ]
  },
  {
   "cell_type": "code",
   "execution_count": 29,
   "metadata": {},
   "outputs": [],
   "source": [
    "gat_predictor=torch.load(f\"{DATASET_DIR}/models/dd2_class_gat_predictor.pt\")\n",
    "gat_predictor\n",
    "\n",
    "dd2_loader_fname = f'{DATASET_DIR}/dd2_dataloaders_for_gat.pt'\n",
    "dd2_loaders = torch.load(dd2_loader_fname)  \n",
    "\n",
    "train_loader = dd2_loaders['train_loader']\n",
    "val_loader   = dd2_loaders['val_loader']\n",
    "test_loader  = dd2_loaders['test_loader']"
   ]
  },
  {
   "cell_type": "code",
   "execution_count": 30,
   "metadata": {},
   "outputs": [
    {
     "name": "stdout",
     "output_type": "stream",
     "text": [
      "\n",
      "ROC AUC Score = 0.709\n",
      "Balanced Acc. = 0.663\n",
      "F1-Score      = 0.738\n",
      "Precision     = 0.724\n",
      "Recall        = 0.752\n"
     ]
    }
   ],
   "source": [
    "test_pred, test_true = gat_predictor.predict_from_loader(loader=test_loader\n",
    "                                                     , device='cuda:0', return_true_targets=True, desc=\"Predicting...\")\n",
    "\n",
    "\n",
    "threshold = 0.5\n",
    "test_pred_classes = [int(x>threshold) for x in test_pred.squeeze(1)] \n",
    "# print(test_pred_classes)\n",
    "\n",
    "print(f\"\\nROC AUC Score = {round(roc_auc_score(test_true.cpu(), test_pred.detach().cpu()),3)}\")\n",
    "print(f\"Balanced Acc. = {round(balanced_accuracy_score(test_true.cpu(), test_pred_classes),3)}\")\n",
    "print(f\"F1-Score      = {round(f1_score(test_true.cpu(), test_pred_classes),3)}\")\n",
    "print(f\"Precision     = {round(precision_score(test_true.cpu(), test_pred_classes),3)}\")\n",
    "print(f\"Recall        = {round(recall_score(test_true.cpu(), test_pred_classes),3)}\")"
   ]
  },
  {
   "cell_type": "markdown",
   "metadata": {},
   "source": [
    "<h5 style=\"font-family: cursive\"> Predict DD2 Activity from SMILES</h5>"
   ]
  },
  {
   "cell_type": "code",
   "execution_count": 31,
   "metadata": {},
   "outputs": [
    {
     "name": "stdout",
     "output_type": "stream",
     "text": [
      "RDKIT property calculation: 0.061 seconds.\n"
     ]
    },
    {
     "name": "stderr",
     "output_type": "stream",
     "text": [
      "100%|██████████| 2/2 [00:00<00:00, 18.35it/s]\n"
     ]
    },
    {
     "name": "stdout",
     "output_type": "stream",
     "text": [
      "MORDRED property calculation: 2.794 seconds.\n",
      "len_mol_features: 2\n",
      "Clean features...\n",
      "add_global_feats_to_nodes True\n",
      "dataset after adding global feat:  [Data(x=[13, 159], edge_index=[2, 39], edge_attr=[39, 20]), Data(x=[20, 159], edge_index=[2, 62], edge_attr=[62, 20])]\n",
      "loader:  DataBatch(x=[33, 159], edge_index=[2, 101], edge_attr=[101, 20], batch=[33], ptr=[3])\n",
      "\n",
      "new_preds tensor([[1.],\n",
      "        [1.]], device='cuda:0', grad_fn=<CatBackward0>)\n",
      "pred_classes [1, 1]\n"
     ]
    }
   ],
   "source": [
    "smiles = ['CCC(=O)NCc1nccc1CO', 'O=C(O)c1cccnc1Sc1cc(CCO)c(Cl)cc1']\n",
    "new_preds = gat_predictor.predict_from_smiles_list(smiles_list=smiles, device='cuda:0'\n",
    "                                                , desc=\"Predicting...\")\n",
    "\n",
    "threshold = 0.5\n",
    "pred_classes = [int(x>threshold) for x in new_preds.squeeze(1)]\n",
    "print(\"\\nnew_preds\", new_preds)\n",
    "print(\"pred_classes\", pred_classes)"
   ]
  }
 ],
 "metadata": {
  "kernelspec": {
   "display_name": "chemai-gpu",
   "language": "python",
   "name": "python3"
  },
  "language_info": {
   "codemirror_mode": {
    "name": "ipython",
    "version": 3
   },
   "file_extension": ".py",
   "mimetype": "text/x-python",
   "name": "python",
   "nbconvert_exporter": "python",
   "pygments_lexer": "ipython3",
   "version": "3.9.18"
  }
 },
 "nbformat": 4,
 "nbformat_minor": 2
}
