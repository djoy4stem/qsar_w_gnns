{
 "cells": [
  {
   "cell_type": "code",
   "execution_count": 1,
   "metadata": {},
   "outputs": [],
   "source": [
    "## IPython extension to reload modules before executing user code.\n",
    "# Autorelad is an IPython extension to reload modules before executing user code.\n",
    "%load_ext autoreload\n",
    "\n",
    "# Reload all modules (except those excluded by %aimport) every time before executing the Python code typed.\n",
    "%autoreload 2"
   ]
  },
  {
   "cell_type": "code",
   "execution_count": 2,
   "metadata": {},
   "outputs": [
    {
     "name": "stdout",
     "output_type": "stream",
     "text": [
      "/home/djoy2409-wsl/projects/software_development/qsar_w_gnns/data\n"
     ]
    }
   ],
   "source": [
    "from matplotlib import pyplot as plt\n",
    "\n",
    "import os\n",
    "from os.path import join\n",
    "import sys\n",
    "import pickle\n",
    "from IPython.display import display\n",
    "from PIL import Image\n",
    "\n",
    "ROOT_DIR = os.sep.join(os.path.abspath('.').split(os.sep)[:-2])\n",
    "sys.path.insert(0, ROOT_DIR)\n",
    "DATASET_DIR = \"{}/data\".format(ROOT_DIR)\n",
    "print(DATASET_DIR)"
   ]
  },
  {
   "cell_type": "code",
   "execution_count": 3,
   "metadata": {},
   "outputs": [],
   "source": [
    "from typing import List, Union, Any, Tuple\n",
    "from datetime import datetime\n",
    "from random import sample\n",
    "\n",
    "\n",
    "import pandas as pd\n",
    "import numpy as np\n",
    "from tqdm import tqdm\n",
    "import torch\n",
    "import torch_geometric\n",
    "from torch_geometric.data import Data\n",
    "from torch.nn import BCELoss, LeakyReLU, ReLU\n",
    "from torch.optim import lr_scheduler,Adagrad, Adadelta, Adam, AdamW\n",
    "\n",
    "from rdkit import Chem, RDLogger\n",
    "from rdkit.Chem import Draw, AllChem, PandasTools, MolFromSequence, MolToSmiles, MolToInchiKey, Descriptors, GraphDescriptors\n",
    "from rdkit.Chem import rdMolDescriptors as rdmdesc\n",
    "\n",
    "from joblib import Parallel, delayed\n",
    "\n",
    "RDLogger.DisableLog('rdApp.*')\n",
    "import warnings\n",
    "warnings.filterwarnings(\"ignore\", category=UserWarning)\n",
    "from lib import gnn_utils, utilities, datasets, splitters, featurizers, training_utils, graph_nns, graph_utils\n",
    "\n",
    "\n",
    "from sklearn.metrics import f1_score, roc_auc_score, recall_score, precision_score, balanced_accuracy_score\n",
    "from sklearn.preprocessing import MinMaxScaler, StandardScaler\n",
    "\n",
    "from IPython.display import display, HTML\n"
   ]
  },
  {
   "cell_type": "markdown",
   "metadata": {},
   "source": [
    "<p style=\"font-family: cursive; font-size=14px\">\n",
    "In the following, we will train graph convolutional neural networks (GCN) models to predict whether a compound inhibits of the <em>P. falciparum's</em> DD2 growth.This task is a binary classification.\n",
    "</p>"
   ]
  },
  {
   "cell_type": "markdown",
   "metadata": {},
   "source": [
    "## Notes of Graph Convolutional Networks\n",
    "<span style=\"font-family: cursive; font-size=14px\">\n",
    "<b>Graph Convolutional Networks (GCNs)</b> are a subclass of Graph Neural Networks (GNNs) that apply convolutions to the graph to produce a message, aggregating all neighbors of each node <em>v</em>, including the node itself and aggregating all information. The information. The graph convolution is generally followed by a pooling and/or readout, depending on the intended task (<a href=\"https://arxiv.org/pdf/1901.00596.pdf\">Wu <em>et al.</em> 2019</a>). \n",
    "<ul>\n",
    "<li>The pooling operation aims to reduce the size of parameters by down-sampling the nodes to generate smaller representations and thus avoid overfitting, permutation invariance, and computational complexity issues. A common way to transform each node's information to keep the range of different nodes comparable is through division by the node's degree, since nodes can have different number of neighbors. The authors of the GCN (Kipf et al. in 2016)  noticed that features from nodes with a lot of neighbors will spread much more easily than those from more isolated nodes. To counterbalance this effect, they proposed to give bigger weights to features from nodes with few neighbors.</li>\n",
    "<li>The readout operation is mainly used to generate a graph-level representation based on node representations.</li>\n",
    "</ul>\n",
    "<br/>\n",
    "<div class=\"image-title\" style=\"text-align: center;\">\n",
    "    <img src=\"../../data/figures/gcn.png\" width=\"850\" height=\"400\" alt=\"Wu et al.(2019)\">\n",
    "    <p style=\"font-size: 12px;\">Wu <em>et al.</em>(2019)</p>\n",
    "</div>\n",
    "<br> CGNs provides several advantages, including:\n",
    "<ol>\n",
    "<li><b>Local Information Aggregation:</b> GCNs effectively capture local graph structure by aggregating information from neighboring nodes. This allows them to model node relationships within the immediate vicinity.</li>\n",
    "<li><b>Parameter Sharing:</b>The graph convolution operation involves parameter sharing, meaning that the same set of weights is applied to all nodes in the graph. This sharing of parameters helps the model generalize well to different parts of the graph.</li>\n",
    "</ol>\n",
    "\n",
    "<br/>GCNs can suffer some limitations, regarding:\n",
    "<ol>\n",
    "<li><b>Depth and Over-Smoothing:</b> Deep GCNs may suffer from over-smoothing, where the representations of nodes become too similar after several layers, especially in the presence of large graphs.</li>\n",
    "<li><b>Handling Graphs with Different Sizes:</b> GCNs assume a fixed-size neighborhood for each node. Handling graphs with varying sizes or irregular structures can be challenging, as the fixed-size aggregation may not capture the full extent of node relationships.</li>\n",
    "<li><b>Sensitivity to Graph Perturbations:</b> This sensitivity may limit their robustness to noise or changes in the graph topology.</li>\n",
    "<li><b>Lack of Edge Information:</b> For tasks that heavily rely on edge features, other GNN architectures like GraphSAGE or GAT may be more suitable.</li>\n",
    "<li><b>Difficulty with Unattributed Graphs: </b> GCNs assume node features as input. For graphs without node features (unattributed graphs), they may not perform as well, and alternative architectures like Graph Isomorphism Networks (GIN) or GraphSAGE might be considered.</li>\n",
    "</ol>\n",
    "Moreover, mean-based aggregation, which is not injective. This means that different graphs can have the same embedding and thus, be undistinguisheable. Examples of GNNs thatt have been proposed to overcome the limitations of GCNs include Graph Isomorphism Neetworks (GINs), Graph Attention Networks (GATs), etc.\n",
    "\n",
    "<br/>Good resources for learning abour GNNs inlcude:\n",
    "<ol>\n",
    "<li><a href=\"https://distill.pub/2021/understanding-gnns/\">Understanding Convolutions on Graphs</a>\n",
    "<li> <a href=\"https://github.com/chaitjo/geometric-gnn-dojo/tree/main\">geometric-gnn-dojo</a>. Check the geometric_gnn_101.ipynb</li>\n",
    "<li><a href=\"https://github.com/qbxlvnf11/graph-neural-networks-for-graph-classification\">graph-neural-networks-for-graph-classification</a>\n",
    "</ol>\n",
    "</span>"
   ]
  },
  {
   "cell_type": "markdown",
   "metadata": {},
   "source": [
    "<h3 style=\"font-family: cursive\">Data Preparation</h4>"
   ]
  },
  {
   "cell_type": "markdown",
   "metadata": {},
   "source": [
    "<h4 style=\"font-family: cursive\">Dataset Cleaning</h4>\n",
    "<p style=\"font-family: cursive; font-size=14px\">\n",
    "The dataset was obtained from the PubChem Biossay AID 2302. It was used as example in the paper by [Chakravarti and Mani Alla (2019); Frontiers in Artificial Intelligence, 2, DOI: 10.3389/frai.2019.00017](https://www.frontiersin.org/articles/10.3389/frai.2019.00017/full). </p>\n"
   ]
  },
  {
   "cell_type": "code",
   "execution_count": 4,
   "metadata": {},
   "outputs": [
    {
     "name": "stdout",
     "output_type": "stream",
     "text": [
      "Number of molecules with a missing SMILES string: 13/13533\n"
     ]
    },
    {
     "data": {
      "text/html": [
       "<div>\n",
       "<style scoped>\n",
       "    .dataframe tbody tr th:only-of-type {\n",
       "        vertical-align: middle;\n",
       "    }\n",
       "\n",
       "    .dataframe tbody tr th {\n",
       "        vertical-align: top;\n",
       "    }\n",
       "\n",
       "    .dataframe thead th {\n",
       "        text-align: right;\n",
       "    }\n",
       "</style>\n",
       "<table border=\"1\" class=\"dataframe\">\n",
       "  <thead>\n",
       "    <tr style=\"text-align: right;\">\n",
       "      <th></th>\n",
       "      <th>PUBCHEM_SID</th>\n",
       "      <th>PUBCHEM_CID</th>\n",
       "      <th>PUBCHEM_EXT_DATASOURCE_SMILES</th>\n",
       "      <th>PUBCHEM_ACTIVITY_OUTCOME</th>\n",
       "      <th>PCT_INHIB_DD2</th>\n",
       "      <th>DD2_ACTIVITY_CLS</th>\n",
       "      <th>RMol</th>\n",
       "    </tr>\n",
       "  </thead>\n",
       "  <tbody>\n",
       "    <tr>\n",
       "      <th>0</th>\n",
       "      <td>85857918</td>\n",
       "      <td>11957475.0</td>\n",
       "      <td>C1CN(CCN1CC(C(C2=CC=CC=C2)C3=CC=CC=C3)O)C4=CC(...</td>\n",
       "      <td>Inactive</td>\n",
       "      <td>4.0</td>\n",
       "      <td>0</td>\n",
       "      <td>&lt;rdkit.Chem.rdchem.Mol object at 0x7f28e18e5dd0&gt;</td>\n",
       "    </tr>\n",
       "    <tr>\n",
       "      <th>1</th>\n",
       "      <td>85857919</td>\n",
       "      <td>6618861.0</td>\n",
       "      <td>C1CN(CC=C1C2=CNC3=CC=CC=C32)CC4=CC=CC=C4</td>\n",
       "      <td>Active</td>\n",
       "      <td>80.0</td>\n",
       "      <td>1</td>\n",
       "      <td>&lt;rdkit.Chem.rdchem.Mol object at 0x7f28e18e5eb0&gt;</td>\n",
       "    </tr>\n",
       "  </tbody>\n",
       "</table>\n",
       "</div>"
      ],
      "text/plain": [
       "   PUBCHEM_SID  PUBCHEM_CID  \\\n",
       "0     85857918   11957475.0   \n",
       "1     85857919    6618861.0   \n",
       "\n",
       "                       PUBCHEM_EXT_DATASOURCE_SMILES PUBCHEM_ACTIVITY_OUTCOME  \\\n",
       "0  C1CN(CCN1CC(C(C2=CC=CC=C2)C3=CC=CC=C3)O)C4=CC(...                 Inactive   \n",
       "1           C1CN(CC=C1C2=CNC3=CC=CC=C32)CC4=CC=CC=C4                   Active   \n",
       "\n",
       "   PCT_INHIB_DD2  DD2_ACTIVITY_CLS  \\\n",
       "0            4.0                 0   \n",
       "1           80.0                 1   \n",
       "\n",
       "                                               RMol  \n",
       "0  <rdkit.Chem.rdchem.Mol object at 0x7f28e18e5dd0>  \n",
       "1  <rdkit.Chem.rdchem.Mol object at 0x7f28e18e5eb0>  "
      ]
     },
     "execution_count": 4,
     "metadata": {},
     "output_type": "execute_result"
    }
   ],
   "source": [
    "dd2_data_df   = pd.read_csv(f\"{DATASET_DIR}/dd2_inhibition_pubchem_aid_2302.csv\") #.sample(n=1000)\n",
    "smiles_column = \"PUBCHEM_EXT_DATASOURCE_SMILES\"\n",
    "# target_column = \"PCT_INHIB_DD2\"\n",
    "target_column = \"DD2_ACTIVITY_CLS\"\n",
    "mol_column    = 'RMol'\n",
    "\n",
    "print(f\"Number of molecules with a missing SMILES string: {dd2_data_df[smiles_column].isna().sum()}/{dd2_data_df.shape[0]}\")\n",
    "\n",
    "# Removing rows with a missing SMILES string\n",
    "dd2_data_df.dropna(subset=[smiles_column], axis=0, inplace=True)\n",
    "\n",
    "\n",
    "# Remove rows where is not defined\n",
    "dd2_data_df.dropna(subset=['PUBCHEM_ACTIVITY_OUTCOME'], axis=0, inplace=True)\n",
    "\n",
    "# Add a column with 0/1 activity values\n",
    "dd2_data_df[target_column] = dd2_data_df['PUBCHEM_ACTIVITY_OUTCOME'].apply(lambda x: 1 if x =='Active' else 0)\n",
    "\n",
    "\n",
    "# Adding molecule (Mol) objects to the dataframe\n",
    "PandasTools.AddMoleculeColumnToFrame(dd2_data_df, smiles_column, mol_column)\n",
    "\n",
    "dd2_data_df.head(2)"
   ]
  },
  {
   "cell_type": "markdown",
   "metadata": {},
   "source": [
    "<span style=\"font-family: cursive; font-size=16px\">\n",
    "Beside removing rows with an empty SMILES, we will proceed with the following steps:\n",
    "<ol>\n",
    "    <li>Select the largest fragment for each molecule, which will also remove slats, among others. We will use the SMILES and inchikeys of the fragment.</li>\n",
    "    <li>Sanitize the retained molecule</li>\n",
    "    <li>Fix the target values. Negative values are set to 0 and values greater than 100 are set to 100</li>\n",
    "    <li>Remove duplicates, using the inchikey as primary key. For each group of duplicates: </li>\n",
    "        <ol>\n",
    "            <li>If the min and max values are apart by 20 or more, omit and proceed to the next group</li>\n",
    "            <li>Else, retain the first occurrence but replace the target value by an average</li>\n",
    "            <li>It is worth mentioning that duplicate removal is usually a more involved process, where outliers can be detected and removed using a statisical approach, before averaging the taarget value.</li>\n",
    "        </ol>\n",
    "</ol>\n",
    "</span>"
   ]
  },
  {
   "cell_type": "code",
   "execution_count": 5,
   "metadata": {},
   "outputs": [
    {
     "name": "stdout",
     "output_type": "stream",
     "text": [
      "Number of molecules with a missing largest fragment SMILES string: 0/13520\n",
      "Number of unique inchikeys: 13451/13520\n",
      "Number of duplicates inchikeys: 136 - e.g.: Index([11041, 11042], dtype='int64')\n",
      "Number of molecules with a negative target value: 0/13520 - e.g.:Index([], dtype='int64')\n",
      "Number of molecules with target value>100: 0/13520 - e.g.:Index([], dtype='int64')\n"
     ]
    }
   ],
   "source": [
    "dd2_data_df['largest_frag']        = dd2_data_df[mol_column].apply(utilities.get_largest_fragment_from_mol)\n",
    "\n",
    "dd2_data_df['largest_frag_smiles'] = dd2_data_df['largest_frag'].apply(lambda mol: MolToSmiles(utilities.sanitize_molecule(mol, add_explicit_h=True)))\n",
    "\n",
    "dd2_data_df.dropna(subset=['largest_frag_smiles'], axis=0, inplace=True)\n",
    "\n",
    "\n",
    "dd2_data_df['largest_frag_ikey'] = dd2_data_df['largest_frag'].apply(MolToInchiKey)\n",
    "duplicates = dd2_data_df[dd2_data_df.duplicated(subset=['largest_frag_ikey'], keep=False)].sort_values(by='largest_frag_ikey')\n",
    "\n",
    "print(f\"Number of molecules with a missing largest fragment SMILES string: {dd2_data_df['largest_frag_smiles'].isna().sum()}/{dd2_data_df.shape[0]}\")\n",
    "\n",
    "print(f\"Number of unique inchikeys: {dd2_data_df['largest_frag_ikey'].unique().size}/{dd2_data_df.shape[0]}\")\n",
    "print(f\"Number of duplicates inchikeys: {duplicates.shape[0]} - e.g.: {duplicates.index[:2]}\")\n",
    "print(f\"Number of molecules with a negative target value: {dd2_data_df[dd2_data_df[target_column]<0].shape[0]}/{dd2_data_df.shape[0]} - e.g.:{dd2_data_df[dd2_data_df[target_column]<0].index[:2]}\")\n",
    "print(f\"Number of molecules with target value>100: {dd2_data_df[dd2_data_df[target_column]>100].shape[0]}/{dd2_data_df.shape[0]} - e.g.:{dd2_data_df[dd2_data_df[target_column]>100].index[:2]}\")\n",
    "# dd2_data_df[['PUBCHEM_CID', 'largest_frag_ikey', target_column]].loc[[8,9,272, 458, 11041, 11042],:]\n",
    "\n"
   ]
  },
  {
   "cell_type": "code",
   "execution_count": 6,
   "metadata": {},
   "outputs": [
    {
     "name": "stdout",
     "output_type": "stream",
     "text": [
      "Empty DataFrame\n",
      "Columns: [PUBCHEM_SID, PUBCHEM_CID, PUBCHEM_EXT_DATASOURCE_SMILES, PUBCHEM_ACTIVITY_OUTCOME, PCT_INHIB_DD2, DD2_ACTIVITY_CLS, RMol, largest_frag, largest_frag_smiles, largest_frag_ikey, lf_num_frags]\n",
      "Index: []\n"
     ]
    }
   ],
   "source": [
    "\n",
    "dd2_data_df['lf_num_frags'] = dd2_data_df['largest_frag'].apply(lambda x: len(Chem.GetMolFrags(x)))\n",
    "print(dd2_data_df[dd2_data_df['lf_num_frags']>1])"
   ]
  },
  {
   "cell_type": "code",
   "execution_count": 7,
   "metadata": {},
   "outputs": [
    {
     "name": "stdout",
     "output_type": "stream",
     "text": [
      " Unique target values = [0 1]\n"
     ]
    }
   ],
   "source": [
    "print(f\" Unique target values = {dd2_data_df[target_column].unique()}\")\n",
    "\n",
    "dd2_data_df['PUBCHEM_CID'] = dd2_data_df['PUBCHEM_CID'].astype(int)\n",
    "\n",
    "dd2_data_df[dd2_data_df.columns.difference([mol_column, 'largest_frag', 'lf_num_frags'])].to_csv(f\"{DATASET_DIR}/dd2_inhibition_pubchem_aid_2302_cleaned.csv\")\n",
    "dd2_data_df[['PUBCHEM_CID', 'largest_frag_smiles']].to_csv(f\"{DATASET_DIR}/dd2_inhibition_pubchem_aid_2302_largest_frag_cleaned.csv\")\n",
    "\n",
    "\n",
    "# dd2_data_df.head(2)"
   ]
  },
  {
   "cell_type": "code",
   "execution_count": 8,
   "metadata": {},
   "outputs": [],
   "source": [
    "# print(11041 in dd2_data_df.index)\n",
    "# print(11042 in dd2_data_df.index)\n",
    "\n",
    "# dd2_data_df[['PUBCHEM_CID', 'largest_frag_ikey', target_column]].loc[[8,9,272, 458],:]"
   ]
  },
  {
   "cell_type": "markdown",
   "metadata": {},
   "source": [
    "<p style=\"font-family: cursive; font-size=16px\">As you can see, the target values outside of the [0,100] were fixed\n",
    "    . Moreover, the rows with indices 11041 and 11042 are no longer in the datarame. This is because the corresponding rows have the same inchikeys, but with values that\n",
    "    are more than 20 % apart. </p>"
   ]
  },
  {
   "cell_type": "code",
   "execution_count": 9,
   "metadata": {},
   "outputs": [
    {
     "name": "stdout",
     "output_type": "stream",
     "text": [
      "atom_list:  [35, 6, 7, 8, 9, 15, 16, 17, 53]\n",
      "List of unique atomic numbers:  ['35:Br', '6:C', '7:N', '8:O', '9:F', '15:P', '16:S', '17:Cl', '53:I']\n"
     ]
    }
   ],
   "source": [
    "atom_list = dd2_data_df['largest_frag'].apply(lambda mol: list(set([atom.GetAtomicNum() for atom in mol.GetAtoms()])))\n",
    "atom_list = list(set(utilities.flatten_list(atom_list.values.tolist())))\n",
    "\n",
    "print(\"atom_list: \", atom_list)\n",
    "\n",
    "print(\"List of unique atomic numbers: \",  [f\"{i}:{Chem.Atom(i).GetSymbol()}\" for i in atom_list])"
   ]
  },
  {
   "cell_type": "markdown",
   "metadata": {},
   "source": [
    "<p style=\"font-family: cursive; font-size=16px\">Instead of defining a long range of values for possible atomic numbers (e.g.: 1-100), which could lead to a very sparse matrix, we can instead focus on the list of atoms that commonly occur in drug-like compounds. Specifically in this set, we notice that only 9 atoms occur in the list of tested compounds. If we add Hydrogen (which will be expicit), we have a vector of length 10 to represent the atomic number, plus 1 additional bit for unknown atomic numbers.</p>\n",
    "<p style=\"font-family: cursive; font-size=16px\">Le'ts define the atom anf bond featurizers.</p>\n"
   ]
  },
  {
   "cell_type": "code",
   "execution_count": 10,
   "metadata": {},
   "outputs": [],
   "source": [
    "atom_featurizer = featurizers.AtomFeaturizer(\n",
    "    allowable_sets_one_hot={\n",
    "        \"atomic_num\": set(atom_list + [1]),\n",
    "        \"n_valence\": {0, 1, 2, 3, 4, 5, 6},\n",
    "        \"n_hydrogens\": {0, 1, 2, 3, 4},\n",
    "        \"hybridization\": {\"s\", \"sp\", \"sp2\", \"sp3\", \"sp3\", \"sp3d\", \"sp3d2\"},\n",
    "        \"chiral_tag\": {0,1,2,3},\n",
    "        \"is_aromatic\": {True, False},\n",
    "        \"is_in_ring\": {True, False} ,\n",
    "        \"is_in_ring_size_4\": {True, False},\n",
    "        \"is_in_ring_size_5\": {True, False},\n",
    "        \"is_in_ring_size_6\": {True, False}\n",
    "    }\n",
    "    , continuous_props = ['atomic_mass', 'atomic_vdw_radius', 'atomic_covalent_radius']\n",
    ")\n",
    "\n",
    "bond_featurizer = featurizers.BondFeaturizer(\n",
    "    allowable_sets_one_hot={\n",
    "        \"bond_type\": {\"single\", \"double\", \"triple\", \"aromatic\"},\n",
    "        \"conjugated\": {True, False},\n",
    "        \"stereo\": {\"stereonone, stereoz, stereoe, stereocis, stereotrans\"}\n",
    "    }\n",
    ")"
   ]
  },
  {
   "cell_type": "code",
   "execution_count": 11,
   "metadata": {},
   "outputs": [
    {
     "name": "stdout",
     "output_type": "stream",
     "text": [
      "atom_featurizer =  {'atomic_num': {1: 0, 6: 1, 7: 2, 8: 3, 9: 4, 15: 5, 16: 6, 17: 7, 35: 8, 53: 9, 'unk': 10}, 'n_valence': {0: 11, 1: 12, 2: 13, 3: 14, 4: 15, 5: 16, 6: 17, 'unk': 18}, 'n_hydrogens': {0: 19, 1: 20, 2: 21, 3: 22, 4: 23, 'unk': 24}, 'hybridization': {'s': 25, 'sp': 26, 'sp2': 27, 'sp3': 28, 'sp3d': 29, 'sp3d2': 30, 'unk': 31}, 'chiral_tag': {0: 32, 1: 33, 2: 34, 3: 35, 'unk': 36}, 'is_aromatic': {False: 37, True: 38, 'unk': 39}, 'is_in_ring': {False: 40, True: 41, 'unk': 42}, 'is_in_ring_size_4': {False: 43, True: 44, 'unk': 45}, 'is_in_ring_size_5': {False: 46, True: 47, 'unk': 48}, 'is_in_ring_size_6': {False: 49, True: 50, 'unk': 51}, 'atomic_mass': 52, 'atomic_vdw_radius': 53, 'atomic_covalent_radius': 54}\n",
      "\n",
      "bond_featurizer =  {'bond_type': {'aromatic': 0, 'double': 1, 'single': 2, 'triple': 3, 'unk': 4}, 'conjugated': {False: 5, True: 6, 'unk': 7}, 'stereo': {'stereonone, stereoz, stereoe, stereocis, stereotrans': 8, 'unk': 9}}\n"
     ]
    }
   ],
   "source": [
    "print('atom_featurizer = ', atom_featurizer.features_mapping) \n",
    "print('\\nbond_featurizer = ', bond_featurizer.features_mapping) "
   ]
  },
  {
   "cell_type": "code",
   "execution_count": 12,
   "metadata": {},
   "outputs": [],
   "source": [
    "seed = 23332\n",
    "utilities.set_seeds(seed=seed)"
   ]
  },
  {
   "cell_type": "markdown",
   "metadata": {},
   "source": [
    "<h4 style=\"font-family: cursive\"> Data splitting</h4>\n",
    "<p style=\"font-family: cursive; font-size=16px\">We will split the data into train, validation and test sets, using the scaffold splitting method. Small-molecule scaffold splitting, particularly using the Bemis-Murcko scaffold approach, involves identifying and extracting the core structural framework shared among a set of chemical compounds, excluding variable substituents. This process simplifies and abstracts the diverse chemical structures, aiding in the analysis of chemical libraries and structure-activity relationships. The Bemis-Murcko scaffold represents the most conserved structural elements of the compounds.<br/>While scaffold splitting facilitates the identification of key structural motifs,and can enhance model interpretation, it has limitations in handling highly flexible or structurally diverse molecules,and may result in the loss of detailed iformation about specific functional groups or substituents, potentially oversimplifying structure-activity relationships. Moreover, In some cases, scaffold splitting may lead to overly strict splitting criteria, resulting in training, validation, and test sets that are too similar in chemical space.</p>"
   ]
  },
  {
   "cell_type": "code",
   "execution_count": 13,
   "metadata": {},
   "outputs": [
    {
     "name": "stdout",
     "output_type": "stream",
     "text": [
      "Dataset sizes: Train (10816) - Validation (2028) - Test (676)\n"
     ]
    }
   ],
   "source": [
    "molecules = dd2_data_df['largest_frag'].values\n",
    "targets = dd2_data_df[target_column].values\n",
    "\n",
    "splitter= splitters.ScaffoldSplitter()\n",
    "train_idx, val_idx, test_idx = splitter.train_val_test_split(molecules=molecules[:], train_ratio=0.8, val_ratio=0.15\n",
    "                            , test_ratio=0.05, return_as_indices=True, return_as_clusters=False, include_chirality=False\n",
    "                            , sort_by_size=True, shuffle_idx=True, random_state=seed)\n",
    "\n",
    "# csplitter = splitters.ClusterSplitter()\n",
    "# train_idx, val_idx, test_idx = csplitter.train_val_test_split(molecules=molecules[:], train_ratio=0.8, val_ratio=0.1\n",
    "#                             , test_ratio=0.1, return_as_indices=True, return_as_clusters=False, include_chirality=True\n",
    "#                             , sort_by_size=True, shuffle_idx=False, random_state=seed, sim_cutoff=0.7)\n",
    "\n",
    "# kfold_splits = splitter.kfold_split(molecules=molecules[:50], n_folds=3, return_as_indices=False, include_chirality=False\n",
    "#                             , random_state=1)\n",
    "# print(f\"fold sizes: {[len(f) for f in kfold_splits]}\")\n",
    "\n",
    "train_mols, y_train = [molecules[i] for i in train_idx], targets[train_idx]\n",
    "val_mols, y_val     = [molecules[i] for i in val_idx], targets[val_idx]\n",
    "test_mols, y_test   = [molecules[i] for i in test_idx], targets[test_idx]\n",
    "\n",
    "print(f\"Dataset sizes: Train ({len(train_mols)}) - Validation ({len(val_mols)}) - Test ({len(test_mols)})\")\n",
    "\n",
    "\n",
    "smiles_and_labels = {}\n",
    "largest_frag_smiles = dd2_data_df['largest_frag_smiles'].values\n",
    "train_smiles        = [largest_frag_smiles[i] for i in train_idx]\n",
    "val_smiles          = [largest_frag_smiles[i] for i in val_idx]\n",
    "test_smiles         = [largest_frag_smiles[i] for i in test_idx]\n",
    "\n",
    "smiles_and_labels['train'] = (train_smiles, y_train)\n",
    "smiles_and_labels['val']   = (val_smiles, y_val)\n",
    "smiles_and_labels['test']  = (test_smiles, y_test)\n",
    "\n",
    "\n",
    "pickle.dump(smiles_and_labels, open(f'{DATASET_DIR}/dd2_splits_smiles_and_labels.pkl', 'wb'))"
   ]
  },
  {
   "cell_type": "code",
   "execution_count": 14,
   "metadata": {},
   "outputs": [
    {
     "data": {
      "image/png": "[encoded data removed]",
      "text/plain": [
       "<IPython.core.display.Image object>"
      ]
     },
     "execution_count": 14,
     "metadata": {},
     "output_type": "execute_result"
    }
   ],
   "source": [
    "Draw.MolsToGridImage(sample(train_mols, 5) + sample(val_mols, 5) + sample(test_mols, 5)\n",
    "                     , molsPerRow=5, subImgSize=(200, 150)\n",
    "                     , legends=['train'] * 5 + ['val'] * 5 + ['test'] * 5, highlightAtomLists=None)"
   ]
  },
  {
   "cell_type": "markdown",
   "metadata": {},
   "source": [
    "<h4 style=\"font-family: cursive\">Featurization and Loaders</h4>"
   ]
  },
  {
   "cell_type": "code",
   "execution_count": 15,
   "metadata": {},
   "outputs": [
    {
     "name": "stdout",
     "output_type": "stream",
     "text": [
      "RDKIT property calculation: 58.423 seconds.\n"
     ]
    },
    {
     "name": "stderr",
     "output_type": "stream",
     "text": [
      "100%|██████████| 10816/10816 [00:19<00:00, 543.64it/s]\n"
     ]
    },
    {
     "name": "stdout",
     "output_type": "stream",
     "text": [
      "MORDRED property calculation: 20.726 seconds.\n",
      "len_mol_features: 10816\n",
      "CPU times: user 1min 26s, sys: 4.06 s, total: 1min 30s\n",
      "Wall time: 1min 34s\n"
     ]
    },
    {
     "data": {
      "text/plain": [
       "(torch.Size([22, 55]), 40)"
      ]
     },
     "execution_count": 15,
     "metadata": {},
     "output_type": "execute_result"
    }
   ],
   "source": [
    "%%time\n",
    "# features_ = None\n",
    "features_ = [\n",
    "                'CalcExactMolWt'\n",
    "                , 'CalcTPSA', 'CalcNumAromaticRings', 'CalcNumHBA', 'CalcNumHBD'\n",
    "                , 'CalcNumRotatableBonds'\n",
    "                # , 'CalcChi0n', 'CalcChi0v', 'CalcChi1n', 'CalcChi1v', 'CalcChi2n', 'CalcChi2v'\n",
    "                # , 'CalcChi3n', 'CalcChi3v', 'CalcChi4n', 'CalcChi4v', 'CalcChi0n', 'CalcChi0v'\n",
    "                , 'MolLogP', 'HallKierAlpha', 'qed', 'MaxPartialCharge', 'MinPartialCharge'\n",
    "                # , 'ZagrebIndex'\n",
    "                , 'MoeType'\n",
    "            \n",
    "            ]\n",
    "\n",
    "mol_featurizer = featurizers.MoleculeFeaturizer(features = features_, df_func_gps=featurizers.DF_FUNC_GRPS_MINI) # featurizers.DF_FUNC_GRPS\n",
    "\n",
    "train_dataset  = gnn_utils.get_dataset_from_mol_list(mol_list=train_mols[:], targets=y_train[:]\n",
    "                                                    , atom_featurizer=atom_featurizer, bond_featurizer=bond_featurizer\n",
    "                                                    , mol_featurizer=mol_featurizer\n",
    "                                                    , add_explicit_h=False, compute_global_features=True\n",
    "                                                    , add_global_feat_to_nodes=False)\n",
    "\n",
    "# print(train_dataset[1].x, train_dataset[1].y, train_dataset[1].x[0].shape) \n",
    "# if 'global_feats' in train_dataset[1].to_dict():\n",
    "#     print( train_dataset[1].global_feats)\n",
    "# train_dataset[1].x[5:10]\n",
    "\n",
    "# s = mol_featurizer.compute_rdkit_properties(train_mols[0])\n",
    "# s\n",
    "\n",
    "train_dataset[1].x.shape, len(featurizers.DF_FUNC_GRPS_MINI)"
   ]
  },
  {
   "cell_type": "code",
   "execution_count": 16,
   "metadata": {},
   "outputs": [
    {
     "name": "stdout",
     "output_type": "stream",
     "text": [
      "RDKIT property calculation: 10.915 seconds.\n"
     ]
    },
    {
     "name": "stderr",
     "output_type": "stream",
     "text": [
      "100%|██████████| 2028/2028 [00:03<00:00, 536.39it/s]\n"
     ]
    },
    {
     "name": "stdout",
     "output_type": "stream",
     "text": [
      "MORDRED property calculation: 4.275 seconds.\n",
      "len_mol_features: 2028\n",
      "RDKIT property calculation: 2.861 seconds.\n"
     ]
    },
    {
     "name": "stderr",
     "output_type": "stream",
     "text": [
      "100%|██████████| 676/676 [00:01<00:00, 490.08it/s]\n"
     ]
    },
    {
     "name": "stdout",
     "output_type": "stream",
     "text": [
      "MORDRED property calculation: 1.822 seconds.\n",
      "len_mol_features: 676\n"
     ]
    }
   ],
   "source": [
    "val_dataset = gnn_utils.get_dataset_from_mol_list(mol_list=val_mols, targets=y_val\n",
    "                                                    , atom_featurizer=atom_featurizer, bond_featurizer=bond_featurizer\n",
    "                                                    , mol_featurizer=mol_featurizer\n",
    "                                                    , add_explicit_h=False, compute_global_features=True\n",
    "                                                    , add_global_feat_to_nodes=False)\n",
    "\n",
    "test_dataset = gnn_utils.get_dataset_from_mol_list(mol_list=test_mols, targets=y_test\n",
    "                                                    , atom_featurizer=atom_featurizer, bond_featurizer=bond_featurizer\n",
    "                                                    , mol_featurizer=mol_featurizer\n",
    "                                                    , add_explicit_h=False, compute_global_features=True\n",
    "                                                    , add_global_feat_to_nodes=False)\n",
    "\n",
    "\n",
    "                                                "
   ]
  },
  {
   "cell_type": "code",
   "execution_count": 17,
   "metadata": {},
   "outputs": [],
   "source": [
    "dd2_dataset_fname = f'{DATASET_DIR}/dd2_datasets.pt'\n",
    "torch.save({'train_dataset':train_dataset, 'val_dataset':val_dataset, 'test_dataset':test_dataset}, dd2_dataset_fname)    "
   ]
  },
  {
   "cell_type": "code",
   "execution_count": 18,
   "metadata": {},
   "outputs": [
    {
     "name": "stdout",
     "output_type": "stream",
     "text": [
      "gfeatures_cleaned (10816, 104)\n",
      "gfeatures_cleaned (676, 104)\n",
      "gfeatures_cleaned (2028, 104)\n"
     ]
    }
   ],
   "source": [
    "\n",
    "batch_size=1024\n",
    "train_loader, val_loader, test_loader = datasets.get_dataloaders(train_data=train_dataset, test_data=test_dataset\n",
    "                                                                 , val_data=val_dataset, batch_size=batch_size, shuffle_train=True\n",
    "                                                                 , add_global_feats_to_nodes=True, num_workers=0\n",
    "                                                                 , scale_features=True, feature_scaler=StandardScaler())\n",
    "\n",
    "\n",
    "# list(train_loader)[0].x[0].shape\n",
    "\n",
    "dd2_loader_fname = f'{DATASET_DIR}/dd2_dataloaders.pt'\n",
    "torch.save({'train_loader':train_loader, 'val_loader':val_loader, 'test_loader':test_loader}, dd2_loader_fname)    "
   ]
  },
  {
   "cell_type": "markdown",
   "metadata": {},
   "source": [
    "<h3 style=\"font-family: cursive\">Hyperparameter Tuning</h4>"
   ]
  },
  {
   "cell_type": "code",
   "execution_count": 19,
   "metadata": {},
   "outputs": [
    {
     "name": "stdout",
     "output_type": "stream",
     "text": [
      "[Data(x=[23, 55], edge_index=[2, 73], edge_attr=[73, 11], global_feats=[104], y=[1]), Data(x=[22, 55], edge_index=[2, 70], edge_attr=[70, 11], global_feats=[104], y=[1])]\n",
      "DataBatch(x=[32449, 159], edge_index=[2, 103479], edge_attr=[103479, 11], y=[1024], batch=[32449], ptr=[1025])\n",
      "dict_keys(['x', 'edge_index', 'edge_attr', 'y', 'batch', 'ptr'])\n",
      "None\n"
     ]
    }
   ],
   "source": [
    "in_channels = list(train_loader)[0].x[0].shape[0]\n",
    "\n",
    "print(list(train_dataset[:2]))\n",
    "print(list(train_loader)[0])\n",
    "print(list(train_loader)[0].to_dict().keys())\n",
    "global_fdim = None if list(train_loader)[0].to_dict().get('global_feats', None) is None else list(train_loader)[0].global_feats.shape[1]\n",
    "print(global_fdim)"
   ]
  },
  {
   "cell_type": "code",
   "execution_count": 20,
   "metadata": {},
   "outputs": [
    {
     "name": "stderr",
     "output_type": "stream",
     "text": [
      "[I 2024-10-23 13:00:13,546] A new study created in memory with name: my_gcn_study\n"
     ]
    },
    {
     "name": "stdout",
     "output_type": "stream",
     "text": [
      "params = {'task': 'binary_classification', 'in_channels': 159, 'global_fdim': None, 'model': 'graph_nns.GCN', 'gnn_hidden_neurons': 454, 'gnn_nlayers': 4, 'ffn_hidden_neurons': 196, 'ffn_nlayers': 1, 'out_neurons': 1, 'dropout_rate': 0.3572784537441016, 'activation_func': 'torch.nn.LeakyReLU', 'gpooling_func': 'mean', 'add_edge_features': False, 'learning_rate': 0.02562794913347058, 'n_epochs': 200, 'criterion': BCELoss(), 'optimizer': \"{'optimizer_type':'torch.optim.SGD', 'weight_decay':1e-3}\", 'scheduler': \"{'lr_scheduler_type':'lr_scheduler.CyclicLR', 'max_lr':0.15, 'step_size_up':100, 'cycle_momentum':True}\", 'scoring_func': 'roc_auc_score', 'add_batch_norm': True}\n",
      "params =  {'task': 'binary_classification', 'in_channels': 159, 'global_fdim': None, 'gnn_hidden_neurons': 454, 'gnn_nlayers': 4, 'ffn_hidden_neurons': 196, 'ffn_nlayers': 1, 'out_neurons': 1, 'dropout_rate': 0.3572784537441016, 'activation_func': 'torch.nn.LeakyReLU', 'gpooling_func': 'mean', 'add_batch_norm': True}\n",
      "Initializing parameters...\n",
      "\toptimizer:  {'state': {}, 'param_groups': [{'lr': 0.02562794913347058, 'momentum': 0, 'dampening': 0, 'weight_decay': 0.001, 'nesterov': False, 'maximize': False, 'foreach': None, 'differentiable': False, 'params': [0, 1, 2, 3, 4, 5, 6, 7, 8, 9, 10, 11]}]}\n",
      "\tlr_scheduler:  {'max_lrs': [0.15], 'total_size': 200.0, 'step_ratio': 0.5, 'mode': 'triangular', 'gamma': 1.0, '_scale_fn_custom': None, 'scale_mode': 'cycle', 'cycle_momentum': True, 'base_momentums': [0.8], 'max_momentums': [0.9], 'base_lrs': [0.02562794913347058], 'last_epoch': 0, 'verbose': False, '_step_count': 1, '_get_lr_called_within_step': False, '_last_lr': [0.02562794913347058]}\n",
      "checkpoint dir: None\n",
      "device = cuda\n",
      "TASK: binary_classification\n",
      "\n",
      "===> Epoch    1/200: Average Train Loss: 0.721 |  Average validation Loss: 0.650 | Validation Score: 0.643 | lr: 0.02687\n",
      "\n",
      "===> Epoch   21/200: Average Train Loss: 0.420 |  Average validation Loss: 0.539 | Validation Score: 0.792 | lr: 0.05175\n",
      "\n",
      "===> Epoch   41/200: Average Train Loss: 0.327 |  Average validation Loss: 0.813 | Validation Score: 0.811 | lr: 0.07662\n",
      "\n",
      "===> Epoch   61/200: Average Train Loss: 0.267 |  Average validation Loss: 1.307 | Validation Score: 0.797 | lr: 0.10149\n",
      "\n",
      "===> Epoch   81/200: Average Train Loss: 0.244 |  Average validation Loss: 0.888 | Validation Score: 0.781 | lr: 0.12637\n",
      "\n",
      "===> Epoch  101/200: Average Train Loss: 0.224 |  Average validation Loss: 1.234 | Validation Score: 0.808 | lr: 0.14876\n",
      "\n",
      "===> Epoch  121/200: Average Train Loss: 0.171 |  Average validation Loss: 1.558 | Validation Score: 0.801 | lr: 0.12388\n",
      "\n",
      "===> Epoch  141/200: Average Train Loss: 0.133 |  Average validation Loss: 1.627 | Validation Score: 0.820 | lr: 0.09901\n",
      "\n",
      "===> Epoch  161/200: Average Train Loss: 0.109 |  Average validation Loss: 2.083 | Validation Score: 0.826 | lr: 0.07413\n",
      "\n",
      "===> Epoch  181/200: Average Train Loss: 0.087 |  Average validation Loss: 18.124 | Validation Score: 0.826 | lr: 0.04926\n"
     ]
    },
    {
     "name": "stderr",
     "output_type": "stream",
     "text": [
      "[I 2024-10-23 13:04:26,888] Trial 0 finished with value: 0.5049818923837712 and parameters: {'in_channels': 159, 'model': 'graph_nns.GCN', 'gnn_hidden_neurons': 454, 'gnn_nlayers': 4, 'ffn_hidden_neurons': 196, 'ffn_nlayers': 1, 'out_neurons': 1, 'dropout_rate': 0.3572784537441016, 'activation_func': 'torch.nn.LeakyReLU', 'gpooling_func': 'mean', 'learning_rate': 0.02562794913347058, 'n_epochs': 200, 'optimizer': \"{'optimizer_type':'torch.optim.SGD', 'weight_decay':1e-3}\", 'scheduler': \"{'lr_scheduler_type':'lr_scheduler.CyclicLR', 'max_lr':0.15, 'step_size_up':100, 'cycle_momentum':True}\", 'scoring_func': 'roc_auc_score'}. Best is trial 0 with value: 0.5049818923837712.\n"
     ]
    },
    {
     "name": "stdout",
     "output_type": "stream",
     "text": [
      "\n",
      "===> Epoch  200/200: Average Train Loss: 0.058 |  Average validation Loss: 39.445 | Validation Score: 0.505 | lr: 0.02563\n",
      "params = {'task': 'binary_classification', 'in_channels': 159, 'global_fdim': None, 'model': 'graph_nns.GCN', 'gnn_hidden_neurons': 262, 'gnn_nlayers': 5, 'ffn_hidden_neurons': 276, 'ffn_nlayers': 2, 'out_neurons': 1, 'dropout_rate': 0.31708577236948615, 'activation_func': 'torch.nn.ReLU', 'gpooling_func': 'mean', 'add_edge_features': False, 'learning_rate': 0.04855813225482382, 'n_epochs': 200, 'criterion': BCELoss(), 'optimizer': \"{'optimizer_type':'torch.optim.SGD', 'weight_decay':1e-3}\", 'scheduler': \"{'lr_scheduler_type':'lr_scheduler.CyclicLR', 'max_lr':0.15, 'step_size_up':100, 'cycle_momentum':True}\", 'scoring_func': 'roc_auc_score', 'add_batch_norm': True}\n",
      "params =  {'task': 'binary_classification', 'in_channels': 159, 'global_fdim': None, 'gnn_hidden_neurons': 262, 'gnn_nlayers': 5, 'ffn_hidden_neurons': 276, 'ffn_nlayers': 2, 'out_neurons': 1, 'dropout_rate': 0.31708577236948615, 'activation_func': 'torch.nn.ReLU', 'gpooling_func': 'mean', 'add_batch_norm': True}\n",
      "Initializing parameters...\n",
      "\toptimizer:  {'state': {}, 'param_groups': [{'lr': 0.04855813225482382, 'momentum': 0, 'dampening': 0, 'weight_decay': 0.001, 'nesterov': False, 'maximize': False, 'foreach': None, 'differentiable': False, 'params': [0, 1, 2, 3, 4, 5, 6, 7, 8, 9, 10, 11, 12, 13, 14, 15]}]}\n",
      "\tlr_scheduler:  {'max_lrs': [0.15], 'total_size': 200.0, 'step_ratio': 0.5, 'mode': 'triangular', 'gamma': 1.0, '_scale_fn_custom': None, 'scale_mode': 'cycle', 'cycle_momentum': True, 'base_momentums': [0.8], 'max_momentums': [0.9], 'base_lrs': [0.04855813225482382], 'last_epoch': 0, 'verbose': False, '_step_count': 1, '_get_lr_called_within_step': False, '_last_lr': [0.04855813225482382]}\n",
      "checkpoint dir: None\n",
      "device = cuda\n",
      "TASK: binary_classification\n",
      "\n",
      "===> Epoch    1/200: Average Train Loss: 0.745 |  Average validation Loss: 0.679 | Validation Score: 0.618 | lr: 0.04957\n",
      "\n",
      "===> Epoch   21/200: Average Train Loss: 0.432 |  Average validation Loss: 0.523 | Validation Score: 0.803 | lr: 0.06986\n",
      "\n",
      "===> Epoch   41/200: Average Train Loss: 0.316 |  Average validation Loss: 0.555 | Validation Score: 0.837 | lr: 0.09015\n",
      "\n",
      "===> Epoch   61/200: Average Train Loss: 0.258 |  Average validation Loss: 0.604 | Validation Score: 0.854 | lr: 0.11044\n",
      "\n",
      "===> Epoch   81/200: Average Train Loss: 0.257 |  Average validation Loss: 0.570 | Validation Score: 0.851 | lr: 0.13073\n",
      "\n",
      "===> Epoch  101/200: Average Train Loss: 0.225 |  Average validation Loss: 0.608 | Validation Score: 0.867 | lr: 0.14899\n",
      "\n",
      "===> Epoch  121/200: Average Train Loss: 0.181 |  Average validation Loss: 0.538 | Validation Score: 0.879 | lr: 0.12870\n",
      "\n",
      "===> Epoch  141/200: Average Train Loss: 0.176 |  Average validation Loss: 0.520 | Validation Score: 0.899 | lr: 0.10841\n",
      "\n",
      "===> Epoch  161/200: Average Train Loss: 0.126 |  Average validation Loss: 0.421 | Validation Score: 0.927 | lr: 0.08812\n",
      "\n",
      "===> Epoch  181/200: Average Train Loss: 0.121 |  Average validation Loss: 0.392 | Validation Score: 0.932 | lr: 0.06783\n"
     ]
    },
    {
     "name": "stderr",
     "output_type": "stream",
     "text": [
      "[I 2024-10-23 13:07:59,943] Trial 1 finished with value: 0.9527115485071911 and parameters: {'in_channels': 159, 'model': 'graph_nns.GCN', 'gnn_hidden_neurons': 262, 'gnn_nlayers': 5, 'ffn_hidden_neurons': 276, 'ffn_nlayers': 2, 'out_neurons': 1, 'dropout_rate': 0.31708577236948615, 'activation_func': 'torch.nn.ReLU', 'gpooling_func': 'mean', 'learning_rate': 0.04855813225482382, 'n_epochs': 200, 'optimizer': \"{'optimizer_type':'torch.optim.SGD', 'weight_decay':1e-3}\", 'scheduler': \"{'lr_scheduler_type':'lr_scheduler.CyclicLR', 'max_lr':0.15, 'step_size_up':100, 'cycle_momentum':True}\", 'scoring_func': 'roc_auc_score'}. Best is trial 1 with value: 0.9527115485071911.\n"
     ]
    },
    {
     "name": "stdout",
     "output_type": "stream",
     "text": [
      "\n",
      "===> Epoch  200/200: Average Train Loss: 0.089 |  Average validation Loss: 0.356 | Validation Score: 0.953 | lr: 0.04856\n",
      "params = {'task': 'binary_classification', 'in_channels': 159, 'global_fdim': None, 'model': 'graph_nns.GCN', 'gnn_hidden_neurons': 294, 'gnn_nlayers': 4, 'ffn_hidden_neurons': 212, 'ffn_nlayers': 1, 'out_neurons': 1, 'dropout_rate': 0.29195747067119593, 'activation_func': 'torch.nn.LeakyReLU', 'gpooling_func': 'mean', 'add_edge_features': False, 'learning_rate': 0.04244923006290511, 'n_epochs': 400, 'criterion': BCELoss(), 'optimizer': \"{'optimizer_type':'torch.optim.SGD', 'weight_decay':1e-3}\", 'scheduler': \"{'lr_scheduler_type':'lr_scheduler.CyclicLR', 'max_lr':0.15, 'step_size_up':100, 'cycle_momentum':True}\", 'scoring_func': 'roc_auc_score', 'add_batch_norm': True}\n",
      "params =  {'task': 'binary_classification', 'in_channels': 159, 'global_fdim': None, 'gnn_hidden_neurons': 294, 'gnn_nlayers': 4, 'ffn_hidden_neurons': 212, 'ffn_nlayers': 1, 'out_neurons': 1, 'dropout_rate': 0.29195747067119593, 'activation_func': 'torch.nn.LeakyReLU', 'gpooling_func': 'mean', 'add_batch_norm': True}\n",
      "Initializing parameters...\n",
      "\toptimizer:  {'state': {}, 'param_groups': [{'lr': 0.04244923006290511, 'momentum': 0, 'dampening': 0, 'weight_decay': 0.001, 'nesterov': False, 'maximize': False, 'foreach': None, 'differentiable': False, 'params': [0, 1, 2, 3, 4, 5, 6, 7, 8, 9, 10, 11]}]}\n",
      "\tlr_scheduler:  {'max_lrs': [0.15], 'total_size': 200.0, 'step_ratio': 0.5, 'mode': 'triangular', 'gamma': 1.0, '_scale_fn_custom': None, 'scale_mode': 'cycle', 'cycle_momentum': True, 'base_momentums': [0.8], 'max_momentums': [0.9], 'base_lrs': [0.04244923006290511], 'last_epoch': 0, 'verbose': False, '_step_count': 1, '_get_lr_called_within_step': False, '_last_lr': [0.04244923006290511]}\n",
      "checkpoint dir: None\n",
      "device = cuda\n",
      "TASK: binary_classification\n",
      "\n",
      "===> Epoch    1/400: Average Train Loss: 0.708 |  Average validation Loss: 0.651 | Validation Score: 0.638 | lr: 0.04352\n",
      "\n",
      "===> Epoch   21/400: Average Train Loss: 0.461 |  Average validation Loss: 0.557 | Validation Score: 0.779 | lr: 0.06503\n",
      "\n",
      "===> Epoch   41/400: Average Train Loss: 0.351 |  Average validation Loss: 0.884 | Validation Score: 0.790 | lr: 0.08655\n",
      "\n",
      "===> Epoch   61/400: Average Train Loss: 0.283 |  Average validation Loss: 1.072 | Validation Score: 0.790 | lr: 0.10806\n",
      "\n",
      "===> Epoch   81/400: Average Train Loss: 0.246 |  Average validation Loss: 1.246 | Validation Score: 0.787 | lr: 0.12957\n",
      "\n",
      "===> Epoch  101/400: Average Train Loss: 0.237 |  Average validation Loss: 1.557 | Validation Score: 0.776 | lr: 0.14892\n",
      "\n",
      "===> Epoch  121/400: Average Train Loss: 0.188 |  Average validation Loss: 1.492 | Validation Score: 0.803 | lr: 0.12741\n",
      "\n",
      "===> Epoch  141/400: Average Train Loss: 0.160 |  Average validation Loss: 1.614 | Validation Score: 0.812 | lr: 0.10590\n",
      "\n",
      "===> Epoch  161/400: Average Train Loss: 0.133 |  Average validation Loss: 2.853 | Validation Score: 0.811 | lr: 0.08439\n",
      "\n",
      "===> Epoch  181/400: Average Train Loss: 0.108 |  Average validation Loss: 9.871 | Validation Score: 0.802 | lr: 0.06288\n",
      "\n",
      "===> Epoch  201/400: Average Train Loss: 0.081 |  Average validation Loss: 60.159 | Validation Score: 0.500 | lr: 0.04352\n",
      "\n",
      "===> Epoch  221/400: Average Train Loss: 0.087 |  Average validation Loss: 39.601 | Validation Score: 0.503 | lr: 0.06503\n",
      "\n",
      "===> Epoch  241/400: Average Train Loss: 0.104 |  Average validation Loss: 39.695 | Validation Score: 0.502 | lr: 0.08655\n",
      "\n",
      "===> Epoch  261/400: Average Train Loss: 0.116 |  Average validation Loss: 59.600 | Validation Score: 0.505 | lr: 0.10806\n",
      "\n",
      "===> Epoch  281/400: Average Train Loss: 0.161 |  Average validation Loss: 39.793 | Validation Score: 0.501 | lr: 0.12957\n",
      "\n",
      "===> Epoch  301/400: Average Train Loss: 0.140 |  Average validation Loss: 6.697 | Validation Score: 0.749 | lr: 0.14892\n",
      "\n",
      "===> Epoch  321/400: Average Train Loss: 0.122 |  Average validation Loss: 44.794 | Validation Score: 0.757 | lr: 0.12741\n",
      "\n",
      "===> Epoch  341/400: Average Train Loss: 0.097 |  Average validation Loss: 23.764 | Validation Score: 0.754 | lr: 0.10590\n",
      "\n",
      "===> Epoch  361/400: Average Train Loss: 0.089 |  Average validation Loss: 5.184 | Validation Score: 0.745 | lr: 0.08439\n",
      "\n",
      "===> Epoch  381/400: Average Train Loss: 0.070 |  Average validation Loss: 39.604 | Validation Score: 0.503 | lr: 0.06288\n"
     ]
    },
    {
     "name": "stderr",
     "output_type": "stream",
     "text": [
      "[I 2024-10-23 13:14:18,223] Trial 2 finished with value: 0.5146945648455326 and parameters: {'in_channels': 159, 'model': 'graph_nns.GCN', 'gnn_hidden_neurons': 294, 'gnn_nlayers': 4, 'ffn_hidden_neurons': 212, 'ffn_nlayers': 1, 'out_neurons': 1, 'dropout_rate': 0.29195747067119593, 'activation_func': 'torch.nn.LeakyReLU', 'gpooling_func': 'mean', 'learning_rate': 0.04244923006290511, 'n_epochs': 400, 'optimizer': \"{'optimizer_type':'torch.optim.SGD', 'weight_decay':1e-3}\", 'scheduler': \"{'lr_scheduler_type':'lr_scheduler.CyclicLR', 'max_lr':0.15, 'step_size_up':100, 'cycle_momentum':True}\", 'scoring_func': 'roc_auc_score'}. Best is trial 1 with value: 0.9527115485071911.\n"
     ]
    },
    {
     "name": "stdout",
     "output_type": "stream",
     "text": [
      "\n",
      "===> Epoch  400/400: Average Train Loss: 0.046 |  Average validation Loss: 38.679 | Validation Score: 0.515 | lr: 0.04245\n",
      "params = {'task': 'binary_classification', 'in_channels': 159, 'global_fdim': None, 'model': 'graph_nns.GCN', 'gnn_hidden_neurons': 454, 'gnn_nlayers': 5, 'ffn_hidden_neurons': 244, 'ffn_nlayers': 1, 'out_neurons': 1, 'dropout_rate': 0.35231340543270934, 'activation_func': 'torch.nn.LeakyReLU', 'gpooling_func': 'mean', 'add_edge_features': False, 'learning_rate': 0.01955206429844412, 'n_epochs': 400, 'criterion': BCELoss(), 'optimizer': \"{'optimizer_type':'torch.optim.SGD', 'weight_decay':1e-3}\", 'scheduler': \"{'lr_scheduler_type':'lr_scheduler.CyclicLR', 'max_lr':0.15, 'step_size_up':100, 'cycle_momentum':True}\", 'scoring_func': 'roc_auc_score', 'add_batch_norm': True}\n",
      "params =  {'task': 'binary_classification', 'in_channels': 159, 'global_fdim': None, 'gnn_hidden_neurons': 454, 'gnn_nlayers': 5, 'ffn_hidden_neurons': 244, 'ffn_nlayers': 1, 'out_neurons': 1, 'dropout_rate': 0.35231340543270934, 'activation_func': 'torch.nn.LeakyReLU', 'gpooling_func': 'mean', 'add_batch_norm': True}\n",
      "Initializing parameters...\n",
      "\toptimizer:  {'state': {}, 'param_groups': [{'lr': 0.01955206429844412, 'momentum': 0, 'dampening': 0, 'weight_decay': 0.001, 'nesterov': False, 'maximize': False, 'foreach': None, 'differentiable': False, 'params': [0, 1, 2, 3, 4, 5, 6, 7, 8, 9, 10, 11, 12, 13]}]}\n",
      "\tlr_scheduler:  {'max_lrs': [0.15], 'total_size': 200.0, 'step_ratio': 0.5, 'mode': 'triangular', 'gamma': 1.0, '_scale_fn_custom': None, 'scale_mode': 'cycle', 'cycle_momentum': True, 'base_momentums': [0.8], 'max_momentums': [0.9], 'base_lrs': [0.01955206429844412], 'last_epoch': 0, 'verbose': False, '_step_count': 1, '_get_lr_called_within_step': False, '_last_lr': [0.01955206429844412]}\n",
      "checkpoint dir: None\n",
      "device = cuda\n",
      "TASK: binary_classification\n",
      "\n",
      "===> Epoch    1/400: Average Train Loss: 0.724 |  Average validation Loss: 0.664 | Validation Score: 0.643 | lr: 0.02086\n",
      "\n",
      "===> Epoch   21/400: Average Train Loss: 0.440 |  Average validation Loss: 0.613 | Validation Score: 0.759 | lr: 0.04695\n",
      "\n",
      "===> Epoch   41/400: Average Train Loss: 0.351 |  Average validation Loss: 0.765 | Validation Score: 0.806 | lr: 0.07304\n",
      "\n",
      "===> Epoch   61/400: Average Train Loss: 0.289 |  Average validation Loss: 0.821 | Validation Score: 0.796 | lr: 0.09913\n",
      "\n",
      "===> Epoch   81/400: Average Train Loss: 0.259 |  Average validation Loss: 0.651 | Validation Score: 0.826 | lr: 0.12521\n",
      "\n",
      "===> Epoch  101/400: Average Train Loss: 0.248 |  Average validation Loss: 0.740 | Validation Score: 0.810 | lr: 0.14870\n",
      "\n",
      "===> Epoch  121/400: Average Train Loss: 0.182 |  Average validation Loss: 0.539 | Validation Score: 0.855 | lr: 0.12261\n",
      "\n",
      "===> Epoch  141/400: Average Train Loss: 0.133 |  Average validation Loss: 0.413 | Validation Score: 0.906 | lr: 0.09652\n",
      "\n",
      "===> Epoch  161/400: Average Train Loss: 0.103 |  Average validation Loss: 0.323 | Validation Score: 0.939 | lr: 0.07043\n",
      "\n",
      "===> Epoch  181/400: Average Train Loss: 0.081 |  Average validation Loss: 0.253 | Validation Score: 0.966 | lr: 0.04434\n",
      "\n",
      "===> Epoch  201/400: Average Train Loss: 0.038 |  Average validation Loss: 0.106 | Validation Score: 0.994 | lr: 0.02086\n",
      "\n",
      "===> Epoch  221/400: Average Train Loss: 0.065 |  Average validation Loss: 0.169 | Validation Score: 0.984 | lr: 0.04695\n",
      "\n",
      "===> Epoch  241/400: Average Train Loss: 0.091 |  Average validation Loss: 0.281 | Validation Score: 0.968 | lr: 0.07304\n",
      "\n",
      "===> Epoch  261/400: Average Train Loss: 0.130 |  Average validation Loss: 0.470 | Validation Score: 0.932 | lr: 0.09913\n",
      "\n",
      "===> Epoch  281/400: Average Train Loss: 0.143 |  Average validation Loss: 0.357 | Validation Score: 0.933 | lr: 0.12521\n",
      "\n",
      "===> Epoch  301/400: Average Train Loss: 0.138 |  Average validation Loss: 0.407 | Validation Score: 0.943 | lr: 0.14870\n",
      "\n",
      "===> Epoch  321/400: Average Train Loss: 0.113 |  Average validation Loss: 0.331 | Validation Score: 0.940 | lr: 0.12261\n",
      "\n",
      "===> Epoch  341/400: Average Train Loss: 0.076 |  Average validation Loss: 0.256 | Validation Score: 0.971 | lr: 0.09652\n",
      "\n",
      "===> Epoch  361/400: Average Train Loss: 0.070 |  Average validation Loss: 0.207 | Validation Score: 0.980 | lr: 0.07043\n",
      "\n",
      "===> Epoch  381/400: Average Train Loss: 0.039 |  Average validation Loss: 0.105 | Validation Score: 0.994 | lr: 0.04434\n"
     ]
    },
    {
     "name": "stderr",
     "output_type": "stream",
     "text": [
      "[I 2024-10-23 13:23:01,708] Trial 3 finished with value: 0.9989970535735662 and parameters: {'in_channels': 159, 'model': 'graph_nns.GCN', 'gnn_hidden_neurons': 454, 'gnn_nlayers': 5, 'ffn_hidden_neurons': 244, 'ffn_nlayers': 1, 'out_neurons': 1, 'dropout_rate': 0.35231340543270934, 'activation_func': 'torch.nn.LeakyReLU', 'gpooling_func': 'mean', 'learning_rate': 0.01955206429844412, 'n_epochs': 400, 'optimizer': \"{'optimizer_type':'torch.optim.SGD', 'weight_decay':1e-3}\", 'scheduler': \"{'lr_scheduler_type':'lr_scheduler.CyclicLR', 'max_lr':0.15, 'step_size_up':100, 'cycle_momentum':True}\", 'scoring_func': 'roc_auc_score'}. Best is trial 3 with value: 0.9989970535735662.\n"
     ]
    },
    {
     "name": "stdout",
     "output_type": "stream",
     "text": [
      "\n",
      "===> Epoch  400/400: Average Train Loss: 0.023 |  Average validation Loss: 0.050 | Validation Score: 0.999 | lr: 0.01955\n",
      "params = {'task': 'binary_classification', 'in_channels': 159, 'global_fdim': None, 'model': 'graph_nns.GCN', 'gnn_hidden_neurons': 214, 'gnn_nlayers': 5, 'ffn_hidden_neurons': 228, 'ffn_nlayers': 2, 'out_neurons': 1, 'dropout_rate': 0.44580544136574896, 'activation_func': 'torch.nn.LeakyReLU', 'gpooling_func': 'mean', 'add_edge_features': False, 'learning_rate': 0.029650455356977953, 'n_epochs': 350, 'criterion': BCELoss(), 'optimizer': \"{'optimizer_type':'torch.optim.SGD', 'weight_decay':1e-3}\", 'scheduler': \"{'lr_scheduler_type':'lr_scheduler.CyclicLR', 'max_lr':0.15, 'step_size_up':100, 'cycle_momentum':True}\", 'scoring_func': 'roc_auc_score', 'add_batch_norm': True}\n",
      "params =  {'task': 'binary_classification', 'in_channels': 159, 'global_fdim': None, 'gnn_hidden_neurons': 214, 'gnn_nlayers': 5, 'ffn_hidden_neurons': 228, 'ffn_nlayers': 2, 'out_neurons': 1, 'dropout_rate': 0.44580544136574896, 'activation_func': 'torch.nn.LeakyReLU', 'gpooling_func': 'mean', 'add_batch_norm': True}\n",
      "Initializing parameters...\n",
      "\toptimizer:  {'state': {}, 'param_groups': [{'lr': 0.029650455356977953, 'momentum': 0, 'dampening': 0, 'weight_decay': 0.001, 'nesterov': False, 'maximize': False, 'foreach': None, 'differentiable': False, 'params': [0, 1, 2, 3, 4, 5, 6, 7, 8, 9, 10, 11, 12, 13, 14, 15]}]}\n",
      "\tlr_scheduler:  {'max_lrs': [0.15], 'total_size': 200.0, 'step_ratio': 0.5, 'mode': 'triangular', 'gamma': 1.0, '_scale_fn_custom': None, 'scale_mode': 'cycle', 'cycle_momentum': True, 'base_momentums': [0.8], 'max_momentums': [0.9], 'base_lrs': [0.029650455356977953], 'last_epoch': 0, 'verbose': False, '_step_count': 1, '_get_lr_called_within_step': False, '_last_lr': [0.029650455356977953]}\n",
      "checkpoint dir: None\n",
      "device = cuda\n",
      "TASK: binary_classification\n",
      "\n",
      "===> Epoch    1/350: Average Train Loss: 0.794 |  Average validation Loss: 0.674 | Validation Score: 0.606 | lr: 0.03085\n",
      "\n",
      "===> Epoch   21/350: Average Train Loss: 0.505 |  Average validation Loss: 0.683 | Validation Score: 0.746 | lr: 0.05492\n",
      "\n",
      "===> Epoch   41/350: Average Train Loss: 0.389 |  Average validation Loss: 0.637 | Validation Score: 0.768 | lr: 0.07899\n",
      "\n",
      "===> Epoch   61/350: Average Train Loss: 0.347 |  Average validation Loss: 0.820 | Validation Score: 0.795 | lr: 0.10306\n",
      "\n",
      "===> Epoch   81/350: Average Train Loss: 0.305 |  Average validation Loss: 0.798 | Validation Score: 0.798 | lr: 0.12713\n",
      "\n",
      "===> Epoch  101/350: Average Train Loss: 0.282 |  Average validation Loss: 0.710 | Validation Score: 0.815 | lr: 0.14880\n",
      "\n",
      "===> Epoch  121/350: Average Train Loss: 0.203 |  Average validation Loss: 0.581 | Validation Score: 0.848 | lr: 0.12473\n",
      "\n",
      "===> Epoch  141/350: Average Train Loss: 0.165 |  Average validation Loss: 0.618 | Validation Score: 0.866 | lr: 0.10066\n",
      "\n",
      "===> Epoch  161/350: Average Train Loss: 0.143 |  Average validation Loss: 0.472 | Validation Score: 0.906 | lr: 0.07659\n",
      "\n",
      "===> Epoch  181/350: Average Train Loss: 0.113 |  Average validation Loss: 0.410 | Validation Score: 0.926 | lr: 0.05252\n",
      "\n",
      "===> Epoch  201/350: Average Train Loss: 0.075 |  Average validation Loss: 0.266 | Validation Score: 0.961 | lr: 0.03085\n",
      "\n",
      "===> Epoch  221/350: Average Train Loss: 0.095 |  Average validation Loss: 0.276 | Validation Score: 0.955 | lr: 0.05492\n",
      "\n",
      "===> Epoch  241/350: Average Train Loss: 0.124 |  Average validation Loss: 0.351 | Validation Score: 0.943 | lr: 0.07899\n",
      "\n",
      "===> Epoch  261/350: Average Train Loss: 0.133 |  Average validation Loss: 0.419 | Validation Score: 0.932 | lr: 0.10306\n",
      "\n",
      "===> Epoch  281/350: Average Train Loss: 0.151 |  Average validation Loss: 0.443 | Validation Score: 0.908 | lr: 0.12713\n",
      "\n",
      "===> Epoch  301/350: Average Train Loss: 0.161 |  Average validation Loss: 0.381 | Validation Score: 0.929 | lr: 0.14880\n",
      "\n",
      "===> Epoch  321/350: Average Train Loss: 0.130 |  Average validation Loss: 0.417 | Validation Score: 0.920 | lr: 0.12473\n",
      "\n",
      "===> Epoch  341/350: Average Train Loss: 0.139 |  Average validation Loss: 0.388 | Validation Score: 0.923 | lr: 0.10066\n"
     ]
    },
    {
     "name": "stderr",
     "output_type": "stream",
     "text": [
      "[I 2024-10-23 13:28:05,357] Trial 4 finished with value: 0.9442856800955921 and parameters: {'in_channels': 159, 'model': 'graph_nns.GCN', 'gnn_hidden_neurons': 214, 'gnn_nlayers': 5, 'ffn_hidden_neurons': 228, 'ffn_nlayers': 2, 'out_neurons': 1, 'dropout_rate': 0.44580544136574896, 'activation_func': 'torch.nn.LeakyReLU', 'gpooling_func': 'mean', 'learning_rate': 0.029650455356977953, 'n_epochs': 350, 'optimizer': \"{'optimizer_type':'torch.optim.SGD', 'weight_decay':1e-3}\", 'scheduler': \"{'lr_scheduler_type':'lr_scheduler.CyclicLR', 'max_lr':0.15, 'step_size_up':100, 'cycle_momentum':True}\", 'scoring_func': 'roc_auc_score'}. Best is trial 3 with value: 0.9989970535735662.\n"
     ]
    },
    {
     "name": "stdout",
     "output_type": "stream",
     "text": [
      "\n",
      "===> Epoch  350/350: Average Train Loss: 0.120 |  Average validation Loss: 0.357 | Validation Score: 0.944 | lr: 0.08983\n",
      "CPU times: user 26min 11s, sys: 1min 36s, total: 27min 48s\n",
      "Wall time: 27min 52s\n"
     ]
    },
    {
     "data": {
      "text/plain": [
       "{'best_params': {'in_channels': 159,\n",
       "  'model': 'graph_nns.GCN',\n",
       "  'gnn_hidden_neurons': 454,\n",
       "  'gnn_nlayers': 5,\n",
       "  'ffn_hidden_neurons': 244,\n",
       "  'ffn_nlayers': 1,\n",
       "  'out_neurons': 1,\n",
       "  'dropout_rate': 0.35231340543270934,\n",
       "  'activation_func': 'torch.nn.LeakyReLU',\n",
       "  'gpooling_func': 'mean',\n",
       "  'learning_rate': 0.01955206429844412,\n",
       "  'n_epochs': 400,\n",
       "  'optimizer': \"{'optimizer_type':'torch.optim.SGD', 'weight_decay':1e-3}\",\n",
       "  'scheduler': \"{'lr_scheduler_type':'lr_scheduler.CyclicLR', 'max_lr':0.15, 'step_size_up':100, 'cycle_momentum':True}\",\n",
       "  'scoring_func': 'roc_auc_score'},\n",
       " 'best_score': 0.9989970535735662}"
      ]
     },
     "execution_count": 20,
     "metadata": {},
     "output_type": "execute_result"
    }
   ],
   "source": [
    "%%time \n",
    "import sklearn\n",
    "\n",
    "criterion   = BCELoss()\n",
    "\n",
    "\n",
    "exp_params_grid = {\n",
    "    'task': 'binary_classification',\n",
    "    'in_channels' : in_channels, 'global_fdim' : global_fdim,\n",
    "    'model': ['graph_nns.GCN'], #, 'graph_nns.GAT'\n",
    "    # 'gnn_hidden_neurons': [128, 256, 384, 512]\n",
    "    'gnn_hidden_neurons': [150, 500]\n",
    "    , 'gnn_nlayers':[3, 6]\n",
    "    # , 'ffn_hidden_neurons': [64, 128, 256, 384, 512]\n",
    "    , 'ffn_hidden_neurons': [100, 300]\n",
    "    , 'ffn_nlayers': [1, 2], 'out_neurons':1, 'dropout_rate': [0.2, 0.6]\n",
    "    , 'activation_func': ['torch.nn.LeakyReLU', 'torch.nn.ReLU'], 'gpooling_func' : ['mean']\n",
    "    # , 'heads' : [5,8]\n",
    "    # , 'edge_dim': [2,8]\n",
    "    , 'add_edge_features': False\n",
    "    \n",
    "    , 'learning_rate': [5e-2, 1e-2], 'n_epochs': [150, 400] \n",
    "    , 'criterion' : criterion\n",
    "    , 'optimizer' : [\"{'optimizer_type':'torch.optim.SGD', 'weight_decay':1e-3}\"]\n",
    "    #, 'scheduler' : [\"{'lr_scheduler_type':'lr_scheduler.ReduceLROnPlateau', 'mode':'min', 'factor':0.7, 'patience':30, 'threshold':5e-02, 'eps':1e-08}\"], \n",
    "    , 'scheduler' : [\"{'lr_scheduler_type':'lr_scheduler.CyclicLR', 'max_lr':0.15, 'step_size_up':100, 'cycle_momentum':True}\"]\n",
    "    , 'scoring_func': ['roc_auc_score']\n",
    "    , 'add_batch_norm':True\n",
    "\n",
    "}\n",
    "\n",
    "\n",
    "my_hpo = training_utils.OptunaHPO(n_trials=5, n_jobs=1, sampler=None)\n",
    "\n",
    "results = my_hpo.run_optimization(   \n",
    "        train_val_data= [train_loader, val_loader]\n",
    "        , params_grid=exp_params_grid\n",
    "        , optuna_direction='maximize'\n",
    "        , split_mode='classic'\n",
    "        , study_name='my_gcn_study'\n",
    ")\n",
    "\n",
    "results"
   ]
  },
  {
   "cell_type": "markdown",
   "metadata": {},
   "source": [
    "<h3 style=\"font-family: cursive\">Training and Evaluating The Best Model</h3>"
   ]
  },
  {
   "cell_type": "code",
   "execution_count": 21,
   "metadata": {},
   "outputs": [
    {
     "name": "stdout",
     "output_type": "stream",
     "text": [
      "Best params:  {'in_channels': 159, 'model': 'graph_nns.GCN', 'gnn_hidden_neurons': 454, 'gnn_nlayers': 5, 'ffn_hidden_neurons': 244, 'ffn_nlayers': 1, 'out_neurons': 1, 'dropout_rate': 0.35231340543270934, 'activation_func': 'torch.nn.LeakyReLU', 'gpooling_func': 'mean', 'learning_rate': 0.01955206429844412, 'n_epochs': 400, 'optimizer': \"{'optimizer_type':'torch.optim.SGD', 'weight_decay':1e-3}\", 'scheduler': \"{'lr_scheduler_type':'lr_scheduler.CyclicLR', 'max_lr':0.15, 'step_size_up':100, 'cycle_momentum':True}\", 'scoring_func': 'roc_auc_score', 'task': 'binary_classification'}\n",
      "params =  {'task': 'binary_classification', 'in_channels': 159, 'gnn_hidden_neurons': 454, 'gnn_nlayers': 5, 'global_fdim': None, 'ffn_hidden_neurons': 244, 'ffn_nlayers': 1, 'out_neurons': 1, 'dropout_rate': 0.35231340543270934, 'gpooling_func': 'mean', 'activation_func': 'torch.nn.LeakyReLU', 'add_batch_norm': True}\n",
      "Initializing parameters...\n"
     ]
    }
   ],
   "source": [
    "best_params = results['best_params']\n",
    "best_params.update(**{'task':'binary_classification'})\n",
    "print(\"Best params: \", best_params)\n",
    "\n",
    "\n",
    "best_gnn_model = eval(best_params['model']).from_dict({\n",
    "    \"task\" : best_params['task']\n",
    "    , 'in_channels': best_params['in_channels'],  'gnn_hidden_neurons' : int(best_params['gnn_hidden_neurons'])\n",
    "    , 'gnn_nlayers' : best_params['gnn_nlayers'], 'global_fdim' : best_params.get('global_fdim', None)\n",
    "    , 'ffn_hidden_neurons' :int(best_params['ffn_hidden_neurons']), 'ffn_nlayers' : best_params['ffn_nlayers']\n",
    "    , 'out_neurons' : best_params['out_neurons'], 'dropout_rate' : best_params['dropout_rate']\n",
    "    , 'gpooling_func' : best_params['gpooling_func'], 'activation_func' : best_params['activation_func']\n",
    "    , 'add_batch_norm' : True\n",
    "})\n"
   ]
  },
  {
   "cell_type": "markdown",
   "metadata": {},
   "source": [
    "<h4 style=\"font-family: cursive\"> Model Training</h4>"
   ]
  },
  {
   "cell_type": "code",
   "execution_count": 22,
   "metadata": {},
   "outputs": [
    {
     "name": "stdout",
     "output_type": "stream",
     "text": [
      "\toptimizer:  {'state': {}, 'param_groups': [{'lr': 0.01955206429844412, 'momentum': 0, 'dampening': 0, 'weight_decay': 0.001, 'nesterov': False, 'maximize': False, 'foreach': None, 'differentiable': False, 'params': [0, 1, 2, 3, 4, 5, 6, 7, 8, 9, 10, 11, 12, 13]}]}\n",
      "\tlr_scheduler:  {'max_lrs': [0.15], 'total_size': 200.0, 'step_ratio': 0.5, 'mode': 'triangular', 'gamma': 1.0, '_scale_fn_custom': None, 'scale_mode': 'cycle', 'cycle_momentum': True, 'base_momentums': [0.8], 'max_momentums': [0.9], 'base_lrs': [0.01955206429844412], 'last_epoch': 0, 'verbose': False, '_step_count': 1, '_get_lr_called_within_step': False, '_last_lr': [0.01955206429844412]}\n",
      "checkpoint dir: None\n"
     ]
    },
    {
     "data": {
      "text/plain": [
       "{'task': 'binary_classification',\n",
       " 'model': GCN(\n",
       "   (activation_func): LeakyReLU(negative_slope=0.01)\n",
       "   (cassification_out_layer): Sigmoid()\n",
       "   (conv1): GCNConv(159, 454)\n",
       "   (convs): ModuleList(\n",
       "     (0-3): 4 x GCNConv(454, 454)\n",
       "   )\n",
       "   (ffn): Sequential(\n",
       "     (0): Dropout(p=0.35231340543270934, inplace=False)\n",
       "     (1): Linear(in_features=454, out_features=1, bias=True)\n",
       "     (2): BatchNorm1d(1, eps=1e-05, momentum=0.1, affine=True, track_running_stats=True)\n",
       "   )\n",
       " ),\n",
       " 'learning_rate': 0.01955206429844412,\n",
       " 'n_epochs': 400,\n",
       " 'optimizer': SGD (\n",
       " Parameter Group 0\n",
       "     dampening: 0\n",
       "     differentiable: False\n",
       "     foreach: None\n",
       "     initial_lr: 0.01955206429844412\n",
       "     lr: 0.01955206429844412\n",
       "     maximize: False\n",
       "     momentum: 0.9\n",
       "     nesterov: False\n",
       "     weight_decay: 0.001\n",
       " ),\n",
       " 'scheduler': <torch.optim.lr_scheduler.CyclicLR at 0x7f27d0d58d90>,\n",
       " 'scheduler_step_requires_metrics': False,\n",
       " 'criterion': BCELoss(),\n",
       " 'scoring_func': <function sklearn.metrics._ranking.roc_auc_score(y_true, y_score, *, average='macro', sample_weight=None, max_fpr=None, multi_class='raise', labels=None)>,\n",
       " 'save_dir': None,\n",
       " 'checkpoint_dir': None}"
      ]
     },
     "execution_count": 22,
     "metadata": {},
     "output_type": "execute_result"
    }
   ],
   "source": [
    "gnn_trainer = training_utils.GNNTrainer(task=best_params['task'], model=best_gnn_model\n",
    "                                            , scheduler=best_params['scheduler']\n",
    "                                            , optimizer=best_params['optimizer']\n",
    "                                            , criterion=criterion\n",
    "                                            , scoring_func=eval(best_params['scoring_func'])\n",
    "                                            , n_epochs=best_params['n_epochs']\n",
    "                                            , learning_rate=best_params['learning_rate']\n",
    "                                        )\n",
    "gnn_trainer.__dict__"
   ]
  },
  {
   "cell_type": "code",
   "execution_count": 23,
   "metadata": {},
   "outputs": [
    {
     "name": "stdout",
     "output_type": "stream",
     "text": [
      "device = cuda\n",
      "TASK: binary_classification\n",
      "\n",
      "===> Epoch    1/400: Average Train Loss: 0.719 |  Average validation Loss: 0.660 | Validation Score: 0.642 | lr: 0.02086\n",
      "\n",
      "===> Epoch   21/400: Average Train Loss: 0.421 |  Average validation Loss: 0.621 | Validation Score: 0.774 | lr: 0.04695\n",
      "\n",
      "===> Epoch   41/400: Average Train Loss: 0.310 |  Average validation Loss: 0.660 | Validation Score: 0.810 | lr: 0.07304\n",
      "\n",
      "===> Epoch   61/400: Average Train Loss: 0.295 |  Average validation Loss: 0.731 | Validation Score: 0.789 | lr: 0.09913\n",
      "\n",
      "===> Epoch   81/400: Average Train Loss: 0.278 |  Average validation Loss: 1.008 | Validation Score: 0.792 | lr: 0.12521\n",
      "\n",
      "===> Epoch  101/400: Average Train Loss: 0.242 |  Average validation Loss: 0.671 | Validation Score: 0.812 | lr: 0.14870\n",
      "\n",
      "===> Epoch  121/400: Average Train Loss: 0.188 |  Average validation Loss: 0.720 | Validation Score: 0.861 | lr: 0.12261\n",
      "\n",
      "===> Epoch  141/400: Average Train Loss: 0.133 |  Average validation Loss: 0.423 | Validation Score: 0.904 | lr: 0.09652\n",
      "\n",
      "===> Epoch  161/400: Average Train Loss: 0.106 |  Average validation Loss: 0.293 | Validation Score: 0.947 | lr: 0.07043\n",
      "\n",
      "===> Epoch  181/400: Average Train Loss: 0.070 |  Average validation Loss: 0.215 | Validation Score: 0.972 | lr: 0.04434\n",
      "\n",
      "===> Epoch  201/400: Average Train Loss: 0.038 |  Average validation Loss: 0.096 | Validation Score: 0.995 | lr: 0.02086\n",
      "\n",
      "===> Epoch  221/400: Average Train Loss: 0.063 |  Average validation Loss: 0.163 | Validation Score: 0.984 | lr: 0.04695\n",
      "\n",
      "===> Epoch  241/400: Average Train Loss: 0.090 |  Average validation Loss: 0.259 | Validation Score: 0.960 | lr: 0.07304\n",
      "\n",
      "===> Epoch  261/400: Average Train Loss: 0.127 |  Average validation Loss: 0.344 | Validation Score: 0.951 | lr: 0.09913\n",
      "\n",
      "===> Epoch  281/400: Average Train Loss: 0.142 |  Average validation Loss: 0.447 | Validation Score: 0.933 | lr: 0.12521\n",
      "\n",
      "===> Epoch  301/400: Average Train Loss: 0.161 |  Average validation Loss: 0.439 | Validation Score: 0.918 | lr: 0.14870\n",
      "\n",
      "===> Epoch  321/400: Average Train Loss: 0.109 |  Average validation Loss: 0.289 | Validation Score: 0.948 | lr: 0.12261\n",
      "\n",
      "===> Epoch  341/400: Average Train Loss: 0.087 |  Average validation Loss: 0.269 | Validation Score: 0.960 | lr: 0.09652\n",
      "\n",
      "===> Epoch  361/400: Average Train Loss: 0.065 |  Average validation Loss: 0.242 | Validation Score: 0.976 | lr: 0.07043\n",
      "\n",
      "===> Epoch  381/400: Average Train Loss: 0.050 |  Average validation Loss: 0.154 | Validation Score: 0.990 | lr: 0.04434\n",
      "\n",
      "===> Epoch  400/400: Average Train Loss: 0.025 |  Average validation Loss: 0.060 | Validation Score: 0.999 | lr: 0.01955\n",
      "CPU times: user 7min 59s, sys: 28.8 s, total: 8min 27s\n",
      "Wall time: 8min 27s\n"
     ]
    }
   ],
   "source": [
    "%%time\n",
    "train_losses, val_losses, val_scores = gnn_trainer.train(train_loader=train_loader, val_loader=val_loader)"
   ]
  },
  {
   "cell_type": "code",
   "execution_count": 24,
   "metadata": {},
   "outputs": [
    {
     "data": {
      "image/png": "[encoded data removed]",
      "text/plain": [
       "<Figure size 1000x700 with 1 Axes>"
      ]
     },
     "metadata": {},
     "output_type": "display_data"
    }
   ],
   "source": [
    "\n",
    "utilities.plots_train_val_metrics(train_losses=train_losses, val_scores=val_scores\n",
    "                                    , val_losses=val_losses, figsize=(10, 7)\n",
    "                                    , image_pathname=f\"{DATASET_DIR}/figures/dd2_class_best_gnn_stats.jpeg\"\n",
    "                                    , val_score_name=best_params['scoring_func']\n",
    "                                )\n"
   ]
  },
  {
   "cell_type": "code",
   "execution_count": 25,
   "metadata": {},
   "outputs": [],
   "source": [
    "torch.save(best_gnn_model, f\"{DATASET_DIR}/models/dd2_class_best_gnn_model.pt\")"
   ]
  },
  {
   "cell_type": "markdown",
   "metadata": {},
   "source": [
    "<h4 style=\"font-family: cursive\"> Model Evaluation</h4>"
   ]
  },
  {
   "cell_type": "code",
   "execution_count": 26,
   "metadata": {},
   "outputs": [
    {
     "name": "stdout",
     "output_type": "stream",
     "text": [
      "[0, 1, 1, 1, 1, 0, 1, 0, 1, 0, 0, 1, 1, 1, 1, 1, 0, 1, 1, 1, 1, 1, 1, 1, 0, 1, 0, 0, 1, 1, 1, 1, 0, 1, 0, 0, 1, 0, 0, 0, 0, 1, 0, 0, 1, 1, 1, 0, 0, 1, 1, 1, 1, 0, 0, 0, 0, 0, 1, 1, 0, 0, 1, 0, 1, 1, 1, 1, 1, 1, 1, 0, 1, 1, 0, 1, 1, 0, 0, 1, 0, 0, 0, 0, 0, 0, 1, 0, 1, 1, 1, 1, 1, 0, 0, 0, 1, 0, 1, 1, 1, 0, 0, 0, 0, 1, 1, 0, 0, 1, 0, 1, 0, 0, 1, 1, 0, 0, 1, 1, 1, 1, 0, 1, 0, 1, 1, 1, 1, 1, 1, 0, 0, 1, 0, 1, 0, 0, 0, 1, 1, 1, 0, 1, 1, 1, 1, 1, 1, 1, 1, 0, 1, 1, 1, 1, 1, 0, 0, 0, 0, 1, 1, 1, 0, 1, 1, 1, 1, 1, 1, 0, 1, 1, 1, 0, 0, 0, 0, 1, 0, 1, 1, 1, 0, 1, 1, 0, 0, 1, 0, 1, 1, 1, 1, 0, 0, 0, 0, 1, 1, 0, 1, 1, 1, 1, 1, 0, 0, 1, 1, 1, 0, 1, 1, 0, 1, 1, 1, 0, 0, 0, 0, 0, 0, 0, 1, 1, 1, 0, 1, 0, 0, 0, 0, 0, 0, 0, 1, 1, 1, 1, 1, 0, 1, 1, 0, 1, 1, 1, 1, 0, 0, 0, 1, 1, 1, 0, 1, 0, 1, 0, 1, 0, 0, 1, 1, 0, 1, 0, 1, 1, 1, 1, 1, 0, 0, 1, 1, 1, 0, 0, 0, 1, 1, 1, 1, 0, 0, 1, 0, 0, 0, 0, 1, 1, 1, 1, 1, 0, 1, 1, 1, 0, 0, 0, 1, 0, 1, 1, 1, 1, 1, 1, 1, 1, 0, 1, 0, 1, 0, 1, 1, 1, 1, 0, 1, 0, 0, 0, 1, 1, 0, 0, 1, 1, 0, 0, 0, 1, 0, 0, 1, 0, 0, 1, 1, 0, 0, 0, 1, 1, 1, 1, 1, 1, 0, 0, 0, 1, 1, 0, 1, 1, 1, 1, 1, 1, 0, 1, 0, 0, 1, 0, 1, 1, 0, 1, 0, 1, 1, 0, 0, 1, 0, 1, 1, 0, 1, 0, 0, 0, 1, 1, 1, 0, 0, 1, 1, 1, 1, 1, 1, 0, 0, 0, 1, 1, 1, 1, 1, 1, 0, 1, 0, 1, 1, 1, 1, 1, 1, 1, 0, 1, 1, 1, 0, 0, 0, 1, 1, 1, 0, 0, 1, 1, 1, 1, 1, 1, 1, 1, 1, 1, 1, 1, 1, 1, 1, 0, 0, 1, 0, 1, 1, 1, 0, 1, 0, 1, 0, 1, 0, 0, 0, 0, 1, 1, 0, 0, 1, 0, 0, 0, 1, 1, 1, 1, 0, 1, 1, 1, 0, 0, 0, 1, 0, 0, 0, 1, 1, 1, 1, 1, 1, 1, 1, 1, 1, 0, 0, 0, 1, 1, 1, 1, 1, 1, 1, 1, 1, 1, 0, 1, 1, 1, 1, 0, 0, 1, 0, 0, 1, 1, 1, 1, 1, 1, 0, 0, 0, 1, 0, 0, 1, 0, 0, 1, 0, 0, 0, 0, 0, 0, 0, 1, 0, 1, 1, 1, 0, 1, 0, 0, 1, 1, 0, 0, 1, 1, 1, 0, 1, 0, 0, 1, 1, 0, 0, 0, 0, 1, 1, 0, 1, 0, 1, 1, 0, 1, 0, 0, 0, 1, 1, 1, 1, 1, 1, 1, 1, 1, 1, 1, 1, 0, 0, 1, 0, 0, 1, 1, 1, 1, 1, 1, 1, 0, 1, 1, 0, 0, 0, 0, 0, 0, 0, 1, 0, 0, 1, 1, 1, 1, 1, 0, 1, 0, 1, 1, 1, 0, 1, 1, 1, 0, 1, 0, 0, 1, 1, 0, 0, 1, 0, 0, 1, 1, 0, 1, 1, 1, 1, 1, 1, 1, 0, 0, 0, 1, 1, 0, 1, 0, 0, 1, 1, 1, 0, 1, 0, 1, 0, 0, 1, 1]\n",
      "\n",
      "ROC AUC Score = 0.696\n",
      "Balanced Acc. = 0.639\n",
      "F1-Score      = 0.706\n",
      "Precision     = 0.711\n",
      "Recall        = 0.7\n"
     ]
    }
   ],
   "source": [
    "from lib import predictions\n",
    "test_pred, test_true = predictions.predict_from_loader(loader=test_loader, model=best_gnn_model\n",
    "                                                     , device='cuda:0'\n",
    "                                                     , return_true_targets=True, desc=\"Predicting...\")\n",
    "\n",
    "threshold = 0.5\n",
    "test_pred_classes = [int(x>threshold) for x in test_pred.squeeze(1)] \n",
    "\n",
    "# print(test_pred)\n",
    "print(test_pred_classes)\n",
    "\n",
    "roc_auc = round(roc_auc_score(test_true.cpu(), test_pred.detach().cpu()),3)\n",
    "f1_     = round(f1_score(test_true.cpu(), test_pred_classes),3)\n",
    "\n",
    "print(f\"\\nROC AUC Score = {roc_auc}\")\n",
    "print(f\"Balanced Acc. = {round(balanced_accuracy_score(test_true.cpu(), test_pred_classes),3)}\")\n",
    "print(f\"F1-Score      = {f1_}\")\n",
    "print(f\"Precision     = {round(precision_score(test_true.cpu(), test_pred_classes),3)}\")\n",
    "print(f\"Recall        = {round(recall_score(test_true.cpu(), test_pred_classes),3)}\")"
   ]
  },
  {
   "cell_type": "markdown",
   "metadata": {},
   "source": [
    "<h5 style=\"font-family: cursive\"> Evaluate using the GNNPredictor</h5>"
   ]
  },
  {
   "cell_type": "code",
   "execution_count": 27,
   "metadata": {},
   "outputs": [],
   "source": [
    "# print(dir(atom_featurizer))\n",
    "# print(atom_featurizer.features_mapping)\n",
    "best_gnn_predictor = predictions.GNNPredictor(model=best_gnn_model, atom_featurizer=atom_featurizer\n",
    "                                        , bond_featurizer=bond_featurizer, add_explicit_h=True\n",
    "                                        , mol_featurizer=mol_featurizer\n",
    "                                        , scale_features=True, feature_scaler=StandardScaler()\n",
    "                                        , compute_global_features=True, add_global_feats_to_nodes=True)\n",
    "\n",
    "\n"
   ]
  },
  {
   "cell_type": "code",
   "execution_count": 28,
   "metadata": {},
   "outputs": [],
   "source": [
    "# # best_gnn_model = torch.load(f\"{DATASET_DIR}/models/dd2_class_best_gnn_model.pt\")\n",
    "torch.save(best_gnn_predictor, f\"{DATASET_DIR}/models/dd2_class_best_gnn_predictor.pt\")\n"
   ]
  },
  {
   "cell_type": "code",
   "execution_count": 29,
   "metadata": {},
   "outputs": [],
   "source": [
    "# best_gnn_predictor=torch.load(f\"{DATASET_DIR}/models/dd2_class_best_gnn_predictor.pt\")\n",
    "# best_gnn_predictor\n",
    "\n",
    "# dd2_loader_fname = f'{DATASET_DIR}/dd2_dataloaders.pt'\n",
    "# dd2_loaders = torch.load(dd2_loader_fname)  \n",
    "\n",
    "# train_loader = dd2_loaders['train_loader']\n",
    "# val_loader   = dd2_loaders['val_loader']\n",
    "# test_loader  = dd2_loaders['test_loader']"
   ]
  },
  {
   "cell_type": "code",
   "execution_count": 34,
   "metadata": {},
   "outputs": [
    {
     "name": "stdout",
     "output_type": "stream",
     "text": [
      "[0, 1, 1, 1, 1, 0, 1, 0, 1, 0, 0, 1, 1, 1, 1, 1, 0, 1, 1, 1, 1, 1, 1, 1, 0, 1, 0, 0, 1, 1, 1, 1, 0, 1, 0, 0, 1, 0, 0, 0, 0, 1, 0, 0, 1, 1, 1, 0, 0, 1, 1, 1, 1, 0, 0, 0, 0, 0, 1, 1, 0, 0, 1, 0, 1, 1, 1, 1, 1, 1, 1, 0, 1, 1, 0, 1, 1, 0, 0, 1, 0, 0, 0, 0, 0, 0, 1, 0, 1, 1, 1, 1, 1, 0, 0, 0, 1, 0, 1, 1, 1, 0, 0, 0, 0, 1, 1, 0, 0, 1, 0, 1, 0, 0, 1, 1, 0, 0, 1, 1, 1, 1, 0, 1, 0, 1, 1, 1, 1, 1, 1, 0, 0, 1, 0, 1, 0, 0, 0, 1, 1, 1, 0, 1, 1, 1, 1, 1, 1, 1, 1, 0, 1, 1, 1, 1, 1, 0, 0, 0, 0, 1, 1, 1, 0, 1, 1, 1, 1, 1, 1, 0, 1, 1, 1, 0, 0, 0, 0, 1, 0, 1, 1, 1, 0, 1, 1, 0, 0, 1, 0, 1, 1, 1, 1, 0, 0, 0, 0, 1, 1, 0, 1, 1, 1, 1, 1, 0, 0, 1, 1, 1, 0, 1, 1, 0, 1, 1, 1, 0, 0, 0, 0, 0, 0, 0, 1, 1, 1, 0, 1, 0, 0, 0, 0, 0, 0, 0, 1, 1, 1, 1, 1, 0, 1, 1, 0, 1, 1, 1, 1, 0, 0, 0, 1, 1, 1, 0, 1, 0, 1, 0, 1, 0, 0, 1, 1, 0, 1, 0, 1, 1, 1, 1, 1, 0, 0, 1, 1, 1, 0, 0, 0, 1, 1, 1, 1, 0, 0, 1, 0, 0, 0, 0, 1, 1, 1, 1, 1, 0, 1, 1, 1, 0, 0, 0, 1, 0, 1, 1, 1, 1, 1, 1, 1, 1, 0, 1, 0, 1, 0, 1, 1, 1, 1, 0, 1, 0, 0, 0, 1, 1, 0, 0, 1, 1, 0, 0, 0, 1, 0, 0, 1, 0, 0, 1, 1, 0, 0, 0, 1, 1, 1, 1, 1, 1, 0, 0, 0, 1, 1, 0, 1, 1, 1, 1, 1, 1, 0, 1, 0, 0, 1, 0, 1, 1, 0, 1, 0, 1, 1, 0, 0, 1, 0, 1, 1, 0, 1, 0, 0, 0, 1, 1, 1, 0, 0, 1, 1, 1, 1, 1, 1, 0, 0, 0, 1, 1, 1, 1, 1, 1, 0, 1, 0, 1, 1, 1, 1, 1, 1, 1, 0, 1, 1, 1, 0, 0, 0, 1, 1, 1, 0, 0, 1, 1, 1, 1, 1, 1, 1, 1, 1, 1, 1, 1, 1, 1, 1, 0, 0, 1, 0, 1, 1, 1, 0, 1, 0, 1, 0, 1, 0, 0, 0, 0, 1, 1, 0, 0, 1, 0, 0, 0, 1, 1, 1, 1, 0, 1, 1, 1, 0, 0, 0, 1, 0, 0, 0, 1, 1, 1, 1, 1, 1, 1, 1, 1, 1, 0, 0, 0, 1, 1, 1, 1, 1, 1, 1, 1, 1, 1, 0, 1, 1, 1, 1, 0, 0, 1, 0, 0, 1, 1, 1, 1, 1, 1, 0, 0, 0, 1, 0, 0, 1, 0, 0, 1, 0, 0, 0, 0, 0, 0, 0, 1, 0, 1, 1, 1, 0, 1, 0, 0, 1, 1, 0, 0, 1, 1, 1, 0, 1, 0, 0, 1, 1, 0, 0, 0, 0, 1, 1, 0, 1, 0, 1, 1, 0, 1, 0, 0, 0, 1, 1, 1, 1, 1, 1, 1, 1, 1, 1, 1, 1, 0, 0, 1, 0, 0, 1, 1, 1, 1, 1, 1, 1, 0, 1, 1, 0, 0, 0, 0, 0, 0, 0, 1, 0, 0, 1, 1, 1, 1, 1, 0, 1, 0, 1, 1, 1, 0, 1, 1, 1, 0, 1, 0, 0, 1, 1, 0, 0, 1, 0, 0, 1, 1, 0, 1, 1, 1, 1, 1, 1, 1, 0, 0, 0, 1, 1, 0, 1, 0, 0, 1, 1, 1, 0, 1, 0, 1, 0, 0, 1, 1]\n",
      "\n",
      "ROC AUC Score = 0.696\n",
      "Balanced Acc. = 0.639\n",
      "F1-Score      = 0.706\n",
      "Precision     = 0.711\n",
      "Recall        = 0.7\n"
     ]
    }
   ],
   "source": [
    "test_pred, test_true = best_gnn_predictor.predict_from_loader(loader=test_loader\n",
    "                                                     , device='cuda:0', return_true_targets=True, desc=\"Predicting...\")\n",
    "\n",
    "\n",
    "### Let's try a higher threshold\n",
    "threshold = 0.5\n",
    "\n",
    "\n",
    "\n",
    "test_pred_classes = [int(x>threshold) for x in test_pred.squeeze(1)] \n",
    "print(test_pred_classes)\n",
    "\n",
    "print(f\"\\nROC AUC Score = {round(roc_auc_score(test_true.cpu(), test_pred.detach().cpu()),3)}\")\n",
    "print(f\"Balanced Acc. = {round(balanced_accuracy_score(test_true.cpu(), test_pred_classes),3)}\")\n",
    "print(f\"F1-Score      = {round(f1_score(test_true.cpu(), test_pred_classes),3)}\")\n",
    "print(f\"Precision     = {round(precision_score(test_true.cpu(), test_pred_classes),3)}\")\n",
    "print(f\"Recall        = {round(recall_score(test_true.cpu(), test_pred_classes),3)}\")"
   ]
  },
  {
   "cell_type": "code",
   "execution_count": 31,
   "metadata": {},
   "outputs": [
    {
     "name": "stdout",
     "output_type": "stream",
     "text": [
      "676\n",
      "gfeatures_cleaned (676, 104)\n",
      "[0, 1, 1, 1, 1, 0, 1, 0, 1, 0, 0, 1, 1, 1, 1, 1, 0, 1, 1, 1, 1, 1, 1, 1, 0, 1, 0, 0, 1, 1, 1, 1, 0, 1, 0, 0, 1, 0, 0, 0, 0, 1, 0, 0, 1, 1, 1, 0, 0, 1, 1, 1, 1, 0, 0, 0, 0, 0, 1, 1, 0, 0, 1, 0, 1, 1, 1, 1, 1, 1, 1, 0, 1, 1, 0, 1, 1, 0, 0, 1, 0, 0, 0, 0, 0, 0, 1, 0, 1, 1, 1, 1, 1, 0, 0, 0, 1, 0, 1, 1, 1, 0, 0, 0, 0, 1, 1, 0, 0, 1, 0, 1, 0, 0, 1, 1, 0, 0, 1, 1, 1, 1, 0, 1, 0, 1, 1, 1, 1, 1, 1, 0, 0, 1, 0, 1, 0, 0, 0, 1, 1, 1, 0, 1, 1, 1, 1, 1, 1, 1, 1, 0, 1, 1, 1, 1, 1, 0, 0, 0, 0, 1, 1, 1, 0, 1, 1, 1, 1, 1, 1, 0, 1, 1, 1, 0, 0, 0, 0, 1, 0, 1, 1, 1, 0, 1, 1, 0, 0, 1, 0, 1, 1, 1, 1, 0, 0, 0, 0, 1, 1, 0, 1, 1, 1, 1, 1, 0, 0, 1, 1, 1, 0, 1, 1, 0, 1, 1, 1, 0, 0, 0, 0, 0, 0, 0, 1, 1, 1, 0, 1, 0, 0, 0, 0, 0, 0, 0, 1, 1, 1, 1, 1, 0, 1, 1, 0, 1, 1, 1, 1, 0, 0, 0, 1, 1, 1, 0, 1, 0, 1, 0, 1, 0, 0, 1, 1, 0, 1, 0, 1, 1, 1, 1, 1, 0, 0, 1, 1, 1, 0, 0, 0, 1, 1, 1, 1, 0, 0, 1, 0, 0, 0, 0, 1, 1, 1, 1, 1, 0, 1, 1, 1, 0, 0, 0, 1, 0, 1, 1, 1, 1, 1, 1, 1, 1, 0, 1, 0, 1, 0, 1, 1, 1, 1, 0, 1, 0, 0, 0, 1, 1, 0, 0, 1, 1, 0, 0, 0, 1, 0, 0, 1, 0, 0, 1, 1, 0, 0, 0, 1, 1, 1, 1, 1, 1, 0, 0, 0, 1, 1, 0, 1, 1, 1, 1, 1, 1, 0, 1, 0, 0, 1, 0, 1, 1, 0, 1, 0, 1, 1, 0, 0, 1, 0, 1, 1, 0, 1, 0, 0, 0, 1, 1, 1, 0, 0, 1, 1, 1, 1, 1, 1, 0, 0, 0, 1, 1, 1, 1, 1, 1, 0, 1, 0, 1, 1, 1, 1, 1, 1, 1, 0, 1, 1, 1, 0, 0, 0, 1, 1, 1, 0, 0, 1, 1, 1, 1, 1, 1, 1, 1, 1, 1, 1, 1, 1, 1, 1, 0, 0, 1, 0, 1, 1, 1, 0, 1, 0, 1, 0, 1, 0, 0, 0, 0, 1, 1, 0, 0, 1, 0, 0, 0, 1, 1, 1, 1, 0, 1, 1, 1, 0, 0, 0, 1, 0, 0, 0, 1, 1, 1, 1, 1, 1, 1, 1, 1, 1, 0, 0, 0, 1, 1, 1, 1, 1, 1, 1, 1, 1, 1, 0, 1, 1, 1, 1, 0, 0, 1, 0, 0, 1, 1, 1, 1, 1, 1, 0, 0, 0, 1, 0, 0, 1, 0, 0, 1, 0, 0, 0, 0, 0, 0, 0, 1, 0, 1, 1, 1, 0, 1, 0, 0, 1, 1, 0, 0, 1, 1, 1, 0, 1, 0, 0, 1, 1, 0, 0, 0, 0, 1, 1, 0, 1, 0, 1, 1, 0, 1, 0, 0, 0, 1, 1, 1, 1, 1, 1, 1, 1, 1, 1, 1, 1, 0, 0, 1, 0, 0, 1, 1, 1, 1, 1, 1, 1, 0, 1, 1, 0, 0, 0, 0, 0, 0, 0, 1, 0, 0, 1, 1, 1, 1, 1, 0, 1, 0, 1, 1, 1, 0, 1, 1, 1, 0, 1, 0, 0, 1, 1, 0, 0, 1, 0, 0, 1, 1, 0, 1, 1, 1, 1, 1, 1, 1, 0, 0, 0, 1, 1, 0, 1, 0, 0, 1, 1, 1, 0, 1, 0, 1, 0, 0, 1, 1]\n",
      "\n",
      "ROC AUC Score = 0.696\n",
      "Balanced Acc. = 0.639\n",
      "F1-Score      = 0.706\n",
      "Precision     = 0.711\n",
      "Recall        = 0.7\n"
     ]
    }
   ],
   "source": [
    "### Here, we use the test_dataset instead of the loader, just to make sure the predictor \n",
    "# works as expeted. We must get the same values as earlier.\n",
    "\n",
    "print(len(test_dataset))\n",
    "\n",
    "# test_ld_min= datasets.get_dataloader(dataset=test_dataset[:], batch_size=512, shuffle=False\n",
    "#                    , add_global_feats_to_nodes=False, num_workers=0\n",
    "#                    , scale_features=False, feature_scaler=None)\n",
    "\n",
    "\n",
    "test_pred, test_true = best_gnn_predictor.predict_from_data_list(data=test_dataset[:], batch_size=batch_size\n",
    "                                                     , device='cuda:0', return_true_targets=True, desc=\"Predicting...\")\n",
    "\n",
    "# print(test_pred[:12])\n",
    "# print(test_true[:12])\n",
    "threshold = 0.5\n",
    "test_pred_classes = [int(x>threshold) for x in test_pred.squeeze(1)] \n",
    "print(test_pred_classes)\n",
    "\n",
    "print(f\"\\nROC AUC Score = {round(roc_auc_score(test_true.cpu(), test_pred.detach().cpu()),3)}\")\n",
    "print(f\"Balanced Acc. = {round(balanced_accuracy_score(test_true.cpu(), test_pred_classes),3)}\")\n",
    "print(f\"F1-Score      = {round(f1_score(test_true.cpu(), test_pred_classes),3)}\")\n",
    "print(f\"Precision     = {round(precision_score(test_true.cpu(), test_pred_classes),3)}\")\n",
    "print(f\"Recall        = {round(recall_score(test_true.cpu(), test_pred_classes),3)}\")"
   ]
  },
  {
   "cell_type": "markdown",
   "metadata": {},
   "source": [
    "<h5 style=\"font-family: cursive\"> Predict DD2 Activity from SMILES</h5>"
   ]
  },
  {
   "cell_type": "code",
   "execution_count": 32,
   "metadata": {},
   "outputs": [
    {
     "name": "stdout",
     "output_type": "stream",
     "text": [
      "RDKIT property calculation: 0.093 seconds.\n"
     ]
    },
    {
     "name": "stderr",
     "output_type": "stream",
     "text": [
      "100%|██████████| 2/2 [00:00<00:00, 63.98it/s]\n"
     ]
    },
    {
     "name": "stdout",
     "output_type": "stream",
     "text": [
      "MORDRED property calculation: 1.303 seconds.\n",
      "len_mol_features: 2\n",
      "gfeatures_cleaned (2, 104)\n",
      "\n",
      "new_preds tensor([[0.0125],\n",
      "        [0.9921]], device='cuda:0')\n",
      "pred_classes [0, 1]\n"
     ]
    }
   ],
   "source": [
    "smiles = ['CCC(=O)NCc1nccc1CO', 'O=C(O)c1cccnc1Sc1cc(CCO)c(Cl)cc1']\n",
    "new_preds = best_gnn_predictor.predict_from_smiles_list(smiles_list=smiles, device='cuda:0'\n",
    "                                                , desc=\"Predicting...\")\n",
    "\n",
    "threshold = 0.5\n",
    "pred_classes = [int(x>threshold) for x in new_preds.squeeze(1)]\n",
    "print(\"\\nnew_preds\", new_preds.detach())\n",
    "print(\"pred_classes\", pred_classes)"
   ]
  },
  {
   "cell_type": "code",
   "execution_count": 35,
   "metadata": {},
   "outputs": [
    {
     "data": {
      "text/html": [
       "<p style=\"font-family: cursive\">We have trained a GCN model for predicting the DD2 activity of small molecules. The model trained models achieved a ROC AUC score, and F1-score  of 0.696, and 0.706, respectively. Exploring a larger hyperpamareter space for tuning could help improving the performance</p><p style=\"font-family: cursive\">It is very helfpul for model development and use to trust the predictions. There are tools that allow to explain graph-based models. These can be helfpful as they provide an intuitive visualization and interpretability of the predictions. We use PyTorch Geometric Explainer module, in combination with NetworkX. See how it is used in the <a href=\"./dd2_gnn_explanation.ipynb\">dd2_gnn_explanation notebook</a>.</p>"
      ],
      "text/plain": [
       "<IPython.core.display.HTML object>"
      ]
     },
     "metadata": {},
     "output_type": "display_data"
    },
    {
     "ename": "",
     "evalue": "",
     "output_type": "error",
     "traceback": [
      "\u001b[1;31mThe Kernel crashed while executing code in the current cell or a previous cell. \n",
      "\u001b[1;31mPlease review the code in the cell(s) to identify a possible cause of the failure. \n",
      "\u001b[1;31mClick <a href='https://aka.ms/vscodeJupyterKernelCrash'>here</a> for more info. \n",
      "\u001b[1;31mView Jupyter <a href='command:jupyter.viewOutput'>log</a> for further details."
     ]
    }
   ],
   "source": [
    "html_content = f'<p style=\"font-family: cursive\">We have trained a {best_gnn_model.__class__.__name__} model for predicting the DD2 activity of small molecules. The model trained models achieved a ROC AUC score, and F1-score  of {roc_auc}, and {f1_}, respectively. Exploring a larger hyperpamareter space for tuning could help improving the performance</p>'\n",
    "html_content += '<p style=\"font-family: cursive\">It is very helfpul for model development and use to trust the predictions. There are tools that allow to explain graph-based models. These can be helfpful as they provide an intuitive visualization and interpretability of the predictions. We use PyTorch Geometric Explainer module, in combination with NetworkX. See how it is used in the <a href=\"./dd2_gnn_explanation.ipynb\">dd2_gnn_explanation notebook</a>.</p>'\n",
    "\n",
    "display(HTML(html_content))\n"
   ]
  }
 ],
 "metadata": {
  "kernelspec": {
   "display_name": "chemai-gpu",
   "language": "python",
   "name": "python3"
  },
  "language_info": {
   "codemirror_mode": {
    "name": "ipython",
    "version": 3
   },
   "file_extension": ".py",
   "mimetype": "text/x-python",
   "name": "python",
   "nbconvert_exporter": "python",
   "pygments_lexer": "ipython3",
   "version": "3.9.18"
  }
 },
 "nbformat": 4,
 "nbformat_minor": 2
}
