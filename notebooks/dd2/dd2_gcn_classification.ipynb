{
 "cells": [
  {
   "cell_type": "code",
   "execution_count": 1,
   "metadata": {},
   "outputs": [],
   "source": [
    "## IPython extension to reload modules before executing user code.\n",
    "# Autorelad is an IPython extension to reload modules before executing user code.\n",
    "%load_ext autoreload\n",
    "\n",
    "# Reload all modules (except those excluded by %aimport) every time before executing the Python code typed.\n",
    "%autoreload 2"
   ]
  },
  {
   "cell_type": "code",
   "execution_count": 2,
   "metadata": {},
   "outputs": [
    {
     "name": "stdout",
     "output_type": "stream",
     "text": [
      "/home/djoy2409-wsl/projects/software_development/qsar_w_gnns/data\n"
     ]
    }
   ],
   "source": [
    "from matplotlib import pyplot as plt\n",
    "\n",
    "import os\n",
    "from os.path import join\n",
    "import sys\n",
    "import pickle\n",
    "from IPython.display import display\n",
    "from PIL import Image\n",
    "\n",
    "ROOT_DIR = os.sep.join(os.path.abspath('.').split(os.sep)[:-2])\n",
    "sys.path.insert(0, ROOT_DIR)\n",
    "DATASET_DIR = \"{}/data\".format(ROOT_DIR)\n",
    "print(DATASET_DIR)"
   ]
  },
  {
   "cell_type": "code",
   "execution_count": 3,
   "metadata": {},
   "outputs": [],
   "source": [
    "from typing import List, Union, Any, Tuple\n",
    "from datetime import datetime\n",
    "from random import sample\n",
    "\n",
    "import pandas as pd\n",
    "import numpy as np\n",
    "from tqdm import tqdm\n",
    "import torch\n",
    "import torch_geometric\n",
    "from torch_geometric.data import Data\n",
    "from torch.nn import BCELoss, LeakyReLU, ReLU\n",
    "from torch.optim import lr_scheduler,Adagrad, Adadelta, Adam, AdamW\n",
    "\n",
    "from rdkit import Chem, RDLogger\n",
    "from rdkit.Chem import Draw, AllChem, PandasTools, MolFromSequence, MolToSmiles, MolToInchiKey, Descriptors, GraphDescriptors\n",
    "from rdkit.Chem import rdMolDescriptors as rdmdesc\n",
    "\n",
    "from joblib import Parallel, delayed\n",
    "\n",
    "RDLogger.DisableLog('rdApp.*')\n",
    "import warnings\n",
    "warnings.filterwarnings(\"ignore\", category=UserWarning)\n",
    "from lib import gnn_utils, utilities, datasets, splitters, featurizers, training_utils, graph_nns, graph_utils\n",
    "\n",
    "\n",
    "from sklearn.metrics import f1_score, roc_auc_score, recall_score, precision_score, balanced_accuracy_score\n",
    "from sklearn.preprocessing import MinMaxScaler, StandardScaler\n"
   ]
  },
  {
   "cell_type": "markdown",
   "metadata": {},
   "source": [
    "<p style=\"font-family: cursive; font-size=14px\">\n",
    "In the following, we will train regression models to predict the percentage of inhibition of the <em>P. falciparum's</em> DD2 growth.\n",
    "</p>"
   ]
  },
  {
   "cell_type": "markdown",
   "metadata": {},
   "source": [
    "<h3 style=\"font-family: cursive\">Data Preparation</h4>"
   ]
  },
  {
   "cell_type": "markdown",
   "metadata": {},
   "source": [
    "<h4 style=\"font-family: cursive\">Dataset Cleaning</h4>\n",
    "<p style=\"font-family: cursive; font-size=14px\">\n",
    "The dataset was obtained from the PubChem Biossay AID 2302. It was used as example in the paper by [Chakravarti and Mani Alla (2019); Frontiers in Artificial Intelligence, 2, DOI: 10.3389/frai.2019.00017](https://www.frontiersin.org/articles/10.3389/frai.2019.00017/full). </p>\n"
   ]
  },
  {
   "cell_type": "code",
   "execution_count": 4,
   "metadata": {},
   "outputs": [
    {
     "name": "stdout",
     "output_type": "stream",
     "text": [
      "Number of molecules with a missing SMILES string: 13/13533\n"
     ]
    },
    {
     "data": {
      "text/html": [
       "<div>\n",
       "<style scoped>\n",
       "    .dataframe tbody tr th:only-of-type {\n",
       "        vertical-align: middle;\n",
       "    }\n",
       "\n",
       "    .dataframe tbody tr th {\n",
       "        vertical-align: top;\n",
       "    }\n",
       "\n",
       "    .dataframe thead th {\n",
       "        text-align: right;\n",
       "    }\n",
       "</style>\n",
       "<table border=\"1\" class=\"dataframe\">\n",
       "  <thead>\n",
       "    <tr style=\"text-align: right;\">\n",
       "      <th></th>\n",
       "      <th>PUBCHEM_SID</th>\n",
       "      <th>PUBCHEM_CID</th>\n",
       "      <th>PUBCHEM_EXT_DATASOURCE_SMILES</th>\n",
       "      <th>PUBCHEM_ACTIVITY_OUTCOME</th>\n",
       "      <th>PCT_INHIB_DD2</th>\n",
       "      <th>DD2_ACTIVITY_CLS</th>\n",
       "      <th>RMol</th>\n",
       "    </tr>\n",
       "  </thead>\n",
       "  <tbody>\n",
       "    <tr>\n",
       "      <th>0</th>\n",
       "      <td>85857918</td>\n",
       "      <td>11957475.0</td>\n",
       "      <td>C1CN(CCN1CC(C(C2=CC=CC=C2)C3=CC=CC=C3)O)C4=CC(...</td>\n",
       "      <td>Inactive</td>\n",
       "      <td>4.0</td>\n",
       "      <td>0</td>\n",
       "      <td>&lt;rdkit.Chem.rdchem.Mol object at 0x7f0b7b063dd0&gt;</td>\n",
       "    </tr>\n",
       "    <tr>\n",
       "      <th>1</th>\n",
       "      <td>85857919</td>\n",
       "      <td>6618861.0</td>\n",
       "      <td>C1CN(CC=C1C2=CNC3=CC=CC=C32)CC4=CC=CC=C4</td>\n",
       "      <td>Active</td>\n",
       "      <td>80.0</td>\n",
       "      <td>1</td>\n",
       "      <td>&lt;rdkit.Chem.rdchem.Mol object at 0x7f0b7b063eb0&gt;</td>\n",
       "    </tr>\n",
       "  </tbody>\n",
       "</table>\n",
       "</div>"
      ],
      "text/plain": [
       "   PUBCHEM_SID  PUBCHEM_CID  \\\n",
       "0     85857918   11957475.0   \n",
       "1     85857919    6618861.0   \n",
       "\n",
       "                       PUBCHEM_EXT_DATASOURCE_SMILES PUBCHEM_ACTIVITY_OUTCOME  \\\n",
       "0  C1CN(CCN1CC(C(C2=CC=CC=C2)C3=CC=CC=C3)O)C4=CC(...                 Inactive   \n",
       "1           C1CN(CC=C1C2=CNC3=CC=CC=C32)CC4=CC=CC=C4                   Active   \n",
       "\n",
       "   PCT_INHIB_DD2  DD2_ACTIVITY_CLS  \\\n",
       "0            4.0                 0   \n",
       "1           80.0                 1   \n",
       "\n",
       "                                               RMol  \n",
       "0  <rdkit.Chem.rdchem.Mol object at 0x7f0b7b063dd0>  \n",
       "1  <rdkit.Chem.rdchem.Mol object at 0x7f0b7b063eb0>  "
      ]
     },
     "execution_count": 4,
     "metadata": {},
     "output_type": "execute_result"
    }
   ],
   "source": [
    "dd2_data_df   = pd.read_csv(f\"{DATASET_DIR}/dd2_inhibition_pubchem_aid_2302.csv\") #.sample(n=1000)\n",
    "smiles_column = \"PUBCHEM_EXT_DATASOURCE_SMILES\"\n",
    "# target_column = \"PCT_INHIB_DD2\"\n",
    "target_column = \"DD2_ACTIVITY_CLS\"\n",
    "mol_column    = 'RMol'\n",
    "\n",
    "print(f\"Number of molecules with a missing SMILES string: {dd2_data_df[smiles_column].isna().sum()}/{dd2_data_df.shape[0]}\")\n",
    "\n",
    "# Removing rows with a missing SMILES string\n",
    "dd2_data_df.dropna(subset=[smiles_column], axis=0, inplace=True)\n",
    "\n",
    "\n",
    "# Remove rows where is not defined\n",
    "dd2_data_df.dropna(subset=['PUBCHEM_ACTIVITY_OUTCOME'], axis=0, inplace=True)\n",
    "\n",
    "# Add a column with 0/1 activity values\n",
    "dd2_data_df[target_column] = dd2_data_df['PUBCHEM_ACTIVITY_OUTCOME'].apply(lambda x: 1 if x =='Active' else 0)\n",
    "\n",
    "\n",
    "# Adding molecule (Mol) objects to the dataframe\n",
    "PandasTools.AddMoleculeColumnToFrame(dd2_data_df, smiles_column, mol_column)\n",
    "\n",
    "dd2_data_df.head(2)"
   ]
  },
  {
   "cell_type": "markdown",
   "metadata": {},
   "source": [
    "<span style=\"font-family: cursive; font-size=16px\">\n",
    "Beside removing rows with an empty SMILES, we will proceed with the following steps:\n",
    "<ol>\n",
    "    <li>Select the largest fragment for each molecule, which will also remove slats, among others. We will use the SMILES and inchikeys of the fragment.</li>\n",
    "    <li>Sanitize the retained molecule</li>\n",
    "    <li>Fix the target values. Negative values are set to 0 and values greater than 100 are set to 100</li>\n",
    "    <li>Remove duplicates, using the inchikey as primary key. For each group of duplicates: </li>\n",
    "        <ol>\n",
    "            <li>If the min and max values are apart by 20 or more, omit and proceed to the next group</li>\n",
    "            <li>Else, retain the first occurrence but replace the target value by an average</li>\n",
    "            <li>It is worth mentioning that duplicate removal is usually a more involved process, where outliers can be detected and removed using a statisical approach, before averaging the taarget value.</li>\n",
    "        </ol>\n",
    "</ol>\n",
    "</span>"
   ]
  },
  {
   "cell_type": "code",
   "execution_count": 5,
   "metadata": {},
   "outputs": [
    {
     "name": "stdout",
     "output_type": "stream",
     "text": [
      "Number of molecules with a missing largest fragment SMILES string: 0/13520\n",
      "Number of unique inchikeys: 13451/13520\n",
      "Number of duplicates inchikeys: 136 - e.g.: Index([11041, 11042], dtype='int64')\n",
      "Number of molecules with a negative target value: 0/13520 - e.g.:Index([], dtype='int64')\n",
      "Number of molecules with target value>100: 0/13520 - e.g.:Index([], dtype='int64')\n"
     ]
    }
   ],
   "source": [
    "dd2_data_df['largest_frag']        = dd2_data_df[mol_column].apply(utilities.get_largest_fragment_from_mol)\n",
    "\n",
    "dd2_data_df['largest_frag_smiles'] = dd2_data_df['largest_frag'].apply(lambda mol: MolToSmiles(utilities.sanitize_molecule(mol, add_explicit_h=True)))\n",
    "\n",
    "dd2_data_df.dropna(subset=['largest_frag_smiles'], axis=0, inplace=True)\n",
    "\n",
    "\n",
    "dd2_data_df['largest_frag_ikey'] = dd2_data_df['largest_frag'].apply(MolToInchiKey)\n",
    "duplicates = dd2_data_df[dd2_data_df.duplicated(subset=['largest_frag_ikey'], keep=False)].sort_values(by='largest_frag_ikey')\n",
    "\n",
    "print(f\"Number of molecules with a missing largest fragment SMILES string: {dd2_data_df['largest_frag_smiles'].isna().sum()}/{dd2_data_df.shape[0]}\")\n",
    "\n",
    "print(f\"Number of unique inchikeys: {dd2_data_df['largest_frag_ikey'].unique().size}/{dd2_data_df.shape[0]}\")\n",
    "print(f\"Number of duplicates inchikeys: {duplicates.shape[0]} - e.g.: {duplicates.index[:2]}\")\n",
    "print(f\"Number of molecules with a negative target value: {dd2_data_df[dd2_data_df[target_column]<0].shape[0]}/{dd2_data_df.shape[0]} - e.g.:{dd2_data_df[dd2_data_df[target_column]<0].index[:2]}\")\n",
    "print(f\"Number of molecules with target value>100: {dd2_data_df[dd2_data_df[target_column]>100].shape[0]}/{dd2_data_df.shape[0]} - e.g.:{dd2_data_df[dd2_data_df[target_column]>100].index[:2]}\")\n",
    "# dd2_data_df[['PUBCHEM_CID', 'largest_frag_ikey', target_column]].loc[[8,9,272, 458, 11041, 11042],:]\n",
    "\n"
   ]
  },
  {
   "cell_type": "code",
   "execution_count": 6,
   "metadata": {},
   "outputs": [
    {
     "name": "stdout",
     "output_type": "stream",
     "text": [
      "Empty DataFrame\n",
      "Columns: [PUBCHEM_SID, PUBCHEM_CID, PUBCHEM_EXT_DATASOURCE_SMILES, PUBCHEM_ACTIVITY_OUTCOME, PCT_INHIB_DD2, DD2_ACTIVITY_CLS, RMol, largest_frag, largest_frag_smiles, largest_frag_ikey, lf_num_frags]\n",
      "Index: []\n"
     ]
    }
   ],
   "source": [
    "\n",
    "dd2_data_df['lf_num_frags'] = dd2_data_df['largest_frag'].apply(lambda x: len(Chem.GetMolFrags(x)))\n",
    "print(dd2_data_df[dd2_data_df['lf_num_frags']>1])"
   ]
  },
  {
   "cell_type": "code",
   "execution_count": 7,
   "metadata": {},
   "outputs": [
    {
     "name": "stdout",
     "output_type": "stream",
     "text": [
      " Unique target values = [0 1]\n"
     ]
    }
   ],
   "source": [
    "print(f\" Unique target values = {dd2_data_df[target_column].unique()}\")\n",
    "\n",
    "dd2_data_df['PUBCHEM_CID'] = dd2_data_df['PUBCHEM_CID'].astype(int)\n",
    "\n",
    "dd2_data_df[dd2_data_df.columns.difference([mol_column, 'largest_frag', 'lf_num_frags'])].to_csv(f\"{DATASET_DIR}/dd2_inhibition_pubchem_aid_2302_cleaned.csv\")\n",
    "dd2_data_df[['PUBCHEM_CID', 'largest_frag_smiles']].to_csv(f\"{DATASET_DIR}/dd2_inhibition_pubchem_aid_2302_largest_frag_cleaned.csv\")\n",
    "\n",
    "\n",
    "# dd2_data_df.head(2)"
   ]
  },
  {
   "cell_type": "code",
   "execution_count": 8,
   "metadata": {},
   "outputs": [],
   "source": [
    "# print(11041 in dd2_data_df.index)\n",
    "# print(11042 in dd2_data_df.index)\n",
    "\n",
    "# dd2_data_df[['PUBCHEM_CID', 'largest_frag_ikey', target_column]].loc[[8,9,272, 458],:]"
   ]
  },
  {
   "cell_type": "markdown",
   "metadata": {},
   "source": [
    "<p style=\"font-family: cursive; font-size=16px\">As you can see, the target values outside of the [0,100] were fixed\n",
    "    . Moreover, the rows with indices 11041 and 11042 are no longer in the datarame. This is because the corresponding rows have the same inchikeys, but with values that\n",
    "    are more than 20 % apart. </p>"
   ]
  },
  {
   "cell_type": "code",
   "execution_count": 9,
   "metadata": {},
   "outputs": [
    {
     "name": "stdout",
     "output_type": "stream",
     "text": [
      "atom_list:  [35, 6, 7, 8, 9, 15, 16, 17, 53]\n",
      "List of unique atomic numbers:  ['35:Br', '6:C', '7:N', '8:O', '9:F', '15:P', '16:S', '17:Cl', '53:I']\n"
     ]
    }
   ],
   "source": [
    "atom_list = dd2_data_df['largest_frag'].apply(lambda mol: list(set([atom.GetAtomicNum() for atom in mol.GetAtoms()])))\n",
    "atom_list = list(set(utilities.flatten_list(atom_list.values.tolist())))\n",
    "\n",
    "print(\"atom_list: \", atom_list)\n",
    "\n",
    "print(\"List of unique atomic numbers: \",  [f\"{i}:{Chem.Atom(i).GetSymbol()}\" for i in atom_list])"
   ]
  },
  {
   "cell_type": "markdown",
   "metadata": {},
   "source": [
    "<p style=\"font-family: cursive; font-size=16px\">Instead of defining a long range of values for possible atomic numbers (e.g.: 1-100), which could lead to a very sparse matrix, we can instead focus on the list of atoms that commonly occur in drug-like compounds. Specifically in this set, we notice that only 9 atoms occur in the list of tested compounds. If we add Hydrogen (which will be expicit), we have a vector of length 10 to represent the atomic number, plus 1 additional bit for unknown atomic numbers.</p>\n",
    "<p style=\"font-family: cursive; font-size=16px\">Le'ts define the atom anf bond featurizers.</p>\n"
   ]
  },
  {
   "cell_type": "code",
   "execution_count": 10,
   "metadata": {},
   "outputs": [],
   "source": [
    "atom_featurizer = featurizers.AtomFeaturizer(\n",
    "    allowable_sets_one_hot={\n",
    "        \"atomic_num\": set(atom_list + [1]),\n",
    "        \"n_valence\": {0, 1, 2, 3, 4, 5, 6},\n",
    "        \"n_hydrogens\": {0, 1, 2, 3, 4},\n",
    "        \"hybridization\": {\"s\", \"sp\", \"sp2\", \"sp3\", \"sp3\", \"sp3d\", \"sp3d2\"},\n",
    "        \"chiral_tag\": {0,1,2,3},\n",
    "        \"is_aromatic\": {True, False},\n",
    "        \"is_in_ring\": {True, False} ,\n",
    "        \"is_in_ring_size_4\": {True, False},\n",
    "        \"is_in_ring_size_5\": {True, False},\n",
    "        \"is_in_ring_size_6\": {True, False}\n",
    "    }\n",
    "    , continuous_props = ['atomic_mass', 'atomic_vdw_radius', 'atomic_covalent_radius']\n",
    ")\n",
    "\n",
    "bond_featurizer = featurizers.BondFeaturizer(\n",
    "    allowable_sets_one_hot={\n",
    "        \"bond_type\": {\"single\", \"double\", \"triple\", \"aromatic\"},\n",
    "        \"conjugated\": {True, False},\n",
    "        \"stereo\": {\"stereonone, stereoz, stereoe, stereocis, stereotrans\"}\n",
    "    }\n",
    ")"
   ]
  },
  {
   "cell_type": "code",
   "execution_count": 11,
   "metadata": {},
   "outputs": [
    {
     "name": "stdout",
     "output_type": "stream",
     "text": [
      "atom_featurizer =  {'atomic_num': {1: 0, 6: 1, 7: 2, 8: 3, 9: 4, 15: 5, 16: 6, 17: 7, 35: 8, 53: 9, 'unk': 10}, 'n_valence': {0: 11, 1: 12, 2: 13, 3: 14, 4: 15, 5: 16, 6: 17, 'unk': 18}, 'n_hydrogens': {0: 19, 1: 20, 2: 21, 3: 22, 4: 23, 'unk': 24}, 'hybridization': {'s': 25, 'sp': 26, 'sp2': 27, 'sp3': 28, 'sp3d': 29, 'sp3d2': 30, 'unk': 31}, 'chiral_tag': {0: 32, 1: 33, 2: 34, 3: 35, 'unk': 36}, 'is_aromatic': {False: 37, True: 38, 'unk': 39}, 'is_in_ring': {False: 40, True: 41, 'unk': 42}, 'is_in_ring_size_4': {False: 43, True: 44, 'unk': 45}, 'is_in_ring_size_5': {False: 46, True: 47, 'unk': 48}, 'is_in_ring_size_6': {False: 49, True: 50, 'unk': 51}, 'atomic_mass': 52, 'atomic_vdw_radius': 53, 'atomic_covalent_radius': 54}\n",
      "\n",
      "bond_featurizer =  {'bond_type': {'aromatic': 0, 'double': 1, 'single': 2, 'triple': 3, 'unk': 4}, 'conjugated': {False: 5, True: 6, 'unk': 7}, 'stereo': {'stereonone, stereoz, stereoe, stereocis, stereotrans': 8, 'unk': 9}}\n"
     ]
    }
   ],
   "source": [
    "print('atom_featurizer = ', atom_featurizer.features_mapping) \n",
    "print('\\nbond_featurizer = ', bond_featurizer.features_mapping) "
   ]
  },
  {
   "cell_type": "code",
   "execution_count": 12,
   "metadata": {},
   "outputs": [],
   "source": [
    "seed = 23332\n",
    "utilities.set_seeds(seed=seed)"
   ]
  },
  {
   "cell_type": "markdown",
   "metadata": {},
   "source": [
    "<h4 style=\"font-family: cursive\"> Data splitting</h4>\n",
    "<p style=\"font-family: cursive; font-size=16px\">We will split the data into train, validation and test sets, using the scaffold splitting method. Small-molecule scaffold splitting, particularly using the Bemis-Murcko scaffold approach, involves identifying and extracting the core structural framework shared among a set of chemical compounds, excluding variable substituents. This process simplifies and abstracts the diverse chemical structures, aiding in the analysis of chemical libraries and structure-activity relationships. The Bemis-Murcko scaffold represents the most conserved structural elements of the compounds.<br/>While scaffold splitting facilitates the identification of key structural motifs,and can enhance model interpretation, it has limitations in handling highly flexible or structurally diverse molecules,and may result in the loss of detailed iformation about specific functional groups or substituents, potentially oversimplifying structure-activity relationships. Moreover, In some cases, scaffold splitting may lead to overly strict splitting criteria, resulting in training, validation, and test sets that are too similar in chemical space.</p>"
   ]
  },
  {
   "cell_type": "code",
   "execution_count": 13,
   "metadata": {},
   "outputs": [
    {
     "name": "stdout",
     "output_type": "stream",
     "text": [
      "Dataset sizes: Train (10816) - Validation (2028) - Test (676)\n"
     ]
    }
   ],
   "source": [
    "molecules = dd2_data_df['largest_frag'].values\n",
    "targets = dd2_data_df[target_column].values\n",
    "\n",
    "splitter= splitters.ScaffoldSplitter()\n",
    "train_idx, val_idx, test_idx = splitter.train_val_test_split(molecules=molecules[:], train_ratio=0.8, val_ratio=0.15\n",
    "                            , test_ratio=0.05, return_as_indices=True, return_as_clusters=False, include_chirality=False\n",
    "                            , sort_by_size=True, shuffle_idx=True, random_state=seed)\n",
    "\n",
    "# csplitter = splitters.ClusterSplitter()\n",
    "# train_idx, val_idx, test_idx = csplitter.train_val_test_split(molecules=molecules[:], train_ratio=0.8, val_ratio=0.1\n",
    "#                             , test_ratio=0.1, return_as_indices=True, return_as_clusters=False, include_chirality=True\n",
    "#                             , sort_by_size=True, shuffle_idx=False, random_state=seed, sim_cutoff=0.7)\n",
    "\n",
    "# kfold_splits = splitter.kfold_split(molecules=molecules[:50], n_folds=3, return_as_indices=False, include_chirality=False\n",
    "#                             , random_state=1)\n",
    "# print(f\"fold sizes: {[len(f) for f in kfold_splits]}\")\n",
    "\n",
    "train_mols, y_train = [molecules[i] for i in train_idx], targets[train_idx]\n",
    "val_mols, y_val     = [molecules[i] for i in val_idx], targets[val_idx]\n",
    "test_mols, y_test   = [molecules[i] for i in test_idx], targets[test_idx]\n",
    "\n",
    "print(f\"Dataset sizes: Train ({len(train_mols)}) - Validation ({len(val_mols)}) - Test ({len(test_mols)})\")\n",
    "\n",
    "\n",
    "smiles_and_labels = {}\n",
    "largest_frag_smiles = dd2_data_df['largest_frag_smiles'].values\n",
    "train_smiles        = [largest_frag_smiles[i] for i in train_idx]\n",
    "val_smiles          = [largest_frag_smiles[i] for i in val_idx]\n",
    "test_smiles         = [largest_frag_smiles[i] for i in test_idx]\n",
    "\n",
    "smiles_and_labels['train'] = (train_smiles, y_train)\n",
    "smiles_and_labels['val']   = (val_smiles, y_val)\n",
    "smiles_and_labels['test']  = (test_smiles, y_test)\n",
    "\n",
    "\n",
    "pickle.dump(smiles_and_labels, open(f'{DATASET_DIR}/dd2_splits_smiles_and_labels.pkl', 'wb'))"
   ]
  },
  {
   "cell_type": "code",
   "execution_count": 14,
   "metadata": {},
   "outputs": [
    {
     "data": {
      "image/png": "[encoded data removed]",
      "text/plain": [
       "<IPython.core.display.Image object>"
      ]
     },
     "execution_count": 14,
     "metadata": {},
     "output_type": "execute_result"
    }
   ],
   "source": [
    "Draw.MolsToGridImage(sample(train_mols, 5) + sample(val_mols, 5) + sample(test_mols, 5)\n",
    "                     , molsPerRow=5, subImgSize=(200, 150)\n",
    "                     , legends=['train'] * 5 + ['val'] * 5 + ['test'] * 5, highlightAtomLists=None)"
   ]
  },
  {
   "cell_type": "markdown",
   "metadata": {},
   "source": [
    "<h4 style=\"font-family: cursive\">Featurization and Loaders</h4>"
   ]
  },
  {
   "cell_type": "code",
   "execution_count": 15,
   "metadata": {},
   "outputs": [
    {
     "name": "stdout",
     "output_type": "stream",
     "text": [
      "RDKIT property calculation: 55.373 seconds.\n"
     ]
    },
    {
     "name": "stderr",
     "output_type": "stream",
     "text": [
      "100%|██████████| 10816/10816 [00:21<00:00, 499.37it/s]\n"
     ]
    },
    {
     "name": "stdout",
     "output_type": "stream",
     "text": [
      "MORDRED property calculation: 22.351 seconds.\n",
      "len_mol_features: 10816\n",
      "CPU times: user 1min 20s, sys: 5.23 s, total: 1min 26s\n",
      "Wall time: 1min 29s\n"
     ]
    },
    {
     "data": {
      "text/plain": [
       "(torch.Size([22, 55]), 40)"
      ]
     },
     "execution_count": 15,
     "metadata": {},
     "output_type": "execute_result"
    }
   ],
   "source": [
    "%%time\n",
    "# features_ = None\n",
    "features_ = [\n",
    "                'CalcExactMolWt'\n",
    "                , 'CalcTPSA', 'CalcNumAromaticRings', 'CalcNumHBA', 'CalcNumHBD'\n",
    "                , 'CalcNumRotatableBonds'\n",
    "                # , 'CalcChi0n', 'CalcChi0v', 'CalcChi1n', 'CalcChi1v', 'CalcChi2n', 'CalcChi2v'\n",
    "                # , 'CalcChi3n', 'CalcChi3v', 'CalcChi4n', 'CalcChi4v', 'CalcChi0n', 'CalcChi0v'\n",
    "                , 'MolLogP', 'HallKierAlpha', 'qed', 'MaxPartialCharge', 'MinPartialCharge'\n",
    "                # , 'ZagrebIndex'\n",
    "                , 'MoeType'\n",
    "            \n",
    "            ]\n",
    "\n",
    "mol_featurizer = featurizers.MoleculeFeaturizer(features = features_, df_func_gps=featurizers.DF_FUNC_GRPS_MINI) # featurizers.DF_FUNC_GRPS\n",
    "\n",
    "train_dataset  = gnn_utils.get_dataset_from_mol_list(mol_list=train_mols[:], targets=y_train[:]\n",
    "                                                    , atom_featurizer=atom_featurizer, bond_featurizer=bond_featurizer\n",
    "                                                    , mol_featurizer=mol_featurizer\n",
    "                                                    , add_explicit_h=False, compute_global_features=True\n",
    "                                                    , add_global_feat_to_nodes=False)\n",
    "\n",
    "# print(train_dataset[1].x, train_dataset[1].y, train_dataset[1].x[0].shape) \n",
    "# if 'global_feats' in train_dataset[1].to_dict():\n",
    "#     print( train_dataset[1].global_feats)\n",
    "# train_dataset[1].x[5:10]\n",
    "\n",
    "# s = mol_featurizer.compute_rdkit_properties(train_mols[0])\n",
    "# s\n",
    "\n",
    "train_dataset[1].x.shape, len(featurizers.DF_FUNC_GRPS_MINI)"
   ]
  },
  {
   "cell_type": "code",
   "execution_count": 16,
   "metadata": {},
   "outputs": [
    {
     "name": "stdout",
     "output_type": "stream",
     "text": [
      "RDKIT property calculation: 10.285 seconds.\n"
     ]
    },
    {
     "name": "stderr",
     "output_type": "stream",
     "text": [
      "100%|██████████| 2028/2028 [00:12<00:00, 164.03it/s]\n"
     ]
    },
    {
     "name": "stdout",
     "output_type": "stream",
     "text": [
      "MORDRED property calculation: 4.137 seconds.\n",
      "len_mol_features: 2028\n",
      "RDKIT property calculation: 11.258 seconds.\n"
     ]
    },
    {
     "name": "stderr",
     "output_type": "stream",
     "text": [
      "100%|██████████| 676/676 [00:01<00:00, 466.98it/s]\n"
     ]
    },
    {
     "name": "stdout",
     "output_type": "stream",
     "text": [
      "MORDRED property calculation: -6.805 seconds.\n",
      "len_mol_features: 676\n"
     ]
    }
   ],
   "source": [
    "val_dataset = gnn_utils.get_dataset_from_mol_list(mol_list=val_mols, targets=y_val\n",
    "                                                    , atom_featurizer=atom_featurizer, bond_featurizer=bond_featurizer\n",
    "                                                    , mol_featurizer=mol_featurizer\n",
    "                                                    , add_explicit_h=False, compute_global_features=True\n",
    "                                                    , add_global_feat_to_nodes=False)\n",
    "\n",
    "test_dataset = gnn_utils.get_dataset_from_mol_list(mol_list=test_mols, targets=y_test\n",
    "                                                    , atom_featurizer=atom_featurizer, bond_featurizer=bond_featurizer\n",
    "                                                    , mol_featurizer=mol_featurizer\n",
    "                                                    , add_explicit_h=False, compute_global_features=True\n",
    "                                                    , add_global_feat_to_nodes=False)\n",
    "\n",
    "\n",
    "                                                "
   ]
  },
  {
   "cell_type": "code",
   "execution_count": 17,
   "metadata": {},
   "outputs": [],
   "source": [
    "dd2_dataset_fname = f'{DATASET_DIR}/dd2_datasets.pt'\n",
    "torch.save({'train_dataset':train_dataset, 'val_dataset':val_dataset, 'test_dataset':test_dataset}, dd2_dataset_fname)    "
   ]
  },
  {
   "cell_type": "code",
   "execution_count": 18,
   "metadata": {},
   "outputs": [
    {
     "name": "stdout",
     "output_type": "stream",
     "text": [
      "gfeatures_cleaned (10816, 104)\n",
      "gfeatures_cleaned (676, 104)\n",
      "gfeatures_cleaned (2028, 104)\n"
     ]
    }
   ],
   "source": [
    "\n",
    "batch_size=512\n",
    "train_loader, val_loader, test_loader = datasets.get_dataloaders(train_data=train_dataset, test_data=test_dataset\n",
    "                                                                 , val_data=val_dataset, batch_size=batch_size, shuffle_train=True\n",
    "                                                                 , add_global_feats_to_nodes=True, num_workers=0\n",
    "                                                                 , scale_features=True, feature_scaler=StandardScaler())\n",
    "\n",
    "\n",
    "# list(train_loader)[0].x[0].shape\n",
    "\n",
    "dd2_loader_fname = f'{DATASET_DIR}/dd2_dataloaders.pt'\n",
    "torch.save({'train_loader':train_loader, 'val_loader':val_loader, 'test_loader':test_loader}, dd2_loader_fname)    "
   ]
  },
  {
   "cell_type": "markdown",
   "metadata": {},
   "source": [
    "<h3 style=\"font-family: cursive\">Hyperparameter Tuning</h4>"
   ]
  },
  {
   "cell_type": "code",
   "execution_count": 19,
   "metadata": {},
   "outputs": [
    {
     "name": "stdout",
     "output_type": "stream",
     "text": [
      "[Data(x=[23, 55], edge_index=[2, 73], edge_attr=[73, 11], global_feats=[104], y=[1]), Data(x=[22, 55], edge_index=[2, 70], edge_attr=[70, 11], global_feats=[104], y=[1])]\n",
      "DataBatch(x=[16270, 159], edge_index=[2, 51822], edge_attr=[51822, 11], y=[512], batch=[16270], ptr=[513])\n",
      "dict_keys(['x', 'edge_index', 'edge_attr', 'y', 'batch', 'ptr'])\n",
      "None\n"
     ]
    }
   ],
   "source": [
    "in_channels = list(train_loader)[0].x[0].shape[0]\n",
    "\n",
    "print(list(train_dataset[:2]))\n",
    "print(list(train_loader)[0])\n",
    "print(list(train_loader)[0].to_dict().keys())\n",
    "global_fdim = None if list(train_loader)[0].to_dict().get('global_feats', None) is None else list(train_loader)[0].global_feats.shape[1]\n",
    "print(global_fdim)"
   ]
  },
  {
   "cell_type": "code",
   "execution_count": 20,
   "metadata": {},
   "outputs": [
    {
     "name": "stderr",
     "output_type": "stream",
     "text": [
      "[I 2024-10-21 21:57:27,199] A new study created in memory with name: my_gcn_study\n"
     ]
    },
    {
     "name": "stdout",
     "output_type": "stream",
     "text": [
      "params = {'task': 'binary_classification', 'in_channels': 159, 'global_fdim': None, 'model': 'graph_nns.GCN', 'gnn_hidden_neurons': 310, 'gnn_nlayers': 6, 'ffn_hidden_neurons': 148, 'ffn_nlayers': 2, 'out_neurons': 1, 'dropout_rate': 0.172654360046017, 'activation_func': 'torch.nn.ReLU', 'gpooling_func': 'mean', 'heads': 5, 'edge_dim': 5, 'add_edge_features': False, 'learning_rate': 0.027368015498220218, 'n_epochs': 200, 'criterion': BCELoss(), 'optimizer': \"{'optimizer_type':'torch.optim.SGD', 'weight_decay':1e-3}\", 'scheduler': \"{'lr_scheduler_type':'lr_scheduler.CyclicLR', 'max_lr':0.1, 'step_size_up':75, 'cycle_momentum':True}\", 'scoring_func': 'roc_auc_score', 'add_batch_norm': True}\n",
      "params =  {'task': 'binary_classification', 'in_channels': 159, 'global_fdim': None, 'gnn_hidden_neurons': 310, 'gnn_nlayers': 6, 'ffn_hidden_neurons': 148, 'ffn_nlayers': 2, 'out_neurons': 1, 'dropout_rate': 0.172654360046017, 'activation_func': 'torch.nn.ReLU', 'gpooling_func': 'mean', 'add_batch_norm': True}\n",
      "Initializing parameters...\n",
      "\toptimizer:  {'state': {}, 'param_groups': [{'lr': 0.027368015498220218, 'momentum': 0, 'dampening': 0, 'weight_decay': 0.001, 'nesterov': False, 'maximize': False, 'foreach': None, 'differentiable': False, 'params': [0, 1, 2, 3, 4, 5, 6, 7, 8, 9, 10, 11, 12, 13, 14, 15, 16, 17]}]}\n",
      "\tlr_scheduler:  {'max_lrs': [0.1], 'total_size': 150.0, 'step_ratio': 0.5, 'mode': 'triangular', 'gamma': 1.0, '_scale_fn_custom': None, 'scale_mode': 'cycle', 'cycle_momentum': True, 'base_momentums': [0.8], 'max_momentums': [0.9], 'base_lrs': [0.027368015498220218], 'last_epoch': 0, 'verbose': False, '_step_count': 1, '_get_lr_called_within_step': False, '_last_lr': [0.027368015498220218]}\n",
      "checkpoint dir: None\n",
      "device = cuda\n",
      "TASK: binary_classification\n",
      "\n",
      "===> Epoch    1/200: Average Train Loss: 0.692 |  Average validation Loss: 0.677 | Validation Score: 0.645 | lr: 0.02834\n",
      "\n",
      "===> Epoch   21/200: Average Train Loss: 0.395 |  Average validation Loss: 0.662 | Validation Score: 0.763 | lr: 0.04770\n",
      "\n",
      "===> Epoch   41/200: Average Train Loss: 0.303 |  Average validation Loss: 0.664 | Validation Score: 0.782 | lr: 0.06707\n",
      "\n",
      "===> Epoch   61/200: Average Train Loss: 0.264 |  Average validation Loss: 0.994 | Validation Score: 0.744 | lr: 0.08644\n",
      "\n",
      "===> Epoch   81/200: Average Train Loss: 0.225 |  Average validation Loss: 0.935 | Validation Score: 0.793 | lr: 0.09419\n",
      "\n",
      "===> Epoch  101/200: Average Train Loss: 0.207 |  Average validation Loss: 0.780 | Validation Score: 0.814 | lr: 0.07482\n",
      "\n",
      "===> Epoch  121/200: Average Train Loss: 0.150 |  Average validation Loss: 0.813 | Validation Score: 0.837 | lr: 0.05545\n",
      "\n",
      "===> Epoch  141/200: Average Train Loss: 0.128 |  Average validation Loss: 0.631 | Validation Score: 0.871 | lr: 0.03608\n",
      "\n",
      "===> Epoch  161/200: Average Train Loss: 0.117 |  Average validation Loss: 0.595 | Validation Score: 0.877 | lr: 0.03802\n",
      "\n",
      "===> Epoch  181/200: Average Train Loss: 0.135 |  Average validation Loss: 0.617 | Validation Score: 0.871 | lr: 0.05739\n"
     ]
    },
    {
     "name": "stderr",
     "output_type": "stream",
     "text": [
      "[I 2024-10-21 22:01:56,721] Trial 0 finished with value: 0.8575533111056667 and parameters: {'in_channels': 159, 'model': 'graph_nns.GCN', 'gnn_hidden_neurons': 310, 'gnn_nlayers': 6, 'ffn_hidden_neurons': 148, 'ffn_nlayers': 2, 'out_neurons': 1, 'dropout_rate': 0.172654360046017, 'activation_func': 'torch.nn.ReLU', 'gpooling_func': 'mean', 'heads': 5, 'edge_dim': 5, 'learning_rate': 0.027368015498220218, 'n_epochs': 200, 'optimizer': \"{'optimizer_type':'torch.optim.SGD', 'weight_decay':1e-3}\", 'scheduler': \"{'lr_scheduler_type':'lr_scheduler.CyclicLR', 'max_lr':0.1, 'step_size_up':75, 'cycle_momentum':True}\", 'scoring_func': 'roc_auc_score'}. Best is trial 0 with value: 0.8575533111056667.\n"
     ]
    },
    {
     "name": "stdout",
     "output_type": "stream",
     "text": [
      "\n",
      "===> Epoch  200/200: Average Train Loss: 0.144 |  Average validation Loss: 0.754 | Validation Score: 0.858 | lr: 0.07579\n",
      "params = {'task': 'binary_classification', 'in_channels': 159, 'global_fdim': None, 'model': 'graph_nns.GCN', 'gnn_hidden_neurons': 326, 'gnn_nlayers': 3, 'ffn_hidden_neurons': 212, 'ffn_nlayers': 2, 'out_neurons': 1, 'dropout_rate': 0.3589347399029237, 'activation_func': 'torch.nn.LeakyReLU', 'gpooling_func': 'mean', 'heads': 8, 'edge_dim': 7, 'add_edge_features': False, 'learning_rate': 0.0410213364221023, 'n_epochs': 250, 'criterion': BCELoss(), 'optimizer': \"{'optimizer_type':'torch.optim.SGD', 'weight_decay':1e-3}\", 'scheduler': \"{'lr_scheduler_type':'lr_scheduler.CyclicLR', 'max_lr':0.1, 'step_size_up':75, 'cycle_momentum':True}\", 'scoring_func': 'roc_auc_score', 'add_batch_norm': True}\n",
      "params =  {'task': 'binary_classification', 'in_channels': 159, 'global_fdim': None, 'gnn_hidden_neurons': 326, 'gnn_nlayers': 3, 'ffn_hidden_neurons': 212, 'ffn_nlayers': 2, 'out_neurons': 1, 'dropout_rate': 0.3589347399029237, 'activation_func': 'torch.nn.LeakyReLU', 'gpooling_func': 'mean', 'add_batch_norm': True}\n",
      "Initializing parameters...\n",
      "\toptimizer:  {'state': {}, 'param_groups': [{'lr': 0.0410213364221023, 'momentum': 0, 'dampening': 0, 'weight_decay': 0.001, 'nesterov': False, 'maximize': False, 'foreach': None, 'differentiable': False, 'params': [0, 1, 2, 3, 4, 5, 6, 7, 8, 9, 10, 11]}]}\n",
      "\tlr_scheduler:  {'max_lrs': [0.1], 'total_size': 150.0, 'step_ratio': 0.5, 'mode': 'triangular', 'gamma': 1.0, '_scale_fn_custom': None, 'scale_mode': 'cycle', 'cycle_momentum': True, 'base_momentums': [0.8], 'max_momentums': [0.9], 'base_lrs': [0.0410213364221023], 'last_epoch': 0, 'verbose': False, '_step_count': 1, '_get_lr_called_within_step': False, '_last_lr': [0.0410213364221023]}\n",
      "checkpoint dir: None\n",
      "device = cuda\n",
      "TASK: binary_classification\n",
      "\n",
      "===> Epoch    1/250: Average Train Loss: 0.731 |  Average validation Loss: 0.662 | Validation Score: 0.637 | lr: 0.04181\n",
      "\n",
      "===> Epoch   21/250: Average Train Loss: 0.499 |  Average validation Loss: 0.589 | Validation Score: 0.744 | lr: 0.05754\n",
      "\n",
      "===> Epoch   41/250: Average Train Loss: 0.405 |  Average validation Loss: 0.651 | Validation Score: 0.760 | lr: 0.07326\n",
      "\n",
      "===> Epoch   61/250: Average Train Loss: 0.312 |  Average validation Loss: 0.594 | Validation Score: 0.813 | lr: 0.08899\n",
      "\n",
      "===> Epoch   81/250: Average Train Loss: 0.254 |  Average validation Loss: 0.615 | Validation Score: 0.822 | lr: 0.09528\n",
      "\n",
      "===> Epoch  101/250: Average Train Loss: 0.239 |  Average validation Loss: 0.685 | Validation Score: 0.825 | lr: 0.07955\n",
      "\n",
      "===> Epoch  121/250: Average Train Loss: 0.194 |  Average validation Loss: 0.999 | Validation Score: 0.825 | lr: 0.06383\n",
      "\n",
      "===> Epoch  141/250: Average Train Loss: 0.166 |  Average validation Loss: 0.800 | Validation Score: 0.842 | lr: 0.04810\n",
      "\n",
      "===> Epoch  161/250: Average Train Loss: 0.158 |  Average validation Loss: 0.916 | Validation Score: 0.838 | lr: 0.04967\n",
      "\n",
      "===> Epoch  181/250: Average Train Loss: 0.168 |  Average validation Loss: 0.671 | Validation Score: 0.840 | lr: 0.06540\n",
      "\n",
      "===> Epoch  201/250: Average Train Loss: 0.159 |  Average validation Loss: 0.900 | Validation Score: 0.847 | lr: 0.08113\n",
      "\n",
      "===> Epoch  221/250: Average Train Loss: 0.172 |  Average validation Loss: 0.989 | Validation Score: 0.806 | lr: 0.09685\n",
      "\n",
      "===> Epoch  241/250: Average Train Loss: 0.156 |  Average validation Loss: 1.065 | Validation Score: 0.813 | lr: 0.08742\n"
     ]
    },
    {
     "name": "stderr",
     "output_type": "stream",
     "text": [
      "[I 2024-10-21 22:06:11,900] Trial 1 finished with value: 0.8375370358229296 and parameters: {'in_channels': 159, 'model': 'graph_nns.GCN', 'gnn_hidden_neurons': 326, 'gnn_nlayers': 3, 'ffn_hidden_neurons': 212, 'ffn_nlayers': 2, 'out_neurons': 1, 'dropout_rate': 0.3589347399029237, 'activation_func': 'torch.nn.LeakyReLU', 'gpooling_func': 'mean', 'heads': 8, 'edge_dim': 7, 'learning_rate': 0.0410213364221023, 'n_epochs': 250, 'optimizer': \"{'optimizer_type':'torch.optim.SGD', 'weight_decay':1e-3}\", 'scheduler': \"{'lr_scheduler_type':'lr_scheduler.CyclicLR', 'max_lr':0.1, 'step_size_up':75, 'cycle_momentum':True}\", 'scoring_func': 'roc_auc_score'}. Best is trial 0 with value: 0.8575533111056667.\n"
     ]
    },
    {
     "name": "stdout",
     "output_type": "stream",
     "text": [
      "\n",
      "===> Epoch  250/250: Average Train Loss: 0.156 |  Average validation Loss: 0.737 | Validation Score: 0.838 | lr: 0.08034\n",
      "params = {'task': 'binary_classification', 'in_channels': 159, 'global_fdim': None, 'model': 'graph_nns.GAT', 'gnn_hidden_neurons': 182, 'gnn_nlayers': 5, 'ffn_hidden_neurons': 372, 'ffn_nlayers': 2, 'out_neurons': 1, 'dropout_rate': 0.524877226516699, 'activation_func': 'torch.nn.ReLU', 'gpooling_func': 'mean', 'heads': 4, 'edge_dim': 4, 'add_edge_features': False, 'learning_rate': 0.04309858232417133, 'n_epochs': 300, 'criterion': BCELoss(), 'optimizer': \"{'optimizer_type':'torch.optim.SGD', 'weight_decay':1e-3}\", 'scheduler': \"{'lr_scheduler_type':'lr_scheduler.CyclicLR', 'max_lr':0.1, 'step_size_up':75, 'cycle_momentum':True}\", 'scoring_func': 'roc_auc_score', 'add_batch_norm': True}\n",
      "Initializing parameters...\n",
      "\toptimizer:  {'state': {}, 'param_groups': [{'lr': 0.04309858232417133, 'momentum': 0, 'dampening': 0, 'weight_decay': 0.001, 'nesterov': False, 'maximize': False, 'foreach': None, 'differentiable': False, 'params': [0, 1, 2, 3, 4, 5, 6, 7, 8, 9, 10, 11, 12, 13, 14, 15, 16, 17, 18, 19, 20, 21, 22, 23, 24, 25, 26, 27, 28, 29, 30, 31, 32, 33, 34, 35]}]}\n",
      "\tlr_scheduler:  {'max_lrs': [0.1], 'total_size': 150.0, 'step_ratio': 0.5, 'mode': 'triangular', 'gamma': 1.0, '_scale_fn_custom': None, 'scale_mode': 'cycle', 'cycle_momentum': True, 'base_momentums': [0.8], 'max_momentums': [0.9], 'base_lrs': [0.04309858232417133], 'last_epoch': 0, 'verbose': False, '_step_count': 1, '_get_lr_called_within_step': False, '_last_lr': [0.04309858232417133]}\n",
      "checkpoint dir: None\n",
      "device = cuda\n",
      "TASK: binary_classification\n",
      "\n",
      "===> Epoch    1/300: Average Train Loss: 3.826 |  Average validation Loss: 3.745 | Validation Score: 0.567 | lr: 0.04386\n",
      "\n",
      "===> Epoch   21/300: Average Train Loss: 3.527 |  Average validation Loss: 3.698 | Validation Score: 0.764 | lr: 0.05903\n",
      "\n",
      "===> Epoch   41/300: Average Train Loss: 3.489 |  Average validation Loss: 3.698 | Validation Score: 0.772 | lr: 0.07420\n",
      "\n",
      "===> Epoch   61/300: Average Train Loss: 3.460 |  Average validation Loss: 3.703 | Validation Score: 0.765 | lr: 0.08938\n",
      "\n",
      "===> Epoch   81/300: Average Train Loss: 3.459 |  Average validation Loss: 3.692 | Validation Score: 0.783 | lr: 0.09545\n",
      "\n",
      "===> Epoch  101/300: Average Train Loss: 3.422 |  Average validation Loss: 3.859 | Validation Score: 0.778 | lr: 0.08027\n",
      "\n",
      "===> Epoch  121/300: Average Train Loss: 3.397 |  Average validation Loss: 3.673 | Validation Score: 0.792 | lr: 0.06510\n",
      "\n",
      "===> Epoch  141/300: Average Train Loss: 3.402 |  Average validation Loss: 3.702 | Validation Score: 0.806 | lr: 0.04993\n",
      "\n",
      "===> Epoch  161/300: Average Train Loss: 3.389 |  Average validation Loss: 3.674 | Validation Score: 0.803 | lr: 0.05144\n",
      "\n",
      "===> Epoch  181/300: Average Train Loss: 3.414 |  Average validation Loss: 3.675 | Validation Score: 0.795 | lr: 0.06662\n",
      "\n",
      "===> Epoch  201/300: Average Train Loss: 3.388 |  Average validation Loss: 3.674 | Validation Score: 0.801 | lr: 0.08179\n",
      "\n",
      "===> Epoch  221/300: Average Train Loss: 3.393 |  Average validation Loss: 3.761 | Validation Score: 0.810 | lr: 0.09697\n",
      "\n",
      "===> Epoch  241/300: Average Train Loss: 3.421 |  Average validation Loss: 3.676 | Validation Score: 0.815 | lr: 0.08786\n",
      "\n",
      "===> Epoch  261/300: Average Train Loss: 3.366 |  Average validation Loss: 3.665 | Validation Score: 0.802 | lr: 0.07269\n",
      "\n",
      "===> Epoch  281/300: Average Train Loss: 3.364 |  Average validation Loss: 3.661 | Validation Score: 0.827 | lr: 0.05751\n"
     ]
    },
    {
     "name": "stderr",
     "output_type": "stream",
     "text": [
      "[I 2024-10-21 22:33:31,716] Trial 2 finished with value: 0.8281078308424273 and parameters: {'in_channels': 159, 'model': 'graph_nns.GAT', 'gnn_hidden_neurons': 182, 'gnn_nlayers': 5, 'ffn_hidden_neurons': 372, 'ffn_nlayers': 2, 'out_neurons': 1, 'dropout_rate': 0.524877226516699, 'activation_func': 'torch.nn.ReLU', 'gpooling_func': 'mean', 'heads': 4, 'edge_dim': 4, 'learning_rate': 0.04309858232417133, 'n_epochs': 300, 'optimizer': \"{'optimizer_type':'torch.optim.SGD', 'weight_decay':1e-3}\", 'scheduler': \"{'lr_scheduler_type':'lr_scheduler.CyclicLR', 'max_lr':0.1, 'step_size_up':75, 'cycle_momentum':True}\", 'scoring_func': 'roc_auc_score'}. Best is trial 0 with value: 0.8575533111056667.\n"
     ]
    },
    {
     "name": "stdout",
     "output_type": "stream",
     "text": [
      "\n",
      "===> Epoch  300/300: Average Train Loss: 3.345 |  Average validation Loss: 3.941 | Validation Score: 0.828 | lr: 0.04310\n",
      "params = {'task': 'binary_classification', 'in_channels': 159, 'global_fdim': None, 'model': 'graph_nns.GAT', 'gnn_hidden_neurons': 230, 'gnn_nlayers': 6, 'ffn_hidden_neurons': 340, 'ffn_nlayers': 1, 'out_neurons': 1, 'dropout_rate': 0.5463262403665002, 'activation_func': 'torch.nn.LeakyReLU', 'gpooling_func': 'mean', 'heads': 8, 'edge_dim': 8, 'add_edge_features': False, 'learning_rate': 0.012618966705115212, 'n_epochs': 250, 'criterion': BCELoss(), 'optimizer': \"{'optimizer_type':'torch.optim.SGD', 'weight_decay':1e-3}\", 'scheduler': \"{'lr_scheduler_type':'lr_scheduler.CyclicLR', 'max_lr':0.1, 'step_size_up':75, 'cycle_momentum':True}\", 'scoring_func': 'roc_auc_score', 'add_batch_norm': True}\n",
      "Initializing parameters...\n",
      "\toptimizer:  {'state': {}, 'param_groups': [{'lr': 0.012618966705115212, 'momentum': 0, 'dampening': 0, 'weight_decay': 0.001, 'nesterov': False, 'maximize': False, 'foreach': None, 'differentiable': False, 'params': [0, 1, 2, 3, 4, 5, 6, 7, 8, 9, 10, 11, 12, 13, 14, 15, 16, 17, 18, 19, 20, 21, 22, 23, 24, 25, 26, 27, 28, 29, 30, 31, 32, 33, 34, 35, 36, 37, 38, 39]}]}\n",
      "\tlr_scheduler:  {'max_lrs': [0.1], 'total_size': 150.0, 'step_ratio': 0.5, 'mode': 'triangular', 'gamma': 1.0, '_scale_fn_custom': None, 'scale_mode': 'cycle', 'cycle_momentum': True, 'base_momentums': [0.8], 'max_momentums': [0.9], 'base_lrs': [0.012618966705115212], 'last_epoch': 0, 'verbose': False, '_step_count': 1, '_get_lr_called_within_step': False, '_last_lr': [0.012618966705115212]}\n",
      "checkpoint dir: None\n",
      "device = cuda\n",
      "TASK: binary_classification\n",
      "\n",
      "===> Epoch    1/250: Average Train Loss: 3.775 |  Average validation Loss: 3.779 | Validation Score: 0.606 | lr: 0.01378\n",
      "\n",
      "===> Epoch   21/250: Average Train Loss: 3.500 |  Average validation Loss: 3.723 | Validation Score: 0.774 | lr: 0.03709\n",
      "\n",
      "===> Epoch   41/250: Average Train Loss: 3.443 |  Average validation Loss: 3.679 | Validation Score: 0.791 | lr: 0.06039\n",
      "\n",
      "===> Epoch   61/250: Average Train Loss: 3.430 |  Average validation Loss: 3.686 | Validation Score: 0.801 | lr: 0.08369\n",
      "\n",
      "===> Epoch   81/250: Average Train Loss: 3.413 |  Average validation Loss: 3.668 | Validation Score: 0.830 | lr: 0.09301\n",
      "\n",
      "===> Epoch  101/250: Average Train Loss: 3.389 |  Average validation Loss: 3.641 | Validation Score: 0.851 | lr: 0.06971\n",
      "\n",
      "===> Epoch  121/250: Average Train Loss: 3.362 |  Average validation Loss: 3.728 | Validation Score: 0.854 | lr: 0.04641\n",
      "\n",
      "===> Epoch  141/250: Average Train Loss: 3.319 |  Average validation Loss: 3.607 | Validation Score: 0.886 | lr: 0.02310\n",
      "\n",
      "===> Epoch  161/250: Average Train Loss: 3.329 |  Average validation Loss: 3.596 | Validation Score: 0.903 | lr: 0.02543\n",
      "\n",
      "===> Epoch  181/250: Average Train Loss: 3.342 |  Average validation Loss: 3.610 | Validation Score: 0.877 | lr: 0.04874\n",
      "\n",
      "===> Epoch  201/250: Average Train Loss: 3.361 |  Average validation Loss: 3.658 | Validation Score: 0.861 | lr: 0.07204\n",
      "\n",
      "===> Epoch  221/250: Average Train Loss: 3.365 |  Average validation Loss: 3.854 | Validation Score: 0.834 | lr: 0.09534\n",
      "\n",
      "===> Epoch  241/250: Average Train Loss: 3.343 |  Average validation Loss: 3.812 | Validation Score: 0.860 | lr: 0.08136\n"
     ]
    },
    {
     "name": "stderr",
     "output_type": "stream",
     "text": [
      "[I 2024-10-22 04:00:47,409] Trial 3 finished with value: 0.8587072065391137 and parameters: {'in_channels': 159, 'model': 'graph_nns.GAT', 'gnn_hidden_neurons': 230, 'gnn_nlayers': 6, 'ffn_hidden_neurons': 340, 'ffn_nlayers': 1, 'out_neurons': 1, 'dropout_rate': 0.5463262403665002, 'activation_func': 'torch.nn.LeakyReLU', 'gpooling_func': 'mean', 'heads': 8, 'edge_dim': 8, 'learning_rate': 0.012618966705115212, 'n_epochs': 250, 'optimizer': \"{'optimizer_type':'torch.optim.SGD', 'weight_decay':1e-3}\", 'scheduler': \"{'lr_scheduler_type':'lr_scheduler.CyclicLR', 'max_lr':0.1, 'step_size_up':75, 'cycle_momentum':True}\", 'scoring_func': 'roc_auc_score'}. Best is trial 3 with value: 0.8587072065391137.\n"
     ]
    },
    {
     "name": "stdout",
     "output_type": "stream",
     "text": [
      "\n",
      "===> Epoch  250/250: Average Train Loss: 3.355 |  Average validation Loss: 3.639 | Validation Score: 0.859 | lr: 0.07087\n",
      "params = {'task': 'binary_classification', 'in_channels': 159, 'global_fdim': None, 'model': 'graph_nns.GCN', 'gnn_hidden_neurons': 310, 'gnn_nlayers': 5, 'ffn_hidden_neurons': 260, 'ffn_nlayers': 1, 'out_neurons': 1, 'dropout_rate': 0.5792942355454156, 'activation_func': 'torch.nn.LeakyReLU', 'gpooling_func': 'mean', 'heads': 6, 'edge_dim': 3, 'add_edge_features': False, 'learning_rate': 0.018068342979022683, 'n_epochs': 300, 'criterion': BCELoss(), 'optimizer': \"{'optimizer_type':'torch.optim.SGD', 'weight_decay':1e-3}\", 'scheduler': \"{'lr_scheduler_type':'lr_scheduler.CyclicLR', 'max_lr':0.1, 'step_size_up':75, 'cycle_momentum':True}\", 'scoring_func': 'roc_auc_score', 'add_batch_norm': True}\n",
      "params =  {'task': 'binary_classification', 'in_channels': 159, 'global_fdim': None, 'gnn_hidden_neurons': 310, 'gnn_nlayers': 5, 'ffn_hidden_neurons': 260, 'ffn_nlayers': 1, 'out_neurons': 1, 'dropout_rate': 0.5792942355454156, 'activation_func': 'torch.nn.LeakyReLU', 'gpooling_func': 'mean', 'add_batch_norm': True}\n",
      "Initializing parameters...\n",
      "\toptimizer:  {'state': {}, 'param_groups': [{'lr': 0.018068342979022683, 'momentum': 0, 'dampening': 0, 'weight_decay': 0.001, 'nesterov': False, 'maximize': False, 'foreach': None, 'differentiable': False, 'params': [0, 1, 2, 3, 4, 5, 6, 7, 8, 9, 10, 11, 12, 13]}]}\n",
      "\tlr_scheduler:  {'max_lrs': [0.1], 'total_size': 150.0, 'step_ratio': 0.5, 'mode': 'triangular', 'gamma': 1.0, '_scale_fn_custom': None, 'scale_mode': 'cycle', 'cycle_momentum': True, 'base_momentums': [0.8], 'max_momentums': [0.9], 'base_lrs': [0.018068342979022683], 'last_epoch': 0, 'verbose': False, '_step_count': 1, '_get_lr_called_within_step': False, '_last_lr': [0.018068342979022683]}\n",
      "checkpoint dir: None\n",
      "device = cuda\n",
      "TASK: binary_classification\n",
      "\n",
      "===> Epoch    1/300: Average Train Loss: 0.715 |  Average validation Loss: 0.651 | Validation Score: 0.629 | lr: 0.01916\n",
      "\n",
      "===> Epoch   21/300: Average Train Loss: 0.423 |  Average validation Loss: 0.573 | Validation Score: 0.782 | lr: 0.04101\n",
      "\n",
      "===> Epoch   41/300: Average Train Loss: 0.298 |  Average validation Loss: 0.922 | Validation Score: 0.786 | lr: 0.06286\n",
      "\n",
      "===> Epoch   61/300: Average Train Loss: 0.283 |  Average validation Loss: 0.858 | Validation Score: 0.761 | lr: 0.08471\n",
      "\n",
      "===> Epoch   81/300: Average Train Loss: 0.258 |  Average validation Loss: 0.872 | Validation Score: 0.775 | lr: 0.09345\n",
      "\n",
      "===> Epoch  101/300: Average Train Loss: 0.207 |  Average validation Loss: 1.956 | Validation Score: 0.773 | lr: 0.07160\n",
      "\n",
      "===> Epoch  121/300: Average Train Loss: 0.167 |  Average validation Loss: 1.962 | Validation Score: 0.772 | lr: 0.04975\n",
      "\n",
      "===> Epoch  141/300: Average Train Loss: 0.131 |  Average validation Loss: 2.152 | Validation Score: 0.786 | lr: 0.02790\n",
      "\n",
      "===> Epoch  161/300: Average Train Loss: 0.113 |  Average validation Loss: 3.723 | Validation Score: 0.792 | lr: 0.03008\n",
      "\n",
      "===> Epoch  181/300: Average Train Loss: 0.147 |  Average validation Loss: 5.157 | Validation Score: 0.773 | lr: 0.05193\n",
      "\n",
      "===> Epoch  201/300: Average Train Loss: 0.184 |  Average validation Loss: 18.349 | Validation Score: 0.705 | lr: 0.07378\n",
      "\n",
      "===> Epoch  221/300: Average Train Loss: 0.162 |  Average validation Loss: 5.137 | Validation Score: 0.743 | lr: 0.09563\n",
      "\n",
      "===> Epoch  241/300: Average Train Loss: 0.179 |  Average validation Loss: 4.668 | Validation Score: 0.748 | lr: 0.08252\n",
      "\n",
      "===> Epoch  261/300: Average Train Loss: 0.123 |  Average validation Loss: 39.618 | Validation Score: 0.503 | lr: 0.06067\n",
      "\n",
      "===> Epoch  281/300: Average Train Loss: 0.093 |  Average validation Loss: 22.470 | Validation Score: 0.748 | lr: 0.03882\n"
     ]
    },
    {
     "name": "stderr",
     "output_type": "stream",
     "text": [
      "[I 2024-10-22 04:07:19,641] Trial 4 finished with value: 0.756024506105448 and parameters: {'in_channels': 159, 'model': 'graph_nns.GCN', 'gnn_hidden_neurons': 310, 'gnn_nlayers': 5, 'ffn_hidden_neurons': 260, 'ffn_nlayers': 1, 'out_neurons': 1, 'dropout_rate': 0.5792942355454156, 'activation_func': 'torch.nn.LeakyReLU', 'gpooling_func': 'mean', 'heads': 6, 'edge_dim': 3, 'learning_rate': 0.018068342979022683, 'n_epochs': 300, 'optimizer': \"{'optimizer_type':'torch.optim.SGD', 'weight_decay':1e-3}\", 'scheduler': \"{'lr_scheduler_type':'lr_scheduler.CyclicLR', 'max_lr':0.1, 'step_size_up':75, 'cycle_momentum':True}\", 'scoring_func': 'roc_auc_score'}. Best is trial 3 with value: 0.8587072065391137.\n"
     ]
    },
    {
     "name": "stdout",
     "output_type": "stream",
     "text": [
      "\n",
      "===> Epoch  300/300: Average Train Loss: 0.062 |  Average validation Loss: 10.662 | Validation Score: 0.756 | lr: 0.01807\n",
      "params = {'task': 'binary_classification', 'in_channels': 159, 'global_fdim': None, 'model': 'graph_nns.GCN', 'gnn_hidden_neurons': 342, 'gnn_nlayers': 4, 'ffn_hidden_neurons': 404, 'ffn_nlayers': 2, 'out_neurons': 1, 'dropout_rate': 0.5797774603801864, 'activation_func': 'torch.nn.LeakyReLU', 'gpooling_func': 'mean', 'heads': 8, 'edge_dim': 6, 'add_edge_features': False, 'learning_rate': 0.01373439713732089, 'n_epochs': 450, 'criterion': BCELoss(), 'optimizer': \"{'optimizer_type':'torch.optim.SGD', 'weight_decay':1e-3}\", 'scheduler': \"{'lr_scheduler_type':'lr_scheduler.CyclicLR', 'max_lr':0.1, 'step_size_up':75, 'cycle_momentum':True}\", 'scoring_func': 'roc_auc_score', 'add_batch_norm': True}\n",
      "params =  {'task': 'binary_classification', 'in_channels': 159, 'global_fdim': None, 'gnn_hidden_neurons': 342, 'gnn_nlayers': 4, 'ffn_hidden_neurons': 404, 'ffn_nlayers': 2, 'out_neurons': 1, 'dropout_rate': 0.5797774603801864, 'activation_func': 'torch.nn.LeakyReLU', 'gpooling_func': 'mean', 'add_batch_norm': True}\n",
      "Initializing parameters...\n",
      "\toptimizer:  {'state': {}, 'param_groups': [{'lr': 0.01373439713732089, 'momentum': 0, 'dampening': 0, 'weight_decay': 0.001, 'nesterov': False, 'maximize': False, 'foreach': None, 'differentiable': False, 'params': [0, 1, 2, 3, 4, 5, 6, 7, 8, 9, 10, 11, 12, 13]}]}\n",
      "\tlr_scheduler:  {'max_lrs': [0.1], 'total_size': 150.0, 'step_ratio': 0.5, 'mode': 'triangular', 'gamma': 1.0, '_scale_fn_custom': None, 'scale_mode': 'cycle', 'cycle_momentum': True, 'base_momentums': [0.8], 'max_momentums': [0.9], 'base_lrs': [0.01373439713732089], 'last_epoch': 0, 'verbose': False, '_step_count': 1, '_get_lr_called_within_step': False, '_last_lr': [0.01373439713732089]}\n",
      "checkpoint dir: None\n",
      "device = cuda\n",
      "TASK: binary_classification\n",
      "\n",
      "===> Epoch    1/450: Average Train Loss: 0.826 |  Average validation Loss: 0.665 | Validation Score: 0.625 | lr: 0.01488\n",
      "\n",
      "===> Epoch   21/450: Average Train Loss: 0.505 |  Average validation Loss: 0.634 | Validation Score: 0.739 | lr: 0.03789\n",
      "\n",
      "===> Epoch   41/450: Average Train Loss: 0.386 |  Average validation Loss: 0.722 | Validation Score: 0.777 | lr: 0.06089\n",
      "\n",
      "===> Epoch   61/450: Average Train Loss: 0.321 |  Average validation Loss: 0.675 | Validation Score: 0.785 | lr: 0.08390\n",
      "\n",
      "===> Epoch   81/450: Average Train Loss: 0.280 |  Average validation Loss: 0.626 | Validation Score: 0.801 | lr: 0.09310\n",
      "\n",
      "===> Epoch  101/450: Average Train Loss: 0.216 |  Average validation Loss: 0.753 | Validation Score: 0.793 | lr: 0.07009\n",
      "\n",
      "===> Epoch  121/450: Average Train Loss: 0.166 |  Average validation Loss: 0.915 | Validation Score: 0.829 | lr: 0.04709\n",
      "\n",
      "===> Epoch  141/450: Average Train Loss: 0.119 |  Average validation Loss: 0.703 | Validation Score: 0.842 | lr: 0.02409\n",
      "\n",
      "===> Epoch  161/450: Average Train Loss: 0.099 |  Average validation Loss: 0.602 | Validation Score: 0.866 | lr: 0.02639\n",
      "\n",
      "===> Epoch  181/450: Average Train Loss: 0.136 |  Average validation Loss: 0.782 | Validation Score: 0.829 | lr: 0.04939\n",
      "\n",
      "===> Epoch  201/450: Average Train Loss: 0.182 |  Average validation Loss: 1.081 | Validation Score: 0.806 | lr: 0.07240\n",
      "\n",
      "===> Epoch  221/450: Average Train Loss: 0.195 |  Average validation Loss: 1.124 | Validation Score: 0.793 | lr: 0.09540\n",
      "\n",
      "===> Epoch  241/450: Average Train Loss: 0.193 |  Average validation Loss: 0.793 | Validation Score: 0.798 | lr: 0.08160\n",
      "\n",
      "===> Epoch  261/450: Average Train Loss: 0.149 |  Average validation Loss: 0.812 | Validation Score: 0.818 | lr: 0.05859\n",
      "\n",
      "===> Epoch  281/450: Average Train Loss: 0.112 |  Average validation Loss: 0.644 | Validation Score: 0.846 | lr: 0.03559\n",
      "\n",
      "===> Epoch  301/450: Average Train Loss: 0.061 |  Average validation Loss: 0.580 | Validation Score: 0.889 | lr: 0.01488\n",
      "\n",
      "===> Epoch  321/450: Average Train Loss: 0.106 |  Average validation Loss: 0.851 | Validation Score: 0.881 | lr: 0.03789\n",
      "\n",
      "===> Epoch  341/450: Average Train Loss: 0.140 |  Average validation Loss: 0.884 | Validation Score: 0.839 | lr: 0.06089\n",
      "\n",
      "===> Epoch  361/450: Average Train Loss: 0.168 |  Average validation Loss: 1.099 | Validation Score: 0.813 | lr: 0.08390\n",
      "\n",
      "===> Epoch  381/450: Average Train Loss: 0.174 |  Average validation Loss: 0.995 | Validation Score: 0.828 | lr: 0.09310\n",
      "\n",
      "===> Epoch  401/450: Average Train Loss: 0.156 |  Average validation Loss: 0.766 | Validation Score: 0.827 | lr: 0.07009\n",
      "\n",
      "===> Epoch  421/450: Average Train Loss: 0.120 |  Average validation Loss: 0.788 | Validation Score: 0.850 | lr: 0.04709\n",
      "\n",
      "===> Epoch  441/450: Average Train Loss: 0.084 |  Average validation Loss: 0.716 | Validation Score: 0.879 | lr: 0.02409\n"
     ]
    },
    {
     "name": "stderr",
     "output_type": "stream",
     "text": [
      "[I 2024-10-22 04:16:50,099] Trial 5 finished with value: 0.910683578259321 and parameters: {'in_channels': 159, 'model': 'graph_nns.GCN', 'gnn_hidden_neurons': 342, 'gnn_nlayers': 4, 'ffn_hidden_neurons': 404, 'ffn_nlayers': 2, 'out_neurons': 1, 'dropout_rate': 0.5797774603801864, 'activation_func': 'torch.nn.LeakyReLU', 'gpooling_func': 'mean', 'heads': 8, 'edge_dim': 6, 'learning_rate': 0.01373439713732089, 'n_epochs': 450, 'optimizer': \"{'optimizer_type':'torch.optim.SGD', 'weight_decay':1e-3}\", 'scheduler': \"{'lr_scheduler_type':'lr_scheduler.CyclicLR', 'max_lr':0.1, 'step_size_up':75, 'cycle_momentum':True}\", 'scoring_func': 'roc_auc_score'}. Best is trial 5 with value: 0.910683578259321.\n"
     ]
    },
    {
     "name": "stdout",
     "output_type": "stream",
     "text": [
      "\n",
      "===> Epoch  450/450: Average Train Loss: 0.056 |  Average validation Loss: 0.469 | Validation Score: 0.911 | lr: 0.01373\n",
      "CPU times: user 6h 17min 33s, sys: 2min 2s, total: 6h 19min 35s\n",
      "Wall time: 6h 19min 23s\n"
     ]
    },
    {
     "data": {
      "text/plain": [
       "{'best_params': {'in_channels': 159,\n",
       "  'model': 'graph_nns.GCN',\n",
       "  'gnn_hidden_neurons': 342,\n",
       "  'gnn_nlayers': 4,\n",
       "  'ffn_hidden_neurons': 404,\n",
       "  'ffn_nlayers': 2,\n",
       "  'out_neurons': 1,\n",
       "  'dropout_rate': 0.5797774603801864,\n",
       "  'activation_func': 'torch.nn.LeakyReLU',\n",
       "  'gpooling_func': 'mean',\n",
       "  'heads': 8,\n",
       "  'edge_dim': 6,\n",
       "  'learning_rate': 0.01373439713732089,\n",
       "  'n_epochs': 450,\n",
       "  'optimizer': \"{'optimizer_type':'torch.optim.SGD', 'weight_decay':1e-3}\",\n",
       "  'scheduler': \"{'lr_scheduler_type':'lr_scheduler.CyclicLR', 'max_lr':0.1, 'step_size_up':75, 'cycle_momentum':True}\",\n",
       "  'scoring_func': 'roc_auc_score'},\n",
       " 'best_score': 0.910683578259321}"
      ]
     },
     "execution_count": 20,
     "metadata": {},
     "output_type": "execute_result"
    }
   ],
   "source": [
    "%%time \n",
    "import sklearn\n",
    "\n",
    "criterion   = BCELoss()\n",
    "\n",
    "\n",
    "exp_params_grid = {\n",
    "    'task': 'binary_classification',\n",
    "    'in_channels' : in_channels, 'global_fdim' : global_fdim,\n",
    "    'model': ['graph_nns.GCN', 'graph_nns.GAT'], #\n",
    "    # 'gnn_hidden_neurons': [128, 256, 384, 512]\n",
    "    'gnn_hidden_neurons': [150, 500]\n",
    "    , 'gnn_nlayers':[3, 6]\n",
    "    # , 'ffn_hidden_neurons': [64, 128, 256, 384, 512]\n",
    "    , 'ffn_hidden_neurons': [100, 500]\n",
    "    , 'ffn_nlayers': [1, 2], 'out_neurons':1, 'dropout_rate': [0.1, 0.6]\n",
    "    , 'activation_func': ['torch.nn.LeakyReLU', 'torch.nn.ReLU'], 'gpooling_func' : ['mean']\n",
    "    , 'heads' : [4,8]\n",
    "    , 'edge_dim': [2,8]\n",
    "    , 'add_edge_features': False\n",
    "    \n",
    "    , 'learning_rate': [5e-2, 1e-2], 'n_epochs': [150, 500] \n",
    "    , 'criterion' : criterion\n",
    "    , 'optimizer' : [\"{'optimizer_type':'torch.optim.SGD', 'weight_decay':1e-3}\"]\n",
    "    #, 'scheduler' : [\"{'lr_scheduler_type':'lr_scheduler.ReduceLROnPlateau', 'mode':'min', 'factor':0.7, 'patience':30, 'threshold':5e-02, 'eps':1e-08}\"], \n",
    "    , 'scheduler' : [\"{'lr_scheduler_type':'lr_scheduler.CyclicLR', 'max_lr':0.1, 'step_size_up':75, 'cycle_momentum':True}\"]\n",
    "    , 'scoring_func': ['roc_auc_score']\n",
    "    , 'add_batch_norm':True\n",
    "\n",
    "}\n",
    "\n",
    "\n",
    "my_hpo = training_utils.OptunaHPO(n_trials=6, n_jobs=1, sampler=None)\n",
    "\n",
    "results = my_hpo.run_optimization(   \n",
    "        train_val_data= [train_loader, val_loader]\n",
    "        , params_grid=exp_params_grid\n",
    "        , optuna_direction='maximize'\n",
    "        , split_mode='classic'\n",
    "        , study_name='my_gcn_study'\n",
    ")\n",
    "\n",
    "results"
   ]
  },
  {
   "cell_type": "markdown",
   "metadata": {},
   "source": [
    "<h3 style=\"font-family: cursive\">Training and Evaluating The Best Model</h3>"
   ]
  },
  {
   "cell_type": "code",
   "execution_count": 21,
   "metadata": {},
   "outputs": [
    {
     "name": "stdout",
     "output_type": "stream",
     "text": [
      "Best params:  {'in_channels': 159, 'model': 'graph_nns.GCN', 'gnn_hidden_neurons': 342, 'gnn_nlayers': 4, 'ffn_hidden_neurons': 404, 'ffn_nlayers': 2, 'out_neurons': 1, 'dropout_rate': 0.5797774603801864, 'activation_func': 'torch.nn.LeakyReLU', 'gpooling_func': 'mean', 'heads': 8, 'edge_dim': 6, 'learning_rate': 0.01373439713732089, 'n_epochs': 450, 'optimizer': \"{'optimizer_type':'torch.optim.SGD', 'weight_decay':1e-3}\", 'scheduler': \"{'lr_scheduler_type':'lr_scheduler.CyclicLR', 'max_lr':0.1, 'step_size_up':75, 'cycle_momentum':True}\", 'scoring_func': 'roc_auc_score', 'task': 'binary_classification'}\n",
      "params =  {'task': 'binary_classification', 'in_channels': 159, 'gnn_hidden_neurons': 342, 'gnn_nlayers': 4, 'global_fdim': None, 'ffn_hidden_neurons': 404, 'ffn_nlayers': 2, 'out_neurons': 1, 'dropout_rate': 0.5797774603801864, 'gpooling_func': 'mean', 'activation_func': 'torch.nn.LeakyReLU', 'add_batch_norm': True}\n",
      "Initializing parameters...\n"
     ]
    }
   ],
   "source": [
    "best_params = results['best_params']\n",
    "best_params.update(**{'task':'binary_classification'})\n",
    "print(\"Best params: \", best_params)\n",
    "# gcn_model = graph_nns.GCN.from_dict(results['best_params'])\n",
    "# gcn_model\n",
    "\n",
    "gcn_model = eval(best_params['model']).from_dict({\n",
    "    \"task\" : best_params['task']\n",
    "    , 'in_channels': best_params['in_channels'],  'gnn_hidden_neurons' : int(best_params['gnn_hidden_neurons'])\n",
    "    , 'gnn_nlayers' : best_params['gnn_nlayers'], 'global_fdim' : best_params.get('global_fdim', None)\n",
    "    , 'ffn_hidden_neurons' :int(best_params['ffn_hidden_neurons']), 'ffn_nlayers' : best_params['ffn_nlayers']\n",
    "    , 'out_neurons' : best_params['out_neurons'], 'dropout_rate' : best_params['dropout_rate']\n",
    "    , 'gpooling_func' : best_params['gpooling_func'], 'activation_func' : best_params['activation_func']\n",
    "    , 'add_batch_norm' : True\n",
    "})\n"
   ]
  },
  {
   "cell_type": "markdown",
   "metadata": {},
   "source": [
    "<h4 style=\"font-family: cursive\"> Model Training</h4>"
   ]
  },
  {
   "cell_type": "code",
   "execution_count": 22,
   "metadata": {},
   "outputs": [
    {
     "name": "stdout",
     "output_type": "stream",
     "text": [
      "\toptimizer:  {'state': {}, 'param_groups': [{'lr': 0.01373439713732089, 'momentum': 0, 'dampening': 0, 'weight_decay': 0.001, 'nesterov': False, 'maximize': False, 'foreach': None, 'differentiable': False, 'params': [0, 1, 2, 3, 4, 5, 6, 7, 8, 9, 10, 11, 12, 13]}]}\n",
      "\tlr_scheduler:  {'max_lrs': [0.1], 'total_size': 150.0, 'step_ratio': 0.5, 'mode': 'triangular', 'gamma': 1.0, '_scale_fn_custom': None, 'scale_mode': 'cycle', 'cycle_momentum': True, 'base_momentums': [0.8], 'max_momentums': [0.9], 'base_lrs': [0.01373439713732089], 'last_epoch': 0, 'verbose': False, '_step_count': 1, '_get_lr_called_within_step': False, '_last_lr': [0.01373439713732089]}\n",
      "checkpoint dir: None\n"
     ]
    },
    {
     "data": {
      "text/plain": [
       "{'task': 'binary_classification',\n",
       " 'model': GCN(\n",
       "   (activation_func): LeakyReLU(negative_slope=0.01)\n",
       "   (cassification_out_layer): Sigmoid()\n",
       "   (conv1): GCNConv(159, 342)\n",
       "   (convs): ModuleList(\n",
       "     (0-2): 3 x GCNConv(342, 342)\n",
       "   )\n",
       "   (ffn): Sequential(\n",
       "     (0): Dropout(p=0.5797774603801864, inplace=False)\n",
       "     (1): Linear(in_features=342, out_features=404, bias=True)\n",
       "     (2): BatchNorm1d(404, eps=1e-05, momentum=0.1, affine=True, track_running_stats=True)\n",
       "     (3): LeakyReLU(negative_slope=0.01)\n",
       "     (4): Dropout(p=0.5797774603801864, inplace=False)\n",
       "   )\n",
       "   (final): Linear(in_features=404, out_features=1, bias=True)\n",
       " ),\n",
       " 'learning_rate': 0.01373439713732089,\n",
       " 'n_epochs': 450,\n",
       " 'optimizer': SGD (\n",
       " Parameter Group 0\n",
       "     dampening: 0\n",
       "     differentiable: False\n",
       "     foreach: None\n",
       "     initial_lr: 0.01373439713732089\n",
       "     lr: 0.01373439713732089\n",
       "     maximize: False\n",
       "     momentum: 0.9\n",
       "     nesterov: False\n",
       "     weight_decay: 0.001\n",
       " ),\n",
       " 'scheduler': <torch.optim.lr_scheduler.CyclicLR at 0x7f0a85a8e670>,\n",
       " 'scheduler_step_requires_metrics': False,\n",
       " 'criterion': BCELoss(),\n",
       " 'scoring_func': <function sklearn.metrics._ranking.roc_auc_score(y_true, y_score, *, average='macro', sample_weight=None, max_fpr=None, multi_class='raise', labels=None)>,\n",
       " 'save_dir': None,\n",
       " 'checkpoint_dir': None}"
      ]
     },
     "execution_count": 22,
     "metadata": {},
     "output_type": "execute_result"
    }
   ],
   "source": [
    "gnn_trainer = training_utils.GNNTrainer(task=best_params['task'], model=gcn_model\n",
    "                                            , scheduler=best_params['scheduler']\n",
    "                                            , optimizer=best_params['optimizer']\n",
    "                                            , criterion=criterion\n",
    "                                            , scoring_func=eval(best_params['scoring_func'])\n",
    "                                            , n_epochs=best_params['n_epochs']\n",
    "                                            , learning_rate=best_params['learning_rate']\n",
    "                                        )\n",
    "gnn_trainer.__dict__"
   ]
  },
  {
   "cell_type": "code",
   "execution_count": 23,
   "metadata": {},
   "outputs": [
    {
     "name": "stdout",
     "output_type": "stream",
     "text": [
      "device = cuda\n",
      "TASK: binary_classification\n",
      "\n",
      "===> Epoch    1/450: Average Train Loss: 0.841 |  Average validation Loss: 0.667 | Validation Score: 0.602 | lr: 0.01488\n",
      "\n",
      "===> Epoch   21/450: Average Train Loss: 0.506 |  Average validation Loss: 0.617 | Validation Score: 0.736 | lr: 0.03789\n",
      "\n",
      "===> Epoch   41/450: Average Train Loss: 0.372 |  Average validation Loss: 0.630 | Validation Score: 0.752 | lr: 0.06089\n",
      "\n",
      "===> Epoch   61/450: Average Train Loss: 0.304 |  Average validation Loss: 0.774 | Validation Score: 0.784 | lr: 0.08390\n",
      "\n",
      "===> Epoch   81/450: Average Train Loss: 0.269 |  Average validation Loss: 0.699 | Validation Score: 0.798 | lr: 0.09310\n",
      "\n",
      "===> Epoch  101/450: Average Train Loss: 0.202 |  Average validation Loss: 0.676 | Validation Score: 0.815 | lr: 0.07009\n",
      "\n",
      "===> Epoch  121/450: Average Train Loss: 0.156 |  Average validation Loss: 0.570 | Validation Score: 0.859 | lr: 0.04709\n",
      "\n",
      "===> Epoch  141/450: Average Train Loss: 0.103 |  Average validation Loss: 0.442 | Validation Score: 0.897 | lr: 0.02409\n",
      "\n",
      "===> Epoch  161/450: Average Train Loss: 0.093 |  Average validation Loss: 0.623 | Validation Score: 0.905 | lr: 0.02639\n",
      "\n",
      "===> Epoch  181/450: Average Train Loss: 0.140 |  Average validation Loss: 0.545 | Validation Score: 0.866 | lr: 0.04939\n",
      "\n",
      "===> Epoch  201/450: Average Train Loss: 0.208 |  Average validation Loss: 1.194 | Validation Score: 0.829 | lr: 0.07240\n",
      "\n",
      "===> Epoch  221/450: Average Train Loss: 0.200 |  Average validation Loss: 1.392 | Validation Score: 0.785 | lr: 0.09540\n",
      "\n",
      "===> Epoch  241/450: Average Train Loss: 0.169 |  Average validation Loss: 0.987 | Validation Score: 0.789 | lr: 0.08160\n",
      "\n",
      "===> Epoch  261/450: Average Train Loss: 0.149 |  Average validation Loss: 0.956 | Validation Score: 0.823 | lr: 0.05859\n",
      "\n",
      "===> Epoch  281/450: Average Train Loss: 0.110 |  Average validation Loss: 0.577 | Validation Score: 0.858 | lr: 0.03559\n",
      "\n",
      "===> Epoch  301/450: Average Train Loss: 0.059 |  Average validation Loss: 0.573 | Validation Score: 0.892 | lr: 0.01488\n",
      "\n",
      "===> Epoch  321/450: Average Train Loss: 0.107 |  Average validation Loss: 1.061 | Validation Score: 0.870 | lr: 0.03789\n",
      "\n",
      "===> Epoch  341/450: Average Train Loss: 0.145 |  Average validation Loss: 1.474 | Validation Score: 0.838 | lr: 0.06089\n",
      "\n",
      "===> Epoch  361/450: Average Train Loss: 0.167 |  Average validation Loss: 1.266 | Validation Score: 0.825 | lr: 0.08390\n",
      "\n",
      "===> Epoch  381/450: Average Train Loss: 0.176 |  Average validation Loss: 0.845 | Validation Score: 0.824 | lr: 0.09310\n",
      "\n",
      "===> Epoch  401/450: Average Train Loss: 0.146 |  Average validation Loss: 1.119 | Validation Score: 0.825 | lr: 0.07009\n",
      "\n",
      "===> Epoch  421/450: Average Train Loss: 0.115 |  Average validation Loss: 0.843 | Validation Score: 0.849 | lr: 0.04709\n",
      "\n",
      "===> Epoch  441/450: Average Train Loss: 0.079 |  Average validation Loss: 0.719 | Validation Score: 0.877 | lr: 0.02409\n",
      "\n",
      "===> Epoch  450/450: Average Train Loss: 0.057 |  Average validation Loss: 0.492 | Validation Score: 0.897 | lr: 0.01373\n",
      "CPU times: user 8min 44s, sys: 19.9 s, total: 9min 4s\n",
      "Wall time: 9min 4s\n"
     ]
    }
   ],
   "source": [
    "%%time\n",
    "train_losses, val_losses, val_scores = gnn_trainer.train(train_loader=train_loader, val_loader=val_loader)"
   ]
  },
  {
   "cell_type": "code",
   "execution_count": 24,
   "metadata": {},
   "outputs": [
    {
     "data": {
      "image/png": "[encoded data removed]",
      "text/plain": [
       "<Figure size 1000x700 with 1 Axes>"
      ]
     },
     "metadata": {},
     "output_type": "display_data"
    }
   ],
   "source": [
    "\n",
    "utilities.plots_train_val_metrics(train_losses=train_losses, val_scores=val_scores\n",
    "                                    , val_losses=val_losses, figsize=(10, 7)\n",
    "                                    , image_pathname=f\"{DATASET_DIR}/figures/dd2_class_gcn_stats.jpeg\"\n",
    "                                    , val_score_name=best_params['scoring_func']\n",
    "                                )\n"
   ]
  },
  {
   "cell_type": "code",
   "execution_count": 25,
   "metadata": {},
   "outputs": [],
   "source": [
    "torch.save(gcn_model, f\"{DATASET_DIR}/models/dd2_class_gcn_model.pt\")"
   ]
  },
  {
   "cell_type": "markdown",
   "metadata": {},
   "source": [
    "<h4 style=\"font-family: cursive\"> Model Evaluation</h4>"
   ]
  },
  {
   "cell_type": "code",
   "execution_count": 26,
   "metadata": {},
   "outputs": [
    {
     "name": "stdout",
     "output_type": "stream",
     "text": [
      "[1, 1, 1, 1, 1, 0, 1, 0, 0, 0, 0, 0, 1, 1, 1, 1, 0, 1, 1, 1, 1, 1, 1, 0, 0, 1, 0, 0, 1, 0, 1, 1, 0, 1, 0, 0, 1, 0, 0, 1, 1, 1, 1, 0, 1, 1, 1, 0, 0, 1, 1, 1, 1, 0, 0, 0, 0, 1, 1, 1, 0, 0, 0, 0, 1, 1, 1, 0, 0, 1, 1, 1, 1, 1, 0, 0, 1, 1, 0, 1, 0, 0, 0, 0, 0, 0, 1, 1, 1, 1, 1, 1, 1, 0, 0, 0, 1, 0, 1, 1, 0, 0, 0, 0, 0, 1, 1, 1, 0, 1, 0, 1, 1, 1, 1, 1, 1, 1, 1, 1, 1, 1, 0, 1, 0, 1, 1, 1, 1, 1, 1, 0, 0, 1, 1, 1, 0, 0, 0, 1, 1, 1, 0, 1, 1, 1, 1, 1, 1, 1, 0, 0, 1, 1, 1, 0, 1, 0, 0, 1, 0, 1, 1, 1, 0, 0, 1, 1, 1, 1, 1, 0, 1, 1, 0, 1, 0, 0, 1, 1, 1, 1, 1, 1, 0, 1, 1, 0, 0, 1, 0, 1, 0, 1, 0, 1, 1, 1, 1, 1, 0, 0, 1, 1, 1, 1, 1, 0, 1, 1, 1, 1, 0, 1, 1, 1, 1, 1, 1, 1, 0, 0, 1, 1, 0, 0, 1, 1, 1, 1, 1, 0, 0, 0, 0, 0, 0, 0, 0, 1, 1, 1, 1, 1, 1, 1, 0, 1, 0, 1, 1, 1, 0, 0, 1, 1, 0, 0, 1, 0, 1, 1, 1, 0, 1, 1, 1, 0, 1, 0, 1, 1, 1, 1, 1, 0, 0, 1, 1, 1, 1, 0, 0, 1, 0, 1, 1, 0, 0, 1, 0, 0, 0, 0, 1, 1, 1, 1, 1, 1, 1, 1, 1, 0, 1, 0, 1, 0, 0, 1, 1, 1, 1, 1, 0, 1, 0, 1, 0, 1, 0, 1, 1, 1, 1, 0, 1, 0, 0, 0, 1, 1, 1, 0, 1, 1, 1, 1, 0, 1, 0, 0, 1, 0, 1, 1, 1, 0, 0, 0, 0, 1, 1, 1, 0, 1, 1, 1, 1, 1, 1, 0, 0, 0, 1, 1, 1, 1, 0, 0, 0, 1, 1, 0, 1, 1, 0, 1, 0, 1, 1, 0, 0, 1, 1, 0, 1, 0, 1, 0, 0, 0, 1, 1, 1, 0, 0, 0, 0, 1, 1, 1, 1, 0, 1, 1, 1, 1, 0, 0, 1, 1, 0, 1, 1, 0, 1, 0, 1, 1, 1, 1, 0, 1, 1, 1, 0, 0, 1, 1, 1, 1, 1, 0, 1, 1, 0, 1, 1, 1, 1, 1, 1, 0, 1, 1, 0, 1, 1, 0, 0, 1, 0, 0, 1, 1, 1, 1, 0, 1, 0, 0, 0, 0, 0, 0, 1, 1, 1, 0, 1, 0, 0, 0, 1, 0, 1, 1, 1, 1, 1, 1, 0, 1, 0, 0, 1, 1, 0, 1, 0, 0, 1, 1, 1, 1, 1, 1, 1, 0, 0, 1, 1, 1, 1, 1, 1, 1, 1, 1, 1, 1, 0, 1, 1, 1, 1, 1, 0, 1, 0, 0, 1, 0, 1, 1, 1, 1, 0, 0, 0, 1, 1, 0, 1, 0, 1, 1, 0, 1, 0, 0, 0, 0, 0, 0, 0, 1, 1, 1, 0, 1, 1, 0, 1, 1, 1, 1, 1, 1, 1, 0, 1, 0, 0, 1, 1, 0, 0, 0, 0, 0, 1, 0, 0, 0, 1, 1, 0, 1, 1, 0, 1, 1, 1, 1, 1, 1, 1, 1, 1, 1, 1, 1, 1, 0, 0, 1, 0, 0, 1, 1, 1, 1, 1, 1, 1, 0, 1, 1, 1, 1, 1, 0, 0, 0, 0, 0, 0, 0, 1, 0, 1, 1, 1, 1, 1, 0, 1, 1, 1, 0, 1, 1, 1, 0, 1, 0, 0, 1, 1, 0, 1, 1, 1, 0, 1, 1, 0, 1, 1, 0, 0, 1, 1, 1, 1, 0, 1, 1, 1, 0, 0, 0, 0, 1, 1, 1, 0, 1, 0, 0, 0, 0, 1, 1]\n",
      "\n",
      "ROC AUC Score = 0.704\n",
      "Balanced Acc. = 0.645\n",
      "F1-Score      = 0.723\n",
      "Precision     = 0.711\n",
      "Recall        = 0.735\n"
     ]
    }
   ],
   "source": [
    "from lib import predictions\n",
    "test_pred, test_true = predictions.predict_from_loader(loader=test_loader, model=gcn_model\n",
    "                                                     , device='cuda:0'\n",
    "                                                     , return_true_targets=True, desc=\"Predicting...\")\n",
    "\n",
    "threshold = 0.5\n",
    "test_pred_classes = [int(x>threshold) for x in test_pred.squeeze(1)] \n",
    "\n",
    "# print(test_pred)\n",
    "print(test_pred_classes)\n",
    "\n",
    "print(f\"\\nROC AUC Score = {round(roc_auc_score(test_true.cpu(), test_pred.detach().cpu()),3)}\")\n",
    "print(f\"Balanced Acc. = {round(balanced_accuracy_score(test_true.cpu(), test_pred_classes),3)}\")\n",
    "print(f\"F1-Score      = {round(f1_score(test_true.cpu(), test_pred_classes),3)}\")\n",
    "print(f\"Precision     = {round(precision_score(test_true.cpu(), test_pred_classes),3)}\")\n",
    "print(f\"Recall        = {round(recall_score(test_true.cpu(), test_pred_classes),3)}\")"
   ]
  },
  {
   "cell_type": "markdown",
   "metadata": {},
   "source": [
    "<h5 style=\"font-family: cursive\"> Evaluate using the GNNPredictor</h5>"
   ]
  },
  {
   "cell_type": "code",
   "execution_count": 27,
   "metadata": {},
   "outputs": [],
   "source": [
    "# print(dir(atom_featurizer))\n",
    "# print(atom_featurizer.features_mapping)\n",
    "gcn_predictor = predictions.GNNPredictor(model=gcn_model, atom_featurizer=atom_featurizer\n",
    "                                        , bond_featurizer=bond_featurizer, add_explicit_h=True\n",
    "                                        , mol_featurizer=mol_featurizer\n",
    "                                        , scale_features=True, feature_scaler=StandardScaler()\n",
    "                                        , compute_global_features=True, add_global_feats_to_nodes=True)\n",
    "\n",
    "\n"
   ]
  },
  {
   "cell_type": "code",
   "execution_count": 28,
   "metadata": {},
   "outputs": [],
   "source": [
    "# # gcn_model = torch.load(f\"{DATASET_DIR}/models/dd2_class_gcn_model.pt\")\n",
    "torch.save(gcn_predictor, f\"{DATASET_DIR}/models/dd2_class_gcn_predictor.pt\")\n"
   ]
  },
  {
   "cell_type": "code",
   "execution_count": 29,
   "metadata": {},
   "outputs": [],
   "source": [
    "# gcn_predictor=torch.load(f\"{DATASET_DIR}/models/dd2_class_gcn_predictor.pt\")\n",
    "# gcn_predictor\n",
    "\n",
    "# dd2_loader_fname = f'{DATASET_DIR}/dd2_dataloaders.pt'\n",
    "# dd2_loaders = torch.load(dd2_loader_fname)  \n",
    "\n",
    "# train_loader = dd2_loaders['train_loader']\n",
    "# val_loader   = dd2_loaders['val_loader']\n",
    "# test_loader  = dd2_loaders['test_loader']"
   ]
  },
  {
   "cell_type": "code",
   "execution_count": 30,
   "metadata": {},
   "outputs": [
    {
     "name": "stdout",
     "output_type": "stream",
     "text": [
      "[1, 1, 1, 1, 1, 0, 1, 0, 0, 0, 0, 0, 1, 1, 1, 1, 0, 1, 1, 1, 1, 1, 1, 0, 0, 1, 0, 0, 0, 0, 1, 0, 0, 1, 0, 0, 1, 0, 0, 1, 1, 1, 1, 0, 1, 1, 1, 0, 0, 1, 1, 1, 1, 0, 0, 0, 0, 1, 1, 1, 0, 0, 0, 0, 1, 1, 1, 0, 0, 1, 1, 1, 1, 1, 0, 0, 1, 1, 0, 1, 0, 0, 0, 0, 0, 0, 1, 1, 1, 1, 1, 1, 1, 0, 0, 0, 1, 0, 1, 1, 0, 0, 0, 0, 0, 1, 1, 0, 0, 1, 0, 0, 1, 0, 1, 1, 0, 0, 1, 1, 1, 1, 0, 1, 0, 1, 1, 1, 1, 1, 1, 0, 0, 1, 1, 1, 0, 0, 0, 1, 1, 1, 0, 1, 1, 1, 1, 0, 1, 1, 0, 0, 1, 1, 1, 0, 1, 0, 0, 1, 0, 1, 1, 1, 0, 0, 1, 1, 1, 1, 1, 0, 1, 1, 0, 1, 0, 0, 1, 1, 1, 1, 1, 1, 0, 1, 1, 0, 0, 1, 0, 1, 0, 1, 0, 1, 1, 1, 1, 1, 0, 0, 1, 1, 1, 1, 1, 0, 1, 1, 1, 1, 0, 1, 1, 0, 1, 1, 1, 1, 0, 0, 1, 1, 0, 0, 1, 1, 1, 1, 1, 0, 0, 0, 0, 0, 0, 0, 0, 1, 0, 1, 1, 1, 1, 1, 0, 1, 0, 1, 1, 1, 0, 0, 1, 1, 0, 0, 1, 0, 0, 1, 1, 0, 1, 1, 1, 0, 0, 0, 1, 1, 1, 1, 1, 0, 0, 1, 1, 1, 1, 0, 0, 1, 0, 1, 1, 0, 0, 1, 0, 0, 0, 0, 1, 1, 1, 1, 1, 1, 1, 1, 1, 0, 1, 0, 1, 0, 0, 1, 1, 1, 1, 1, 0, 1, 0, 1, 0, 1, 0, 1, 1, 1, 1, 0, 1, 0, 0, 0, 1, 1, 1, 0, 1, 1, 0, 0, 0, 1, 0, 0, 1, 0, 1, 1, 1, 0, 0, 0, 0, 1, 1, 1, 0, 1, 1, 1, 1, 1, 1, 0, 0, 0, 1, 1, 1, 1, 0, 0, 0, 1, 1, 0, 1, 1, 0, 0, 0, 1, 1, 0, 0, 1, 1, 0, 1, 0, 1, 0, 0, 0, 1, 1, 1, 0, 0, 0, 0, 1, 1, 1, 1, 0, 1, 1, 1, 1, 0, 0, 1, 1, 0, 1, 1, 0, 1, 0, 1, 1, 1, 1, 0, 1, 1, 1, 0, 0, 0, 1, 1, 1, 0, 0, 1, 1, 0, 1, 1, 1, 1, 1, 1, 0, 1, 1, 0, 1, 1, 0, 0, 1, 0, 0, 0, 1, 1, 1, 0, 1, 0, 0, 0, 0, 0, 0, 0, 1, 1, 0, 1, 0, 0, 0, 1, 0, 1, 1, 1, 1, 1, 1, 0, 1, 0, 0, 1, 1, 0, 1, 0, 0, 0, 1, 1, 1, 1, 1, 1, 0, 0, 0, 1, 0, 1, 1, 1, 1, 1, 1, 1, 1, 0, 1, 1, 1, 1, 1, 0, 1, 0, 0, 1, 0, 1, 0, 1, 1, 0, 0, 0, 1, 1, 0, 1, 0, 1, 1, 0, 1, 0, 0, 0, 0, 0, 0, 0, 1, 1, 1, 0, 1, 0, 0, 1, 1, 1, 1, 1, 1, 1, 0, 1, 0, 0, 1, 1, 0, 0, 0, 0, 0, 1, 0, 0, 0, 1, 1, 0, 1, 1, 0, 1, 1, 1, 1, 1, 1, 1, 1, 1, 1, 0, 1, 1, 0, 0, 1, 0, 0, 1, 1, 1, 1, 1, 1, 1, 0, 1, 1, 0, 1, 0, 0, 0, 0, 0, 0, 0, 0, 1, 0, 1, 0, 1, 1, 1, 0, 1, 1, 1, 0, 1, 1, 1, 0, 1, 0, 0, 0, 1, 0, 0, 1, 1, 0, 1, 1, 0, 1, 1, 0, 0, 1, 1, 1, 1, 0, 1, 1, 1, 0, 0, 0, 0, 0, 1, 1, 0, 1, 0, 0, 0, 0, 1, 1]\n",
      "\n",
      "ROC AUC Score = 0.704\n",
      "Balanced Acc. = 0.641\n",
      "F1-Score      = 0.7\n",
      "Precision     = 0.716\n",
      "Recall        = 0.686\n"
     ]
    }
   ],
   "source": [
    "test_pred, test_true = gcn_predictor.predict_from_loader(loader=test_loader\n",
    "                                                     , device='cuda:0', return_true_targets=True, desc=\"Predicting...\")\n",
    "\n",
    "\n",
    "### Let's try a higher threshold\n",
    "threshold = 0.7\n",
    "\n",
    "\n",
    "\n",
    "test_pred_classes = [int(x>threshold) for x in test_pred.squeeze(1)] \n",
    "print(test_pred_classes)\n",
    "\n",
    "print(f\"\\nROC AUC Score = {round(roc_auc_score(test_true.cpu(), test_pred.detach().cpu()),3)}\")\n",
    "print(f\"Balanced Acc. = {round(balanced_accuracy_score(test_true.cpu(), test_pred_classes),3)}\")\n",
    "print(f\"F1-Score      = {round(f1_score(test_true.cpu(), test_pred_classes),3)}\")\n",
    "print(f\"Precision     = {round(precision_score(test_true.cpu(), test_pred_classes),3)}\")\n",
    "print(f\"Recall        = {round(recall_score(test_true.cpu(), test_pred_classes),3)}\")"
   ]
  },
  {
   "cell_type": "code",
   "execution_count": 31,
   "metadata": {},
   "outputs": [
    {
     "name": "stdout",
     "output_type": "stream",
     "text": [
      "676\n",
      "gfeatures_cleaned (676, 104)\n",
      "[1, 1, 1, 1, 1, 0, 1, 0, 0, 0, 0, 0, 1, 1, 1, 1, 0, 1, 1, 1, 1, 1, 1, 0, 0, 1, 0, 0, 1, 0, 1, 1, 0, 1, 0, 0, 1, 0, 0, 1, 1, 1, 1, 0, 1, 1, 1, 0, 0, 1, 1, 1, 1, 0, 0, 0, 0, 1, 1, 1, 0, 0, 0, 0, 1, 1, 1, 0, 0, 1, 1, 1, 1, 1, 0, 0, 1, 1, 0, 1, 0, 0, 0, 0, 0, 0, 1, 1, 1, 1, 1, 1, 1, 0, 0, 0, 1, 0, 1, 1, 0, 0, 0, 0, 0, 1, 1, 1, 0, 1, 0, 1, 1, 1, 1, 1, 1, 1, 1, 1, 1, 1, 0, 1, 0, 1, 1, 1, 1, 1, 1, 0, 0, 1, 1, 1, 0, 0, 0, 1, 1, 1, 0, 1, 1, 1, 1, 1, 1, 1, 0, 0, 1, 1, 1, 0, 1, 0, 0, 1, 0, 1, 1, 1, 0, 0, 1, 1, 1, 1, 1, 0, 1, 1, 0, 1, 0, 0, 1, 1, 1, 1, 1, 1, 0, 1, 1, 0, 0, 1, 0, 1, 0, 1, 0, 1, 1, 1, 1, 1, 0, 0, 1, 1, 1, 1, 1, 0, 1, 1, 1, 1, 0, 1, 1, 1, 1, 1, 1, 1, 0, 0, 1, 1, 0, 0, 1, 1, 1, 1, 1, 0, 0, 0, 0, 0, 0, 0, 0, 1, 1, 1, 1, 1, 1, 1, 0, 1, 0, 1, 1, 1, 0, 0, 1, 1, 0, 0, 1, 0, 1, 1, 1, 0, 1, 1, 1, 0, 1, 0, 1, 1, 1, 1, 1, 0, 0, 1, 1, 1, 1, 0, 0, 1, 0, 1, 1, 0, 0, 1, 0, 0, 0, 0, 1, 1, 1, 1, 1, 1, 1, 1, 1, 0, 1, 0, 1, 0, 0, 1, 1, 1, 1, 1, 0, 1, 0, 1, 0, 1, 0, 1, 1, 1, 1, 0, 1, 0, 0, 0, 1, 1, 1, 0, 1, 1, 1, 1, 0, 1, 0, 0, 1, 0, 1, 1, 1, 0, 0, 0, 0, 1, 1, 1, 0, 1, 1, 1, 1, 1, 1, 0, 0, 0, 1, 1, 1, 1, 0, 0, 0, 1, 1, 0, 1, 1, 0, 1, 0, 1, 1, 0, 0, 1, 1, 0, 1, 0, 1, 0, 0, 0, 1, 1, 1, 0, 0, 0, 0, 1, 1, 1, 1, 0, 1, 1, 1, 1, 0, 0, 1, 1, 0, 1, 1, 0, 1, 0, 1, 1, 1, 1, 0, 1, 1, 1, 0, 0, 1, 1, 1, 1, 1, 0, 1, 1, 0, 1, 1, 1, 1, 1, 1, 0, 1, 1, 0, 1, 1, 0, 0, 1, 0, 0, 1, 1, 1, 1, 0, 1, 0, 0, 0, 0, 0, 0, 1, 1, 1, 0, 1, 0, 0, 0, 1, 0, 1, 1, 1, 1, 1, 1, 0, 1, 0, 0, 1, 1, 0, 1, 0, 0, 1, 1, 1, 1, 1, 1, 1, 0, 0, 1, 1, 1, 1, 1, 1, 1, 1, 1, 1, 1, 0, 1, 1, 1, 1, 1, 0, 1, 0, 0, 1, 0, 1, 1, 1, 1, 0, 0, 0, 1, 1, 0, 1, 0, 1, 1, 0, 1, 0, 0, 0, 0, 0, 0, 0, 1, 1, 1, 0, 1, 1, 0, 1, 1, 1, 1, 1, 1, 1, 0, 1, 0, 0, 1, 1, 0, 0, 0, 0, 0, 1, 0, 0, 0, 1, 1, 0, 1, 1, 0, 1, 1, 1, 1, 1, 1, 1, 1, 1, 1, 1, 1, 1, 0, 0, 1, 0, 0, 1, 1, 1, 1, 1, 1, 1, 0, 1, 1, 1, 1, 1, 0, 0, 0, 0, 0, 0, 0, 1, 0, 1, 1, 1, 1, 1, 0, 1, 1, 1, 0, 1, 1, 1, 0, 1, 0, 0, 1, 1, 0, 1, 1, 1, 0, 1, 1, 0, 1, 1, 0, 0, 1, 1, 1, 1, 0, 1, 1, 1, 0, 0, 0, 0, 1, 1, 1, 0, 1, 0, 0, 0, 0, 1, 1]\n",
      "\n",
      "ROC AUC Score = 0.704\n",
      "Balanced Acc. = 0.645\n",
      "F1-Score      = 0.723\n",
      "Precision     = 0.711\n",
      "Recall        = 0.735\n"
     ]
    }
   ],
   "source": [
    "### Here, we use the test_dataset instead of the loader, just to make sure the predictor \n",
    "# works as expeted. We must get the same values as earlier.\n",
    "\n",
    "print(len(test_dataset))\n",
    "\n",
    "# test_ld_min= datasets.get_dataloader(dataset=test_dataset[:], batch_size=512, shuffle=False\n",
    "#                    , add_global_feats_to_nodes=False, num_workers=0\n",
    "#                    , scale_features=False, feature_scaler=None)\n",
    "\n",
    "\n",
    "test_pred, test_true = gcn_predictor.predict_from_data_list(data=test_dataset[:], batch_size=batch_size\n",
    "                                                     , device='cuda:0', return_true_targets=True, desc=\"Predicting...\")\n",
    "\n",
    "# print(test_pred[:12])\n",
    "# print(test_true[:12])\n",
    "threshold = 0.5\n",
    "test_pred_classes = [int(x>threshold) for x in test_pred.squeeze(1)] \n",
    "print(test_pred_classes)\n",
    "\n",
    "print(f\"\\nROC AUC Score = {round(roc_auc_score(test_true.cpu(), test_pred.detach().cpu()),3)}\")\n",
    "print(f\"Balanced Acc. = {round(balanced_accuracy_score(test_true.cpu(), test_pred_classes),3)}\")\n",
    "print(f\"F1-Score      = {round(f1_score(test_true.cpu(), test_pred_classes),3)}\")\n",
    "print(f\"Precision     = {round(precision_score(test_true.cpu(), test_pred_classes),3)}\")\n",
    "print(f\"Recall        = {round(recall_score(test_true.cpu(), test_pred_classes),3)}\")"
   ]
  },
  {
   "cell_type": "markdown",
   "metadata": {},
   "source": [
    "<h5 style=\"font-family: cursive\"> Predict DD2 Activity from SMILES</h5>"
   ]
  },
  {
   "cell_type": "code",
   "execution_count": 32,
   "metadata": {},
   "outputs": [
    {
     "name": "stdout",
     "output_type": "stream",
     "text": [
      "RDKIT property calculation: 0.25 seconds.\n"
     ]
    },
    {
     "name": "stderr",
     "output_type": "stream",
     "text": [
      "100%|██████████| 2/2 [00:00<00:00,  9.44it/s]\n"
     ]
    },
    {
     "name": "stdout",
     "output_type": "stream",
     "text": [
      "MORDRED property calculation: 4.518 seconds.\n",
      "len_mol_features: 2\n",
      "gfeatures_cleaned (2, 104)\n",
      "\n",
      "new_preds tensor([[0.0084],\n",
      "        [0.9948]], device='cuda:0')\n",
      "pred_classes [0, 1]\n"
     ]
    }
   ],
   "source": [
    "smiles = ['CCC(=O)NCc1nccc1CO', 'O=C(O)c1cccnc1Sc1cc(CCO)c(Cl)cc1']\n",
    "new_preds = gcn_predictor.predict_from_smiles_list(smiles_list=smiles, device='cuda:0'\n",
    "                                                , desc=\"Predicting...\")\n",
    "\n",
    "threshold = 0.5\n",
    "pred_classes = [int(x>threshold) for x in new_preds.squeeze(1)]\n",
    "print(\"\\nnew_preds\", new_preds.detach())\n",
    "print(\"pred_classes\", pred_classes)"
   ]
  },
  {
   "cell_type": "markdown",
   "metadata": {},
   "source": [
    "<p style=\"font-family: cursive\">We have trained a GCN model for predicting the DD2 activity of small molecules. The model trained models achieved a ROC AUC score, and F1-score  of 0.718, and 0.759, respectively. Exploring a larger hyperpamareter space for tuning could help improving the performance</p>\n",
    "\n",
    "<p style=\"font-family: cursive\">It is very helfpul for model development and use to trust the predictions. There are tools that allow to explain graph-based models. These can be helfpful as they provide an intuitive visualization and interpretability of the predictions. We use PyTorch Geometric Explainer module, in combination with NetworkX. See how it is used in the <a href=\"./dd2_gnn_explanation.ipynb\">dd2_gnn_explanation notebook</a>.</p>"
   ]
  }
 ],
 "metadata": {
  "kernelspec": {
   "display_name": "chemai-gpu",
   "language": "python",
   "name": "python3"
  },
  "language_info": {
   "codemirror_mode": {
    "name": "ipython",
    "version": 3
   },
   "file_extension": ".py",
   "mimetype": "text/x-python",
   "name": "python",
   "nbconvert_exporter": "python",
   "pygments_lexer": "ipython3",
   "version": "3.9.18"
  }
 },
 "nbformat": 4,
 "nbformat_minor": 2
}
