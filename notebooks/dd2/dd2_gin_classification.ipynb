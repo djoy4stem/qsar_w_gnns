{
 "cells": [
  {
   "cell_type": "code",
   "execution_count": 1,
   "metadata": {},
   "outputs": [],
   "source": [
    "## IPython extensions to reload modules before executing user code.\n",
    "# Autorelad is an IPython extension to reload modules before executing user code.\n",
    "%load_ext autoreload\n",
    "\n",
    "# Reload all modules (except those excluded by %aimport) every time before executing the Python code typed.\n",
    "%autoreload 2"
   ]
  },
  {
   "cell_type": "code",
   "execution_count": 2,
   "metadata": {},
   "outputs": [
    {
     "name": "stdout",
     "output_type": "stream",
     "text": [
      "/home/djoy2409-wsl/projects/software_development/qsar_w_gnns/data\n"
     ]
    }
   ],
   "source": [
    "from matplotlib import pyplot as plt\n",
    "\n",
    "import os\n",
    "from os.path import join\n",
    "import sys\n",
    "from IPython.display import display\n",
    "from PIL import Image\n",
    "\n",
    "ROOT_DIR = os.sep.join(os.path.abspath(\".\").split(os.sep)[:-2])\n",
    "sys.path.insert(0, ROOT_DIR)\n",
    "DATASET_DIR = \"{}/data\".format(ROOT_DIR)\n",
    "print(DATASET_DIR)"
   ]
  },
  {
   "cell_type": "code",
   "execution_count": 3,
   "metadata": {},
   "outputs": [],
   "source": [
    "from typing import List, Union, Any, Tuple\n",
    "from datetime import datetime\n",
    "from random import sample\n",
    "\n",
    "import pandas as pd\n",
    "import numpy as np\n",
    "from tqdm import tqdm\n",
    "import pickle\n",
    "\n",
    "from sklearn.metrics import (\n",
    "    f1_score,\n",
    "    roc_auc_score,\n",
    "    recall_score,\n",
    "    precision_score,\n",
    "    balanced_accuracy_score,\n",
    ")\n",
    "from sklearn.preprocessing import MinMaxScaler, StandardScaler\n",
    "\n",
    "import torch\n",
    "import torch_geometric\n",
    "from torch_geometric.data import Data\n",
    "from torch.nn import BCELoss, BCEWithLogitsLoss, LeakyReLU, ReLU\n",
    "from torch.optim import lr_scheduler, Adagrad, Adadelta, Adam, AdamW, SGD\n",
    "\n",
    "from rdkit import Chem, RDLogger\n",
    "from rdkit.Chem import (\n",
    "    Draw,\n",
    "    AllChem,\n",
    "    PandasTools,\n",
    "    MolFromSequence,\n",
    "    MolToSmiles,\n",
    "    MolToInchiKey,\n",
    "    Descriptors,\n",
    "    GraphDescriptors,\n",
    ")\n",
    "from rdkit.Chem import rdMolDescriptors as rdmdesc\n",
    "\n",
    "from joblib import Parallel, delayed\n",
    "\n",
    "RDLogger.DisableLog(\"rdApp.*\")\n",
    "import warnings\n",
    "\n",
    "warnings.filterwarnings(\"ignore\", category=UserWarning)\n",
    "from lib import (\n",
    "    gnn_utils,\n",
    "    utilities,\n",
    "    datasets,\n",
    "    splitters,\n",
    "    featurizers,\n",
    "    training_utils,\n",
    "    graph_nns,\n",
    "    visuals,\n",
    ")\n",
    "\n",
    "\n",
    "import matplotlib.pyplot as plt\n",
    "\n",
    "plt.rcParams[\"figure.dpi\"] = 100\n",
    "plt.rcParams.update({\"font.size\": 24})"
   ]
  },
  {
   "cell_type": "code",
   "execution_count": 4,
   "metadata": {},
   "outputs": [],
   "source": [
    "## Set seeds\n",
    "seed = 123\n",
    "utilities.set_seeds(seed=seed)"
   ]
  },
  {
   "cell_type": "markdown",
   "metadata": {},
   "source": [
    "<p style=\"font-family: cursive; font-size=14px\">\n",
    "In the following, we will train graph isomorphisms neural network (GIN) models to predict hether a compound inhibits of the growth  <em>P. falciparum's</em> DD2.\n",
    "\n",
    "Interesting video tutorials about GINs can be founf here:\n",
    "<ol>\n",
    "<li><a href=\"https://www.youtube.com/watch?v=trJwayzmEoU\">[Deep Graph Learning] 5.4 Graph Isomorphism Network Expressive nets.</a></li>\n",
    "<li><a href=\"https://www.youtube.com/watch?v=f255vMhH4KI\">Graph Classification Graph Isomorphism Network | Lecture 85 (Part 5) | Applied Deep Learning.</a></li>\n",
    "</ol>\n",
    "</p>"
   ]
  },
  {
   "cell_type": "markdown",
   "metadata": {},
   "source": [
    "<h3 style=\"font-family: cursive\">Data Preparation</h4>"
   ]
  },
  {
   "cell_type": "markdown",
   "metadata": {},
   "source": [
    "<h4 style=\"font-family: cursive\">Dataset Cleaning</h4>\n",
    "<p style=\"font-family: cursive; font-size=14px\">\n",
    "The dataset was obtained from the PubChem Biossay AID 2302. It was used as example in the paper by [Chakravarti and Mani Alla (2019); Frontiers in Artificial Intelligence, 2, DOI: 10.3389/frai.2019.00017](https://www.frontiersin.org/articles/10.3389/frai.2019.00017/full). </p>\n"
   ]
  },
  {
   "cell_type": "code",
   "execution_count": 5,
   "metadata": {},
   "outputs": [],
   "source": [
    "# dd2_data_df   = pd.read_csv(f\"{DATASET_DIR}/dd2_inhibition_pubchem_aid_2302.csv\")\n",
    "smiles_column = \"PUBCHEM_EXT_DATASOURCE_SMILES\"\n",
    "# target_column = \"PCT_INHIB_DD2\"\n",
    "target_column = \"DD2_ACTIVITY_CLS\"\n",
    "mol_column = \"RMol\"\n",
    "\n",
    "# print(f\"Number of molecules with a missing SMILES string: {dd2_data_df[smiles_column].isna().sum()}/{dd2_data_df.shape[0]}\")\n",
    "\n",
    "# # Removing rows with a missing SMILES string\n",
    "# dd2_data_df.dropna(subset=[smiles_column], axis=0, inplace=True)\n",
    "\n",
    "\n",
    "# # Remove rows where is not defined\n",
    "# dd2_data_df.dropna(subset=['PUBCHEM_ACTIVITY_OUTCOME'], axis=0, inplace=True)\n",
    "\n",
    "# # Add a column with 0/1 activity values\n",
    "# dd2_data_df[target_column] = dd2_data_df['PUBCHEM_ACTIVITY_OUTCOME'].apply(lambda x: 1 if x =='Active' else 0)\n",
    "\n",
    "\n",
    "# # Adding molecule (Mol) objects to the dataframe\n",
    "# PandasTools.AddMoleculeColumnToFrame(dd2_data_df, smiles_column, mol_column)\n",
    "\n",
    "# dd2_data_df.head(2)"
   ]
  },
  {
   "cell_type": "markdown",
   "metadata": {},
   "source": [
    "<span style=\"font-family: cursive; font-size=16px\">\n",
    "Beside removing rows with an empty SMILES, we will proceed with the following steps:\n",
    "<ol>\n",
    "    <li>Select the largest fragment for each molecule, which will also remove slats, among others. We will use the SMILES and inchikeys of the fragment.</li>\n",
    "    <li>Sanitize the retained molecule</li>\n",
    "    <li>Fix the target values. Negative values are set to 0 and values greater than 100 are set to 100</li>\n",
    "    <li>Remove duplicates, using the inchikey as primary key. For each group of duplicates: </li>\n",
    "        <ol>\n",
    "            <li>If the min and max values are apart by 20 or more, omit and proceed to the next group</li>\n",
    "            <li>Else, retain the first occurrence but replace the target value by an average</li>\n",
    "            <li>It is worth mentioning that duplicate removal is usually a more involved process, where outliers can be detected and removed using a statisical approach, before averaging the taarget value.</li>\n",
    "        </ol>\n",
    "</ol>\n",
    "</span>"
   ]
  },
  {
   "cell_type": "code",
   "execution_count": 6,
   "metadata": {},
   "outputs": [],
   "source": [
    "# dd2_data_df['largest_frag']        = dd2_data_df[mol_column].apply(utilities.get_largest_fragment_from_mol)\n",
    "\n",
    "# dd2_data_df['largest_frag_smiles'] = dd2_data_df['largest_frag'].apply(lambda mol: MolToSmiles(utilities.sanitize_molecule(mol, add_explicit_h=True)))\n",
    "\n",
    "# dd2_data_df.dropna(subset=['largest_frag_smiles'], axis=0, inplace=True)\n",
    "\n",
    "\n",
    "# dd2_data_df['largest_frag_ikey'] = dd2_data_df['largest_frag'].apply(MolToInchiKey)\n",
    "# duplicates = dd2_data_df[dd2_data_df.duplicated(subset=['largest_frag_ikey'], keep=False)].sort_values(by='largest_frag_ikey')\n",
    "\n",
    "# print(f\"Number of molecules with a missing largest fragment SMILES string: {dd2_data_df['largest_frag_smiles'].isna().sum()}/{dd2_data_df.shape[0]}\")\n",
    "\n",
    "# print(f\"Number of unique inchikeys: {dd2_data_df['largest_frag_ikey'].unique().size}/{dd2_data_df.shape[0]}\")\n",
    "# print(f\"Number of duplicates inchikeys: {duplicates.shape[0]} - e.g.: {duplicates.index[:2]}\")\n",
    "# print(f\"Number of molecules with a negative target value: {dd2_data_df[dd2_data_df[target_column]<0].shape[0]}/{dd2_data_df.shape[0]} - e.g.:{dd2_data_df[dd2_data_df[target_column]<0].index[:2]}\")\n",
    "# print(f\"Number of molecules with target value>100: {dd2_data_df[dd2_data_df[target_column]>100].shape[0]}/{dd2_data_df.shape[0]} - e.g.:{dd2_data_df[dd2_data_df[target_column]>100].index[:2]}\")\n",
    "# dd2_data_df[['PUBCHEM_CID', 'largest_frag_ikey', target_column]].loc[[8,9,272, 458, 11041, 11042],:]"
   ]
  },
  {
   "cell_type": "code",
   "execution_count": 7,
   "metadata": {},
   "outputs": [],
   "source": [
    "# dd2_data_df['lf_num_frags'] = dd2_data_df['largest_frag'].apply(lambda x: len(Chem.GetMolFrags(x)))\n",
    "# print(dd2_data_df[dd2_data_df['lf_num_frags']>1])"
   ]
  },
  {
   "cell_type": "code",
   "execution_count": 8,
   "metadata": {},
   "outputs": [
    {
     "data": {
      "text/plain": [
       "Index(['Unnamed: 0', 'DD2_ACTIVITY_CLS', 'PCT_INHIB_DD2',\n",
       "       'PUBCHEM_ACTIVITY_OUTCOME', 'PUBCHEM_CID',\n",
       "       'PUBCHEM_EXT_DATASOURCE_SMILES', 'PUBCHEM_SID', 'largest_frag_ikey',\n",
       "       'largest_frag_smiles', 'largest_frag'],\n",
       "      dtype='object')"
      ]
     },
     "execution_count": 8,
     "metadata": {},
     "output_type": "execute_result"
    }
   ],
   "source": [
    "# print(f\" Unique target values = {dd2_data_df[target_column].unique()}\")\n",
    "\n",
    "# dd2_data_df['PUBCHEM_CID'] = dd2_data_df['PUBCHEM_CID'].astype(int)\n",
    "\n",
    "# dd2_data_df[dd2_data_df.columns.difference([mol_column, 'largest_frag', 'lf_num_frags'])].to_csv(f\"{DATASET_DIR}/dd2_inhibition_pubchem_aid_2302_cleaned.csv\")\n",
    "# dd2_data_df[['PUBCHEM_CID', 'largest_frag_smiles']].to_csv(f\"{DATASET_DIR}/dd2_inhibition_pubchem_aid_2302_largest_frag_cleaned.csv\")\n",
    "\n",
    "\n",
    "# # dd2_data_df.head(2)\n",
    "dd2_data_df = pd.read_csv(f\"{DATASET_DIR}/dd2_inhibition_pubchem_aid_2302_cleaned.csv\")\n",
    "PandasTools.AddMoleculeColumnToFrame(dd2_data_df, \"largest_frag_smiles\", \"largest_frag\")\n",
    "dd2_data_df.columns"
   ]
  },
  {
   "cell_type": "markdown",
   "metadata": {},
   "source": [
    "<p style=\"font-family: cursive; font-size=16px\">As you can see, the target values outside of the [0,100] were fixed\n",
    "    . Moreover, the rows with indices 11041 and 11042 are no longer in the datarame. This is because the corresponding rows have the same inchikeys, but with values that\n",
    "    are more than 20 % apart. </p>"
   ]
  },
  {
   "cell_type": "code",
   "execution_count": 9,
   "metadata": {},
   "outputs": [],
   "source": [
    "# atom_list = dd2_data_df['largest_frag'].apply(lambda mol: list(set([atom.GetAtomicNum() for atom in mol.GetAtoms()])))\n",
    "# atom_list = list(set(utilities.flatten_list(atom_list.values.tolist())))\n",
    "\n",
    "# print(\"List of unique atomic numbers: \",  [f\"{i}:{Chem.Atom(i).GetSymbol()}\" for i in atom_list])\n",
    "\n",
    "atom_list = [35, 6, 7, 8, 9, 15, 16, 17, 53]"
   ]
  },
  {
   "cell_type": "markdown",
   "metadata": {},
   "source": [
    "<p style=\"font-family: cursive; font-size=16px\">Instead of defining a long range of values for possible atomic numbers (e.g.: 1-100), which could lead to a very sparse matrix, we can instead focus on the list of atoms that commonly occur in drug-like compounds. Specifically in this set, we notice that only 9 atoms occur in the list of tested compounds. If we add Hydrogen (which will be expicit), we have a vector of length 10 to represent the atomic number, plus 1 additional bit for unknown atomic numbers.</p>\n",
    "<p style=\"font-family: cursive; font-size=16px\">Le'ts define the atom anf bond featurizers.</p>\n"
   ]
  },
  {
   "cell_type": "code",
   "execution_count": 10,
   "metadata": {},
   "outputs": [],
   "source": [
    "atom_featurizer = featurizers.AtomFeaturizer(\n",
    "    allowable_sets_one_hot={\n",
    "        \"atomic_num\": set(atom_list + [1]),\n",
    "        \"n_valence\": {0, 1, 2, 3, 4, 5, 6},\n",
    "        \"formal_charge\": {-3, -2, -1, 0, 1, 2, 3},\n",
    "        \"n_hydrogens\": {0, 1, 2, 3, 4},\n",
    "        \"hybridization\": {\"s\", \"sp\", \"sp2\", \"sp3\", \"sp3\", \"sp3d\", \"sp3d2\"},\n",
    "        # \"chiral_tag\": {0, 1, 2, 3},\n",
    "        \"chiral_tag\": {\n",
    "            \"chi_unspecified\",\n",
    "            \"chi_tetrahedral_cw\",\n",
    "            \"chi_tetrahedral_ccw\",\n",
    "            \"chi_tetrahedral\",\n",
    "        },  # , \"chi_allene\", \"chi_other\"\n",
    "        \"is_aromatic\": {True, False},\n",
    "        \"is_in_ring\": {True, False},\n",
    "        \"is_in_ring_size_5\": {True, False},\n",
    "        \"is_in_ring_size_6\": {True, False},\n",
    "        \"is_h_acceptor\": {True, False},\n",
    "        \"is_h_donor\": {True, False},\n",
    "        \"is_heteroatom\": {True, False},\n",
    "    },\n",
    "    continuous_props=[\n",
    "        \"atomic_mass\",\n",
    "        \"atomic_vdw_radius\",\n",
    "        \"atomic_covalent_radius\",\n",
    "        \"num_implicit_hydrogens\",\n",
    "        \"num_explicit_hydrogens\",\n",
    "        \"crippen_log_p_contrib\",\n",
    "        # \"crippen_molar_refractivity_contrib\",\n",
    "        # \"tpsa_contrib\",\n",
    "        \"labute_asa_contrib\"\n",
    "        # ,\"gasteiger_charge\"\n",
    "    ],\n",
    ")\n",
    "\n",
    "# atom_featurizer = featurizers.ATOM_FEATURIZER\n",
    "\n",
    "bond_featurizer = featurizers.BondFeaturizer(\n",
    "    allowable_sets_one_hot={\n",
    "        \"bond_type\": {\"single\", \"double\", \"triple\", \"aromatic\"},\n",
    "        \"conjugated\": {True, False},\n",
    "        \"stereo\": {\"stereonone\", \"stereoz\", \"stereoe\", \"stereocis\", \"stereotrans\"},\n",
    "        \"is_in_ring\": {True, False},\n",
    "        \"is_in_ring_size_5\": {True, False},\n",
    "        \"is_in_ring_size_6\": {True, False},\n",
    "    }\n",
    ")\n",
    "\n",
    "scale_features = True\n",
    "feature_scaler = StandardScaler()\n",
    "# print(dir(feature_scaler))\n",
    "# print(f\"feature_scaler (mean) = {hasattr(feature_scaler, 'mean_')}\")\n",
    "\n",
    "# features_ = None\n",
    "# features_ = [\n",
    "#     \"CalcExactMolWt\",\n",
    "#     \"CalcTPSA\",\n",
    "#     \"CalcNumAromaticRings\",\n",
    "#     \"CalcNumHBA\",\n",
    "#     \"CalcNumHBD\",\n",
    "#     \"CalcNumRotatableBonds\"\n",
    "#     # , 'CalcChi0n', 'CalcChi0v', 'CalcChi1n', 'CalcChi1v', 'CalcChi2n', 'CalcChi2v'\n",
    "#     # , 'CalcChi3n', 'CalcChi3v', 'CalcChi4n', 'CalcChi4v', 'CalcChi0n', 'CalcChi0v'\n",
    "#     ,\n",
    "#     \"MolLogP\",\n",
    "#     \"HallKierAlpha\",\n",
    "#     \"qed\",\n",
    "#     \"MaxPartialCharge\",\n",
    "#     \"MinPartialCharge\"\n",
    "#     # , 'ZagrebIndex'\n",
    "#     # , 'MoeType'\n",
    "# ]\n",
    "\n",
    "features_ = []\n",
    "mol_featurizer = featurizers.MoleculeFeaturizer(\n",
    "    features=features_, df_func_gps=featurizers.DF_FUNC_GRPS_RDKIT\n",
    ")  # featurizers.DF_FUNC_GRPS;  MACCS_FP"
   ]
  },
  {
   "cell_type": "code",
   "execution_count": 11,
   "metadata": {},
   "outputs": [
    {
     "name": "stdout",
     "output_type": "stream",
     "text": [
      "atom_featurizer feature mapping {'atomic_num': {1: 0, 6: 1, 7: 2, 8: 3, 9: 4, 15: 5, 16: 6, 17: 7, 35: 8, 53: 9, 'unk': 10}, 'n_valence': {0: 11, 1: 12, 2: 13, 3: 14, 4: 15, 5: 16, 6: 17, 'unk': 18}, 'formal_charge': {-3: 19, -2: 20, -1: 21, 0: 22, 1: 23, 2: 24, 3: 25, 'unk': 26}, 'n_hydrogens': {0: 27, 1: 28, 2: 29, 3: 30, 4: 31, 'unk': 32}, 'hybridization': {'s': 33, 'sp': 34, 'sp2': 35, 'sp3': 36, 'sp3d': 37, 'sp3d2': 38, 'unk': 39}, 'chiral_tag': {'chi_tetrahedral': 40, 'chi_tetrahedral_ccw': 41, 'chi_tetrahedral_cw': 42, 'chi_unspecified': 43, 'unk': 44}, 'is_aromatic': {False: 45, True: 46, 'unk': 47}, 'is_in_ring': {False: 48, True: 49, 'unk': 50}, 'is_in_ring_size_5': {False: 51, True: 52, 'unk': 53}, 'is_in_ring_size_6': {False: 54, True: 55, 'unk': 56}, 'is_h_acceptor': {False: 57, True: 58, 'unk': 59}, 'is_h_donor': {False: 60, True: 61, 'unk': 62}, 'is_heteroatom': {False: 63, True: 64, 'unk': 65}, 'atomic_mass': 66, 'atomic_vdw_radius': 67, 'atomic_covalent_radius': 68, 'num_implicit_hydrogens': 69, 'num_explicit_hydrogens': 70, 'crippen_log_p_contrib': 71, 'labute_asa_contrib': 72}\n",
      "atomic_feats_pos_values (atom_featurizer.atomic_feats_pos_values.shape) :\n",
      "   value      f_type\n",
      "0     1  atomic_num\n",
      "1     6  atomic_num\n",
      "2     7  atomic_num\n",
      "3     8  atomic_num\n",
      "4     9  atomic_num\n",
      "\n",
      "\n",
      "bond_featurizer feature mapping  {'bond_type': {'aromatic': 0, 'double': 1, 'single': 2, 'triple': 3, 'unk': 4}, 'conjugated': {False: 5, True: 6, 'unk': 7}, 'stereo': {'stereocis': 8, 'stereoe': 9, 'stereonone': 10, 'stereotrans': 11, 'stereoz': 12, 'unk': 13}, 'is_in_ring': {False: 14, True: 15, 'unk': 16}, 'is_in_ring_size_5': {False: 17, True: 18, 'unk': 19}, 'is_in_ring_size_6': {False: 20, True: 21, 'unk': 22}}\n",
      "bond_feats_pos_values (bond_featurizer.bond_feats_pos_values.shape) :\n",
      "       value     f_type\n",
      "0  aromatic  bond_type\n",
      "1    double  bond_type\n",
      "2    single  bond_type\n",
      "3    triple  bond_type\n",
      "4       unk  bond_type\n",
      "\n",
      "\n",
      "mol_featurizer rdkit_features   []\n",
      "mol_featurizer mordred_features []\n",
      "mol_featurizer func. groups    \n",
      "               name                                             SMARTS\n",
      "0        fr_Al_COO                                    C-C(=O)[O;H1,-]\n",
      "1         fr_Al_OH                                 [C&!$(C=O)]-[O&H1]\n",
      "2  fr_Al_OH_noTert  [$(C-[O&X2&H1])&!$([C&X3](-[O&X2&H1])=[O&X1])&...\n",
      "3           fr_ArN  [$(a-[N&X3&H2]),$(a-[N&H1][N&H2]),$(a-C(=[O&X1...\n",
      "4        fr_Ar_COO                                    c-C(=O)[O;H1,-]\n"
     ]
    }
   ],
   "source": [
    "print(\"atom_featurizer feature mapping\", atom_featurizer.features_mapping)\n",
    "print(\n",
    "    f\"atomic_feats_pos_values (atom_featurizer.atomic_feats_pos_values.shape) :\\n\",\n",
    "    atom_featurizer.atomic_feats_pos_values.head(5),\n",
    ")\n",
    "\n",
    "print(\"\\n\\nbond_featurizer feature mapping \", bond_featurizer.features_mapping)\n",
    "print(\n",
    "    f\"bond_feats_pos_values (bond_featurizer.bond_feats_pos_values.shape) :\\n\",\n",
    "    bond_featurizer.bond_feats_pos_values.head(5),\n",
    ")\n",
    "\n",
    "print(\"\\n\\nmol_featurizer rdkit_features  \", mol_featurizer.rdkit_features)\n",
    "print(\"mol_featurizer mordred_features\", mol_featurizer.mordred_descs)\n",
    "print(\"mol_featurizer func. groups    \\n\", mol_featurizer.df_func_gps.head(5))\n",
    "\n",
    "# mol_featurizer.df_func_gps.head(30)\n",
    "# featurizers.RDKIT_FRAGS\n",
    "# print(dir(Chem.Fragments))\n",
    "# Chem.MolToSmarts(Chem.Fragments.fr_aniline.__defaults__[1])"
   ]
  },
  {
   "cell_type": "code",
   "execution_count": 12,
   "metadata": {},
   "outputs": [],
   "source": [
    "# print('atom_featurizer = ', atom_featurizer.features_mapping)\n",
    "# print('\\nbond_featurizer = ', bond_featurizer.features_mapping)"
   ]
  },
  {
   "cell_type": "markdown",
   "metadata": {},
   "source": [
    "<h4 style=\"font-family: cursive\"> Data splitting</h4>\n",
    "<p style=\"font-family: cursive; font-size=16px\">We will split the data into train, validation and test sets, using the scaffold splitting method. Small-molecule scaffold splitting, particularly using the Bemis-Murcko scaffold approach, involves identifying and extracting the core structural framework shared among a set of chemical compounds, excluding variable substituents. This process simplifies and abstracts the diverse chemical structures, aiding in the analysis of chemical libraries and structure-activity relationships. The Bemis-Murcko scaffold represents the most conserved structural elements of the compounds.<br/>While scaffold splitting facilitates the identification of key structural motifs,and can enhance model interpretation, it has limitations in handling highly flexible or structurally diverse molecules,and may result in the loss of detailed iformation about specific functional groups or substituents, potentially oversimplifying structure-activity relationships. Moreover, In some cases, scaffold splitting may lead to overly strict splitting criteria, resulting in training, validation, and test sets that are too similar in chemical space.</p>"
   ]
  },
  {
   "cell_type": "code",
   "execution_count": 13,
   "metadata": {},
   "outputs": [
    {
     "name": "stdout",
     "output_type": "stream",
     "text": [
      "Dataset sizes: Train (11492) - Validation (1352) - Test (676)\n"
     ]
    }
   ],
   "source": [
    "molecules = dd2_data_df['largest_frag'].values\n",
    "targets = dd2_data_df[target_column].values\n",
    "\n",
    "splitter= splitters.ScaffoldSplitter()\n",
    "train_idx, val_idx, test_idx = splitter.train_val_test_split(molecules=molecules[:], train_ratio=0.85, val_ratio=0.1\n",
    "                            , test_ratio=0.05, return_as_indices=True, return_as_clusters=False, include_chirality=False\n",
    "                            , sort_by_size=True, shuffle_idx=True, random_state=seed)\n",
    "\n",
    "# csplitter = splitters.ClusterSplitter()\n",
    "# train_idx, val_idx, test_idx = csplitter.train_val_test_split(\n",
    "#     molecules=molecules[:],\n",
    "#     train_ratio=0.8,\n",
    "#     val_ratio=0.15,\n",
    "#     test_ratio=0.05,\n",
    "#     return_as_indices=True,\n",
    "#     return_as_clusters=False,\n",
    "#     include_chirality=True,\n",
    "#     sort_by_size=False,\n",
    "#     shuffle_idx=False,\n",
    "#     random_state=seed,\n",
    "#     sim_cutoff=0.5,\n",
    "# )\n",
    "\n",
    "# kfold_splits = splitter.kfold_split(molecules=molecules[:50], n_folds=3, return_as_indices=False, include_chirality=False\n",
    "#                             , random_state=1)\n",
    "# print(f\"fold sizes: {[len(f) for f in kfold_splits]}\")\n",
    "\n",
    "train_mols, y_train = [molecules[i] for i in train_idx], targets[train_idx]\n",
    "val_mols, y_val = [molecules[i] for i in val_idx], targets[val_idx]\n",
    "test_mols, y_test = [molecules[i] for i in test_idx], targets[test_idx]\n",
    "\n",
    "print(\n",
    "    f\"Dataset sizes: Train ({len(train_mols)}) - Validation ({len(val_mols)}) - Test ({len(test_mols)})\"\n",
    ")"
   ]
  },
  {
   "cell_type": "code",
   "execution_count": 14,
   "metadata": {},
   "outputs": [],
   "source": [
    "smiles_and_labels   = {}\n",
    "largest_frag_smiles = dd2_data_df[\"largest_frag_smiles\"].values\n",
    "train_smiles        = [largest_frag_smiles[i] for i in train_idx]\n",
    "val_smiles          = [largest_frag_smiles[i] for i in val_idx]\n",
    "test_smiles         = [largest_frag_smiles[i] for i in test_idx]\n",
    "\n",
    "smiles_and_labels[\"train\"] = (train_smiles, y_train)\n",
    "smiles_and_labels[\"val\"]   = (val_smiles, y_val)\n",
    "smiles_and_labels[\"test\"]  = (test_smiles, y_test)\n",
    "\n",
    "pickle.dump(\n",
    "    smiles_and_labels,\n",
    "    open(f\"{DATASET_DIR}/dd2_cluster_splits_smiles_and_labels_gin.pkl\", \"wb\"),\n",
    ")"
   ]
  },
  {
   "cell_type": "code",
   "execution_count": 15,
   "metadata": {},
   "outputs": [
    {
     "data": {
      "image/png": "[encoded data removed]",
      "text/plain": [
       "<IPython.core.display.Image object>"
      ]
     },
     "execution_count": 15,
     "metadata": {},
     "output_type": "execute_result"
    }
   ],
   "source": [
    "Draw.MolsToGridImage(\n",
    "    sample(train_mols, 5) + sample(val_mols, 5) + sample(test_mols, 5),\n",
    "    molsPerRow=5,\n",
    "    subImgSize=(200, 150),\n",
    "    legends=[\"train\"] * 5 + [\"val\"] * 5 + [\"test\"] * 5,\n",
    "    highlightAtomLists=None,\n",
    ")"
   ]
  },
  {
   "cell_type": "code",
   "execution_count": 16,
   "metadata": {},
   "outputs": [
    {
     "name": "stdout",
     "output_type": "stream",
     "text": [
      "Clean features...\n",
      "global_feats_reshaped (11492, 85)\n",
      "CPU times: user 3min 27s, sys: 1.18 s, total: 3min 28s\n",
      "Wall time: 3min 28s\n"
     ]
    }
   ],
   "source": [
    "%%time\n",
    "\n",
    "train_dataset = gnn_utils.get_dataset_from_mol_list(\n",
    "    mol_list=train_mols[:],\n",
    "    targets=y_train[:],\n",
    "    atom_featurizer=atom_featurizer,\n",
    "    bond_featurizer=bond_featurizer,\n",
    "    mol_featurizer=mol_featurizer,\n",
    "    add_explicit_h=False,\n",
    "    compute_global_features=True,\n",
    "    add_global_feat_to_nodes=False,\n",
    "    scale_features=scale_features,\n",
    "    feature_scaler=feature_scaler,\n",
    ")\n",
    "\n",
    "# # print(train_dataset[1].x, train_dataset[1].y, train_dataset[1].x[0].shape)\n",
    "# # if 'global_feats' in train_dataset[1].to_dict():\n",
    "# #     print(train_dataset[1].global_feats.shape)\n",
    "# # # train_dataset[1].x[5:10]\n",
    "\n",
    "# # # s = mol_featurizer.compute_rdkit_properties(train_mols[0])\n",
    "# # s"
   ]
  },
  {
   "cell_type": "code",
   "execution_count": 17,
   "metadata": {},
   "outputs": [
    {
     "name": "stdout",
     "output_type": "stream",
     "text": [
      "Clean features...\n",
      "global_feats_reshaped (1352, 85)\n",
      "Clean features...\n",
      "global_feats_reshaped (676, 85)\n"
     ]
    }
   ],
   "source": [
    "val_dataset = gnn_utils.get_dataset_from_mol_list(\n",
    "    mol_list=val_mols,\n",
    "    targets=y_val,\n",
    "    atom_featurizer=atom_featurizer,\n",
    "    bond_featurizer=bond_featurizer,\n",
    "    mol_featurizer=mol_featurizer,\n",
    "    add_explicit_h=False,\n",
    "    compute_global_features=True,\n",
    "    add_global_feat_to_nodes=False,\n",
    "    scale_features=scale_features,\n",
    "    feature_scaler=feature_scaler,\n",
    ")\n",
    "\n",
    "test_dataset = gnn_utils.get_dataset_from_mol_list(\n",
    "    mol_list=test_mols,\n",
    "    targets=y_test,\n",
    "    atom_featurizer=atom_featurizer,\n",
    "    bond_featurizer=bond_featurizer,\n",
    "    mol_featurizer=mol_featurizer,\n",
    "    add_explicit_h=False,\n",
    "    compute_global_features=True,\n",
    "    add_global_feat_to_nodes=False,\n",
    "    scale_features=scale_features,\n",
    "    feature_scaler=feature_scaler,\n",
    ")"
   ]
  },
  {
   "cell_type": "code",
   "execution_count": 19,
   "metadata": {},
   "outputs": [],
   "source": [
    "dd2_dataset_fname = f\"{DATASET_DIR}/dd2_datasets_gin.pt\"\n",
    "torch.save(\n",
    "    {\n",
    "        \"splitter\": splitter.__class__.__name__,\n",
    "        \"train\": train_dataset,\n",
    "        \"val\": val_dataset,\n",
    "        \"test\": test_dataset,\n",
    "    },\n",
    "    dd2_dataset_fname,\n",
    ")\n",
    "# train_dataset[0]"
   ]
  },
  {
   "cell_type": "code",
   "execution_count": null,
   "metadata": {},
   "outputs": [],
   "source": [
    "# dd2_dataset_fname = f\"{DATASET_DIR}/dd2_datasets_gat.pt\"\n",
    "# dd2_dataset = torch.load(dd2_dataset_fname)\n",
    "\n",
    "# train_dataset = dd2_dataset[\"train_dataset\"]\n",
    "# val_dataset = dd2_dataset[\"val_dataset\"]\n",
    "# test_dataset = dd2_dataset[\"test_dataset\"]"
   ]
  },
  {
   "cell_type": "code",
   "execution_count": 24,
   "metadata": {},
   "outputs": [],
   "source": [
    "batch_size = 1024\n",
    "train_loader, val_loader, test_loader = datasets.get_dataloaders(\n",
    "    train_data=train_dataset,\n",
    "    test_data=test_dataset,\n",
    "    val_data=val_dataset,\n",
    "    batch_size=batch_size,\n",
    "    shuffle_train=True,\n",
    "    add_global_feats_to_nodes=False,\n",
    "    num_workers=0,\n",
    ")\n",
    "\n",
    "\n",
    "dd2_loader_fname = f\"{DATASET_DIR}/dd2_dataloaders_for_gin.pt\"\n",
    "torch.save(\n",
    "    {\n",
    "        \"train_loader\": train_loader,\n",
    "        \"val_loader\": val_loader,\n",
    "        \"test_loader\": test_loader,\n",
    "    },\n",
    "    dd2_loader_fname,\n",
    ")\n",
    "# list(train_loader)[0].x.shape"
   ]
  },
  {
   "cell_type": "code",
   "execution_count": null,
   "metadata": {},
   "outputs": [],
   "source": [
    "# dd2_loader_fname = f\"{DATASET_DIR}/dd2_dataloaders_for_gat.pt\"\n",
    "# dd2_loaders = torch.load(dd2_loader_fname)\n",
    "\n",
    "# train_loader = dd2_loaders[\"train_loader\"]\n",
    "# val_loader = dd2_loaders[\"val_loader\"]\n",
    "# test_loader = dd2_loaders[\"test_loader\"]"
   ]
  },
  {
   "cell_type": "markdown",
   "metadata": {},
   "source": [
    "<h3 style=\"font-family: cursive\">Implementing a Graph Isomorphism Network model</h3>\n",
    "<p style=\"font-family: cursive\">\n",
    "A Graph Isomorphism Network (GIN) is a type of Graph Neural Network (GNN) that aggregates information from neighboring nodes and edges to learn node representations. GIN differs from other GNNs like Graph Attention Networks (GATs) and Graph Convolutional Networks (GCNs) by employing a readout function that integrates global graph-level information, allowing GIN to be more permutation invariant and capture graph isomorphism. GIN has been shown to be expressive and flexible, making it suitable for tasks where capturing structural similarities in graphs is crucial.</p>\n",
    "<ol>\n",
    "<li><a href=\"https://arxiv.org/abs/1810.00826\">How Powerful are Graph Neural Networks?</li>\n",
    "<li><a href=\"https://github.com/weihua916/powerful-gnns\">How Powerful are Graph Neural Networks? (GitHub)</li>\n",
    "<li><a href=\"https://medium.com/@mymomo119966.mm/graph-neural-networks-regressive-modelling-by-example-b13055bf56e8\">Graph Isomorphism Neural Networks — Drug Discovery Example</li>\n",
    "<li><a href=\"https://towardsdatascience.com/how-to-design-the-most-powerful-graph-neural-network-3d18b07a6e66\">GIN: How to Design the Most Powerful Graph Neural Network</li>\n",
    "</ol>"
   ]
  },
  {
   "cell_type": "markdown",
   "metadata": {},
   "source": [
    "<h3 style=\"font-family: cursive\">Creating and Training a model</h3>"
   ]
  },
  {
   "cell_type": "code",
   "execution_count": 25,
   "metadata": {},
   "outputs": [
    {
     "name": "stderr",
     "output_type": "stream",
     "text": [
      "[I 2024-11-09 15:13:29,727] A new study created in memory with name: my_gin_study\n"
     ]
    },
    {
     "name": "stdout",
     "output_type": "stream",
     "text": [
      "<torch.utils.tensorboard.writer.SummaryWriter object at 0x7f05fdf5c250>\n",
      "params = {'task': 'binary_classification', 'in_channels': 73, 'global_fdim': 85, 'model': 'graph_nns.GIN', 'gnn_hidden_neurons': 246, 'gnn_nlayers': 2, 'ffn_hidden_neurons': 116, 'ffn_nlayers': 2, 'out_neurons': 1, 'dropout_rate': 0.2939702693002407, 'activation_func': 'torch.nn.ReLU', 'gpooling_func': 'mean', 'learning_rate': 0.06342284731320141, 'n_epochs': 200, 'criterion': BCEWithLogitsLoss(), 'optimizer': \"{'optimizer_type':'torch.optim.SGD', 'weight_decay':1e-3}\", 'scheduler': \"{'lr_scheduler_type':'lr_scheduler.CyclicLR', 'max_lr':0.2, 'step_size_up':50, 'cycle_momentum':True}\", 'scoring_func': 'roc_auc_score', 'add_batch_norm': True}\n",
      "\n",
      "in_channels = 73 :: gnn_dim = 246 :: activation_func = ReLU()\n",
      "Initializing parameters...\n",
      "\toptimizer:  {'state': {}, 'param_groups': [{'lr': 0.06342284731320141, 'momentum': 0, 'dampening': 0, 'weight_decay': 0.001, 'nesterov': False, 'maximize': False, 'foreach': None, 'differentiable': False, 'params': [0, 1, 2, 3, 4, 5, 6, 7, 8, 9, 10, 11, 12, 13, 14, 15]}]}\n",
      "\tlr_scheduler:  {'max_lrs': [0.2], 'total_size': 100.0, 'step_ratio': 0.5, 'mode': 'triangular', 'gamma': 1.0, '_scale_fn_custom': None, 'scale_mode': 'cycle', 'cycle_momentum': True, 'base_momentums': [0.8], 'max_momentums': [0.9], 'base_lrs': [0.06342284731320141], 'last_epoch': 0, 'verbose': False, '_step_count': 1, '_get_lr_called_within_step': False, '_last_lr': [0.06342284731320141]}\n",
      "checkpoint dir: None\n",
      "device = cuda\n",
      "TASK: binary_classification\n",
      "\n",
      "===> Epoch    1/200: Average Train Loss: 0.676 |  Average validation Loss: 0.665 | Validation Score: 0.598 | lr: 0.06342\n",
      "\n",
      "===> Epoch   21/200: Average Train Loss: 0.609 |  Average validation Loss: 0.644 | Validation Score: 0.706 | lr: 0.11805\n",
      "\n",
      "===> Epoch   41/200: Average Train Loss: 0.597 |  Average validation Loss: 0.662 | Validation Score: 0.680 | lr: 0.17268\n",
      "\n",
      "===> Epoch   61/200: Average Train Loss: 0.588 |  Average validation Loss: 0.561 | Validation Score: 0.778 | lr: 0.17268\n",
      "\n",
      "===> Epoch   81/200: Average Train Loss: 0.582 |  Average validation Loss: 0.516 | Validation Score: 0.826 | lr: 0.11805\n",
      "\n",
      "===> Epoch  101/200: Average Train Loss: 0.572 |  Average validation Loss: 0.551 | Validation Score: 0.813 | lr: 0.06342\n",
      "\n",
      "===> Epoch  121/200: Average Train Loss: 0.577 |  Average validation Loss: 0.668 | Validation Score: 0.560 | lr: 0.11805\n",
      "\n",
      "===> Epoch  141/200: Average Train Loss: 0.584 |  Average validation Loss: 0.500 | Validation Score: 0.841 | lr: 0.17268\n",
      "\n",
      "===> Epoch  161/200: Average Train Loss: 0.574 |  Average validation Loss: 0.505 | Validation Score: 0.843 | lr: 0.17268\n",
      "\n",
      "===> Epoch  181/200: Average Train Loss: 0.573 |  Average validation Loss: 0.653 | Validation Score: 0.719 | lr: 0.11805\n"
     ]
    },
    {
     "name": "stderr",
     "output_type": "stream",
     "text": [
      "[I 2024-11-09 15:19:15,978] Trial 0 finished with value: 0.8668668757632065 and parameters: {'in_channels': 73, 'global_fdim': 85, 'model': 'graph_nns.GIN', 'gnn_hidden_neurons': 246, 'gnn_nlayers': 2, 'ffn_hidden_neurons': 116, 'ffn_nlayers': 2, 'out_neurons': 1, 'dropout_rate': 0.2939702693002407, 'activation_func': 'torch.nn.ReLU', 'gpooling_func': 'mean', 'learning_rate': 0.06342284731320141, 'n_epochs': 200, 'optimizer': \"{'optimizer_type':'torch.optim.SGD', 'weight_decay':1e-3}\", 'scheduler': \"{'lr_scheduler_type':'lr_scheduler.CyclicLR', 'max_lr':0.2, 'step_size_up':50, 'cycle_momentum':True}\", 'scoring_func': 'roc_auc_score'}. Best is trial 0 with value: 0.8668668757632065.\n"
     ]
    },
    {
     "name": "stdout",
     "output_type": "stream",
     "text": [
      "\n",
      "===> Epoch  200/200: Average Train Loss: 0.566 |  Average validation Loss: 0.480 | Validation Score: 0.867 | lr: 0.06615\n",
      "params = {'task': 'binary_classification', 'in_channels': 73, 'global_fdim': 85, 'model': 'graph_nns.GIN', 'gnn_hidden_neurons': 230, 'gnn_nlayers': 2, 'ffn_hidden_neurons': 132, 'ffn_nlayers': 2, 'out_neurons': 1, 'dropout_rate': 0.15760672217997232, 'activation_func': 'torch.nn.ReLU', 'gpooling_func': 'mean', 'learning_rate': 0.07210828907039195, 'n_epochs': 150, 'criterion': BCEWithLogitsLoss(), 'optimizer': \"{'optimizer_type':'torch.optim.SGD', 'weight_decay':1e-3}\", 'scheduler': \"{'lr_scheduler_type':'lr_scheduler.CyclicLR', 'max_lr':0.2, 'step_size_up':50, 'cycle_momentum':True}\", 'scoring_func': 'roc_auc_score', 'add_batch_norm': True}\n",
      "\n",
      "in_channels = 73 :: gnn_dim = 230 :: activation_func = ReLU()\n",
      "Initializing parameters...\n",
      "\toptimizer:  {'state': {}, 'param_groups': [{'lr': 0.07210828907039195, 'momentum': 0, 'dampening': 0, 'weight_decay': 0.001, 'nesterov': False, 'maximize': False, 'foreach': None, 'differentiable': False, 'params': [0, 1, 2, 3, 4, 5, 6, 7, 8, 9, 10, 11, 12, 13, 14, 15]}]}\n",
      "\tlr_scheduler:  {'max_lrs': [0.2], 'total_size': 100.0, 'step_ratio': 0.5, 'mode': 'triangular', 'gamma': 1.0, '_scale_fn_custom': None, 'scale_mode': 'cycle', 'cycle_momentum': True, 'base_momentums': [0.8], 'max_momentums': [0.9], 'base_lrs': [0.07210828907039195], 'last_epoch': 0, 'verbose': False, '_step_count': 1, '_get_lr_called_within_step': False, '_last_lr': [0.07210828907039195]}\n",
      "checkpoint dir: None\n",
      "device = cuda\n",
      "TASK: binary_classification\n",
      "\n",
      "===> Epoch    1/150: Average Train Loss: 0.686 |  Average validation Loss: 0.672 | Validation Score: 0.572 | lr: 0.07211\n",
      "\n",
      "===> Epoch   21/150: Average Train Loss: 0.588 |  Average validation Loss: 0.632 | Validation Score: 0.721 | lr: 0.12326\n"
     ]
    },
    {
     "name": "stderr",
     "output_type": "stream",
     "text": [
      "[I 2024-11-09 15:20:05,769] Trial 1 pruned. \n"
     ]
    },
    {
     "name": "stdout",
     "output_type": "stream",
     "text": [
      "params = {'task': 'binary_classification', 'in_channels': 73, 'global_fdim': 85, 'model': 'graph_nns.GIN', 'gnn_hidden_neurons': 150, 'gnn_nlayers': 2, 'ffn_hidden_neurons': 132, 'ffn_nlayers': 2, 'out_neurons': 1, 'dropout_rate': 0.2420800646558768, 'activation_func': 'torch.nn.LeakyReLU', 'gpooling_func': 'mean', 'learning_rate': 0.08215374633349012, 'n_epochs': 150, 'criterion': BCEWithLogitsLoss(), 'optimizer': \"{'optimizer_type':'torch.optim.SGD', 'weight_decay':1e-3}\", 'scheduler': \"{'lr_scheduler_type':'lr_scheduler.CyclicLR', 'max_lr':0.2, 'step_size_up':50, 'cycle_momentum':True}\", 'scoring_func': 'roc_auc_score', 'add_batch_norm': True}\n",
      "\n",
      "in_channels = 73 :: gnn_dim = 150 :: activation_func = LeakyReLU(negative_slope=0.01)\n",
      "Initializing parameters...\n",
      "\toptimizer:  {'state': {}, 'param_groups': [{'lr': 0.08215374633349012, 'momentum': 0, 'dampening': 0, 'weight_decay': 0.001, 'nesterov': False, 'maximize': False, 'foreach': None, 'differentiable': False, 'params': [0, 1, 2, 3, 4, 5, 6, 7, 8, 9, 10, 11, 12, 13, 14, 15]}]}\n",
      "\tlr_scheduler:  {'max_lrs': [0.2], 'total_size': 100.0, 'step_ratio': 0.5, 'mode': 'triangular', 'gamma': 1.0, '_scale_fn_custom': None, 'scale_mode': 'cycle', 'cycle_momentum': True, 'base_momentums': [0.8], 'max_momentums': [0.9], 'base_lrs': [0.08215374633349012], 'last_epoch': 0, 'verbose': False, '_step_count': 1, '_get_lr_called_within_step': False, '_last_lr': [0.08215374633349012]}\n",
      "checkpoint dir: None\n",
      "device = cuda\n",
      "TASK: binary_classification\n",
      "\n",
      "===> Epoch    1/150: Average Train Loss: 0.684 |  Average validation Loss: 0.668 | Validation Score: 0.582 | lr: 0.08215\n",
      "\n",
      "===> Epoch   21/150: Average Train Loss: 0.608 |  Average validation Loss: 0.623 | Validation Score: 0.724 | lr: 0.12929\n"
     ]
    },
    {
     "name": "stderr",
     "output_type": "stream",
     "text": [
      "[I 2024-11-09 15:20:41,316] Trial 2 pruned. \n"
     ]
    },
    {
     "name": "stdout",
     "output_type": "stream",
     "text": [
      "params = {'task': 'binary_classification', 'in_channels': 73, 'global_fdim': 85, 'model': 'graph_nns.GIN', 'gnn_hidden_neurons': 166, 'gnn_nlayers': 2, 'ffn_hidden_neurons': 148, 'ffn_nlayers': 1, 'out_neurons': 1, 'dropout_rate': 0.18838460358455122, 'activation_func': 'torch.nn.ReLU', 'gpooling_func': 'mean', 'learning_rate': 0.06871810305548509, 'n_epochs': 200, 'criterion': BCEWithLogitsLoss(), 'optimizer': \"{'optimizer_type':'torch.optim.SGD', 'weight_decay':1e-3}\", 'scheduler': \"{'lr_scheduler_type':'lr_scheduler.CyclicLR', 'max_lr':0.2, 'step_size_up':50, 'cycle_momentum':True}\", 'scoring_func': 'roc_auc_score', 'add_batch_norm': True}\n",
      "\n",
      "in_channels = 73 :: gnn_dim = 166 :: activation_func = ReLU()\n",
      "Initializing parameters...\n",
      "\toptimizer:  {'state': {}, 'param_groups': [{'lr': 0.06871810305548509, 'momentum': 0, 'dampening': 0, 'weight_decay': 0.001, 'nesterov': False, 'maximize': False, 'foreach': None, 'differentiable': False, 'params': [0, 1, 2, 3, 4, 5, 6, 7, 8, 9, 10, 11, 12, 13]}]}\n",
      "\tlr_scheduler:  {'max_lrs': [0.2], 'total_size': 100.0, 'step_ratio': 0.5, 'mode': 'triangular', 'gamma': 1.0, '_scale_fn_custom': None, 'scale_mode': 'cycle', 'cycle_momentum': True, 'base_momentums': [0.8], 'max_momentums': [0.9], 'base_lrs': [0.06871810305548509], 'last_epoch': 0, 'verbose': False, '_step_count': 1, '_get_lr_called_within_step': False, '_last_lr': [0.06871810305548509]}\n",
      "checkpoint dir: None\n",
      "device = cuda\n",
      "TASK: binary_classification\n",
      "\n",
      "===> Epoch    1/200: Average Train Loss: 0.684 |  Average validation Loss: 0.649 | Validation Score: 0.622 | lr: 0.06872\n",
      "\n",
      "===> Epoch   21/200: Average Train Loss: 0.628 |  Average validation Loss: 0.976 | Validation Score: 0.586 | lr: 0.12123\n",
      "\n",
      "===> Epoch   41/200: Average Train Loss: 0.623 |  Average validation Loss: 0.653 | Validation Score: 0.676 | lr: 0.17374\n",
      "\n",
      "===> Epoch   61/200: Average Train Loss: 0.619 |  Average validation Loss: 0.643 | Validation Score: 0.639 | lr: 0.17374\n",
      "\n",
      "===> Epoch   81/200: Average Train Loss: 0.619 |  Average validation Loss: 4.715 | Validation Score: 0.617 | lr: 0.12123\n",
      "\n",
      "===> Epoch  101/200: Average Train Loss: 0.605 |  Average validation Loss: 0.635 | Validation Score: 0.651 | lr: 0.06872\n",
      "\n",
      "===> Epoch  121/200: Average Train Loss: 0.613 |  Average validation Loss: 0.639 | Validation Score: 0.663 | lr: 0.12123\n",
      "\n",
      "===> Epoch  141/200: Average Train Loss: 0.614 |  Average validation Loss: 0.649 | Validation Score: 0.628 | lr: 0.17374\n",
      "\n",
      "===> Epoch  161/200: Average Train Loss: 0.624 |  Average validation Loss: 0.644 | Validation Score: 0.648 | lr: 0.17374\n",
      "\n",
      "===> Epoch  181/200: Average Train Loss: 0.621 |  Average validation Loss: 0.701 | Validation Score: 0.666 | lr: 0.12123\n"
     ]
    },
    {
     "name": "stderr",
     "output_type": "stream",
     "text": [
      "[I 2024-11-09 15:25:11,828] Trial 3 finished with value: 0.6237970047812798 and parameters: {'in_channels': 73, 'global_fdim': 85, 'model': 'graph_nns.GIN', 'gnn_hidden_neurons': 166, 'gnn_nlayers': 2, 'ffn_hidden_neurons': 148, 'ffn_nlayers': 1, 'out_neurons': 1, 'dropout_rate': 0.18838460358455122, 'activation_func': 'torch.nn.ReLU', 'gpooling_func': 'mean', 'learning_rate': 0.06871810305548509, 'n_epochs': 200, 'optimizer': \"{'optimizer_type':'torch.optim.SGD', 'weight_decay':1e-3}\", 'scheduler': \"{'lr_scheduler_type':'lr_scheduler.CyclicLR', 'max_lr':0.2, 'step_size_up':50, 'cycle_momentum':True}\", 'scoring_func': 'roc_auc_score'}. Best is trial 0 with value: 0.8668668757632065.\n"
     ]
    },
    {
     "name": "stdout",
     "output_type": "stream",
     "text": [
      "\n",
      "===> Epoch  200/200: Average Train Loss: 0.613 |  Average validation Loss: 0.646 | Validation Score: 0.624 | lr: 0.07134\n",
      "params = {'task': 'binary_classification', 'in_channels': 73, 'global_fdim': 85, 'model': 'graph_nns.GIN', 'gnn_hidden_neurons': 214, 'gnn_nlayers': 2, 'ffn_hidden_neurons': 148, 'ffn_nlayers': 1, 'out_neurons': 1, 'dropout_rate': 0.22202550239911306, 'activation_func': 'torch.nn.ReLU', 'gpooling_func': 'mean', 'learning_rate': 0.07433003151691177, 'n_epochs': 150, 'criterion': BCEWithLogitsLoss(), 'optimizer': \"{'optimizer_type':'torch.optim.SGD', 'weight_decay':1e-3}\", 'scheduler': \"{'lr_scheduler_type':'lr_scheduler.CyclicLR', 'max_lr':0.2, 'step_size_up':50, 'cycle_momentum':True}\", 'scoring_func': 'roc_auc_score', 'add_batch_norm': True}\n",
      "\n",
      "in_channels = 73 :: gnn_dim = 214 :: activation_func = ReLU()\n",
      "Initializing parameters...\n",
      "\toptimizer:  {'state': {}, 'param_groups': [{'lr': 0.07433003151691177, 'momentum': 0, 'dampening': 0, 'weight_decay': 0.001, 'nesterov': False, 'maximize': False, 'foreach': None, 'differentiable': False, 'params': [0, 1, 2, 3, 4, 5, 6, 7, 8, 9, 10, 11, 12, 13]}]}\n",
      "\tlr_scheduler:  {'max_lrs': [0.2], 'total_size': 100.0, 'step_ratio': 0.5, 'mode': 'triangular', 'gamma': 1.0, '_scale_fn_custom': None, 'scale_mode': 'cycle', 'cycle_momentum': True, 'base_momentums': [0.8], 'max_momentums': [0.9], 'base_lrs': [0.07433003151691177], 'last_epoch': 0, 'verbose': False, '_step_count': 1, '_get_lr_called_within_step': False, '_last_lr': [0.07433003151691177]}\n",
      "checkpoint dir: None\n",
      "device = cuda\n",
      "TASK: binary_classification\n",
      "\n",
      "===> Epoch    1/150: Average Train Loss: 0.676 |  Average validation Loss: 0.647 | Validation Score: 0.624 | lr: 0.07433\n",
      "\n",
      "===> Epoch   21/150: Average Train Loss: 0.632 |  Average validation Loss: 0.671 | Validation Score: 0.644 | lr: 0.12460\n",
      "\n",
      "===> Epoch   41/150: Average Train Loss: 0.620 |  Average validation Loss: 0.642 | Validation Score: 0.657 | lr: 0.17487\n",
      "\n",
      "===> Epoch   61/150: Average Train Loss: 0.628 |  Average validation Loss: 0.650 | Validation Score: 0.632 | lr: 0.17487\n",
      "\n",
      "===> Epoch   81/150: Average Train Loss: 0.620 |  Average validation Loss: 2.523 | Validation Score: 0.627 | lr: 0.12460\n",
      "\n",
      "===> Epoch  101/150: Average Train Loss: 0.616 |  Average validation Loss: 3.751 | Validation Score: 0.640 | lr: 0.07433\n",
      "\n",
      "===> Epoch  121/150: Average Train Loss: 0.621 |  Average validation Loss: 0.711 | Validation Score: 0.625 | lr: 0.12460\n",
      "\n",
      "===> Epoch  141/150: Average Train Loss: 0.620 |  Average validation Loss: 0.659 | Validation Score: 0.607 | lr: 0.17487\n"
     ]
    },
    {
     "name": "stderr",
     "output_type": "stream",
     "text": [
      "[I 2024-11-09 15:28:51,935] Trial 4 finished with value: 0.6147754481330486 and parameters: {'in_channels': 73, 'global_fdim': 85, 'model': 'graph_nns.GIN', 'gnn_hidden_neurons': 214, 'gnn_nlayers': 2, 'ffn_hidden_neurons': 148, 'ffn_nlayers': 1, 'out_neurons': 1, 'dropout_rate': 0.22202550239911306, 'activation_func': 'torch.nn.ReLU', 'gpooling_func': 'mean', 'learning_rate': 0.07433003151691177, 'n_epochs': 150, 'optimizer': \"{'optimizer_type':'torch.optim.SGD', 'weight_decay':1e-3}\", 'scheduler': \"{'lr_scheduler_type':'lr_scheduler.CyclicLR', 'max_lr':0.2, 'step_size_up':50, 'cycle_momentum':True}\", 'scoring_func': 'roc_auc_score'}. Best is trial 0 with value: 0.8668668757632065.\n"
     ]
    },
    {
     "name": "stdout",
     "output_type": "stream",
     "text": [
      "\n",
      "===> Epoch  150/150: Average Train Loss: 0.630 |  Average validation Loss: 0.649 | Validation Score: 0.615 | lr: 0.19749\n",
      "CPU times: user 15min 9s, sys: 15.8 s, total: 15min 25s\n",
      "Wall time: 15min 24s\n"
     ]
    },
    {
     "data": {
      "text/plain": [
       "{'best_params': {'in_channels': 73,\n",
       "  'global_fdim': 85,\n",
       "  'model': 'graph_nns.GIN',\n",
       "  'gnn_hidden_neurons': 246,\n",
       "  'gnn_nlayers': 2,\n",
       "  'ffn_hidden_neurons': 116,\n",
       "  'ffn_nlayers': 2,\n",
       "  'out_neurons': 1,\n",
       "  'dropout_rate': 0.2939702693002407,\n",
       "  'activation_func': 'torch.nn.ReLU',\n",
       "  'gpooling_func': 'mean',\n",
       "  'learning_rate': 0.06342284731320141,\n",
       "  'n_epochs': 200,\n",
       "  'optimizer': \"{'optimizer_type':'torch.optim.SGD', 'weight_decay':1e-3}\",\n",
       "  'scheduler': \"{'lr_scheduler_type':'lr_scheduler.CyclicLR', 'max_lr':0.2, 'step_size_up':50, 'cycle_momentum':True}\",\n",
       "  'scoring_func': 'roc_auc_score'},\n",
       " 'best_score': 0.8668668757632065}"
      ]
     },
     "execution_count": 25,
     "metadata": {},
     "output_type": "execute_result"
    }
   ],
   "source": [
    "%%time\n",
    "import sklearn\n",
    "from torch.optim import lr_scheduler\n",
    "from optuna.samplers import TPESampler\n",
    "\n",
    "in_channels = list(train_loader)[0].x[0].shape[0]\n",
    "global_fdim = (\n",
    "    list(train_loader)[0].global_feats.shape[1]\n",
    "    if \"global_feats\" in list(train_loader)[0].to_dict()\n",
    "    else None\n",
    ")\n",
    "criterion = BCEWithLogitsLoss()\n",
    "\n",
    "exp_params_grid = {\n",
    "    \"task\": \"binary_classification\",\n",
    "    \"in_channels\": in_channels,\n",
    "    \"global_fdim\": global_fdim,\n",
    "    \"model\": [\"graph_nns.GIN\"],\n",
    "    \"gnn_hidden_neurons\": [150, 250],\n",
    "    \"gnn_nlayers\": [2, 2]\n",
    "    # , 'ffn_hidden_neurons': [64, 128, 256, 384, 512]\n",
    "    ,\n",
    "    \"ffn_hidden_neurons\": [100, 150],\n",
    "    \"ffn_nlayers\": [1, 2],\n",
    "    \"out_neurons\": 1,\n",
    "    \"dropout_rate\": [0.1, 0.3],\n",
    "    \"activation_func\": [\"torch.nn.LeakyReLU\", \"torch.nn.ReLU\"],\n",
    "    \"gpooling_func\": [\"mean\"],\n",
    "    # 'learning_rate': [5e-2, 1e-1],\n",
    "    # , 'n_epochs': [10, 20],\n",
    "    \"learning_rate\": [5e-2, 1e-1],\n",
    "    \"n_epochs\": [150, 200],\n",
    "    \"criterion\": criterion,\n",
    "    \"optimizer\": [\"{'optimizer_type':'torch.optim.SGD', 'weight_decay':1e-3}\"],\n",
    "    # \"scheduler\": [\n",
    "    #     \"{'lr_scheduler_type':'lr_scheduler.ReduceLROnPlateau', 'mode':'min', 'factor':0.8, 'patience':25, 'threshold':1e-02, 'eps':1e-08}\"\n",
    "    # ],\n",
    "    'scheduler' : [\"{'lr_scheduler_type':'lr_scheduler.CyclicLR', 'max_lr':0.2, 'step_size_up':50, 'cycle_momentum':True}\"],\n",
    "    \"scoring_func\": [\"roc_auc_score\"],\n",
    "    \"add_batch_norm\": True,\n",
    "}\n",
    "\n",
    "my_hpo = training_utils.OptunaHPO(n_trials=5, n_jobs=1, sampler=TPESampler(), add_tboard_writer=True\n",
    "                                    , n_startup_trials=1, n_warmup_steps=25\n",
    "                                    , tboard_log_dir = f\"{DATASET_DIR}/logs_dd2_gin_tensorboard\")\n",
    "print(my_hpo.tboard_writer)\n",
    "\n",
    "results = my_hpo.run_optimization(\n",
    "    train_val_data=[train_loader, val_loader],\n",
    "    params_grid=exp_params_grid,\n",
    "    optuna_direction=\"maximize\",\n",
    "    split_mode=\"classic\",\n",
    "    study_name=\"my_gin_study\",\n",
    ")\n",
    "# print(\"best_model = \", my_hpo.best_model)\n",
    "results"
   ]
  },
  {
   "cell_type": "markdown",
   "metadata": {},
   "source": [
    "<h3 style=\"font-family: cursive\">Evaluating The Best Model</h3>"
   ]
  },
  {
   "cell_type": "markdown",
   "metadata": {},
   "source": [
    "<h4 style=\"font-family: cursive\"> Visualizing Losses and Scores</h4>"
   ]
  },
  {
   "cell_type": "code",
   "execution_count": null,
   "metadata": {},
   "outputs": [],
   "source": [
    "%%time\n",
    "best_params = results[\"best_params\"]\n",
    "gin_model = my_hpo.best_model\n",
    "train_losses, val_losses, val_scores = (\n",
    "    my_hpo.train_val_metadata[\"train_losses\"],\n",
    "    my_hpo.train_val_metadata[\"val_losses\"],\n",
    "    my_hpo.train_val_metadata[\"val_scores\"],\n",
    ")"
   ]
  },
  {
   "cell_type": "code",
   "execution_count": null,
   "metadata": {},
   "outputs": [],
   "source": [
    "# list(gin_model.state_dict().keys())"
   ]
  },
  {
   "cell_type": "code",
   "execution_count": null,
   "metadata": {},
   "outputs": [],
   "source": [
    "visuals.plots_train_val_metrics(\n",
    "    train_losses=train_losses,\n",
    "    val_scores=val_scores,\n",
    "    val_losses=val_losses,\n",
    "    figsize=(10, 7),\n",
    "    image_pathname=f\"{DATASET_DIR}/models/dd2_class_gnn_stats_gin.jpeg\",\n",
    "    val_score_name=best_params[\"scoring_func\"],\n",
    ")"
   ]
  },
  {
   "cell_type": "code",
   "execution_count": 33,
   "metadata": {},
   "outputs": [
    {
     "ename": "",
     "evalue": "",
     "output_type": "error",
     "traceback": [
      "\u001b[1;31mThe Kernel crashed while executing code in the current cell or a previous cell. \n",
      "\u001b[1;31mPlease review the code in the cell(s) to identify a possible cause of the failure. \n",
      "\u001b[1;31mClick <a href='https://aka.ms/vscodeJupyterKernelCrash'>here</a> for more info. \n",
      "\u001b[1;31mView Jupyter <a href='command:jupyter.viewOutput'>log</a> for further details."
     ]
    }
   ],
   "source": [
    "torch.save(gin_model.state_dict(), f\"{DATASET_DIR}/models/dd2_class_gin_model.pt\")"
   ]
  },
  {
   "cell_type": "markdown",
   "metadata": {},
   "source": [
    "<h4 style=\"font-family: cursive\"> Model Evaluation</h4>"
   ]
  },
  {
   "cell_type": "code",
   "execution_count": 28,
   "metadata": {},
   "outputs": [
    {
     "name": "stdout",
     "output_type": "stream",
     "text": [
      "nr. of predictions =  676\n",
      "\n",
      "ROC AUC Score = 0.735\n",
      "Balanced Acc. = 0.681\n",
      "F1-Score      = 0.764\n",
      "Precision     = 0.707\n",
      "Recall        = 0.831\n"
     ]
    }
   ],
   "source": [
    "from lib import predictions\n",
    "\n",
    "test_pred, test_true = predictions.predict_from_loader(\n",
    "    loader=test_loader,\n",
    "    model=gin_model,\n",
    "    device=\"cuda:0\",\n",
    "    return_class_as_proba=True,\n",
    "    return_true_targets=True,\n",
    "    desc=\"Predicting...\",\n",
    ")\n",
    "\n",
    "threshold = 0.5\n",
    "test_pred_classes = [int(x > threshold) for x in test_pred.squeeze(1)]\n",
    "\n",
    "\n",
    "print(\"nr. of predictions = \", len(test_true))\n",
    "print(\n",
    "    f\"\\nROC AUC Score = {round(roc_auc_score(test_true.cpu(), test_pred.detach().cpu()),3)}\"\n",
    ")\n",
    "print(\n",
    "    f\"Balanced Acc. = {round(balanced_accuracy_score(test_true.cpu(), test_pred_classes),3)}\"\n",
    ")\n",
    "print(f\"F1-Score      = {round(f1_score(test_true.cpu(), test_pred_classes),3)}\")\n",
    "print(f\"Precision     = {round(precision_score(test_true.cpu(), test_pred_classes),3)}\")\n",
    "print(f\"Recall        = {round(recall_score(test_true.cpu(), test_pred_classes),3)}\")"
   ]
  },
  {
   "cell_type": "markdown",
   "metadata": {},
   "source": [
    "<h5 style=\"font-family: cursive\"> Evaluate using the GNNPredictor</h5>"
   ]
  },
  {
   "cell_type": "code",
   "execution_count": 29,
   "metadata": {},
   "outputs": [],
   "source": [
    "gin_predictor = predictions.GNNPredictor(\n",
    "    model=gin_model,\n",
    "    atom_featurizer=atom_featurizer,\n",
    "    bond_featurizer=bond_featurizer,\n",
    "    add_explicit_h=True,\n",
    "    mol_featurizer=mol_featurizer,\n",
    "    scale_features=True,\n",
    "    feature_scaler=StandardScaler(),\n",
    "    compute_global_features=True,\n",
    "    add_global_feats_to_nodes=False,\n",
    ")"
   ]
  },
  {
   "cell_type": "code",
   "execution_count": 30,
   "metadata": {},
   "outputs": [],
   "source": [
    "# gin_model = torch.load(f\"{DATASET_DIR}/models/dd2_class_gin_model.pt\")\n",
    "torch.save(gin_predictor, f\"{DATASET_DIR}/models/dd2_class_gin_predictor.pt\")"
   ]
  },
  {
   "cell_type": "code",
   "execution_count": null,
   "metadata": {},
   "outputs": [],
   "source": [
    "# gin_predictor=torch.load(f\"{DATASET_DIR}/models/dd2_class_gin_predictor.pt\")\n",
    "# gin_predictor\n",
    "\n",
    "# dd2_loader_fname = f'{DATASET_DIR}/dd2_dataloaders.pt'\n",
    "# dd2_loaders = torch.load(dd2_loader_fname)\n",
    "\n",
    "# train_loader = dd2_loaders['train_loader']\n",
    "# val_loader   = dd2_loaders['val_loader']\n",
    "# test_loader  = dd2_loaders['test_loader']"
   ]
  },
  {
   "cell_type": "code",
   "execution_count": 31,
   "metadata": {},
   "outputs": [
    {
     "name": "stdout",
     "output_type": "stream",
     "text": [
      "[0, 1, 1, 1, 1, 1, 1, 0, 1, 1, 1, 1, 1, 1, 1, 1, 1, 1, 1, 0, 1, 0, 1, 0, 0, 1, 1, 1, 0, 1, 1, 1, 0, 0, 1, 1, 0, 0, 0, 1, 1, 1, 1, 0, 1, 1, 1, 1, 1, 1, 1, 1, 1, 1, 1, 1, 1, 1, 1, 1, 1, 1, 1, 1, 1, 1, 1, 1, 1, 1, 1, 0, 1, 1, 0, 1, 1, 1, 0, 1, 1, 1, 0, 1, 1, 1, 1, 1, 1, 1, 1, 1, 1, 1, 1, 0, 1, 1, 0, 1, 1, 1, 0, 0, 1, 1, 1, 1, 1, 1, 1, 1, 1, 1, 1, 1, 1, 1, 1, 1, 1, 0, 1, 1, 1, 1, 1, 1, 1, 1, 1, 1, 0, 1, 1, 1, 1, 1, 1, 0, 1, 1, 0, 1, 1, 1, 0, 0, 0, 0, 1, 1, 1, 1, 1, 1, 0, 1, 1, 1, 0, 1, 1, 1, 0, 1, 1, 1, 0, 0, 1, 0, 0, 1, 0, 0, 0, 1, 0, 0, 1, 1, 0, 1, 0, 0, 0, 1, 1, 1, 0, 0, 1, 1, 1, 1, 0, 1, 1, 1, 1, 1, 1, 1, 1, 1, 1, 0, 1, 0, 0, 1, 1, 1, 1, 0, 1, 0, 0, 0, 1, 0, 0, 0, 1, 1, 0, 1, 1, 1, 1, 1, 1, 1, 1, 1, 0, 1, 0, 0, 0, 0, 1, 0, 1, 1, 1, 1, 1, 1, 1, 1, 0, 1, 1, 1, 1, 1, 1, 1, 1, 0, 1, 1, 0, 1, 1, 1, 1, 1, 1, 1, 1, 0, 0, 1, 0, 0, 0, 0, 0, 1, 0, 1, 1, 0, 0, 0, 1, 0, 1, 1, 0, 0, 0, 0, 1, 1, 0, 0, 1, 0, 1, 0, 1, 1, 1, 1, 1, 1, 1, 1, 1, 1, 1, 0, 0, 0, 0, 0, 0, 0, 0, 0, 0, 0, 0, 0, 0, 0, 0, 0, 0, 0, 0, 0, 0, 0, 0, 0, 0, 0, 0, 0, 0, 0, 0, 0, 0, 0, 0, 0, 0, 0, 1, 0, 0, 0, 0, 0, 0, 1, 1, 1, 1, 1, 0, 1, 1, 1, 1, 1, 1, 1, 1, 1, 1, 1, 1, 0, 0, 1, 1, 1, 1, 1, 1, 1, 1, 1, 1, 1, 1, 1, 1, 0, 0, 0, 0, 0, 0, 0, 1, 0, 1, 0, 0, 0, 0, 1, 1, 1, 0, 1, 1, 1, 1, 1, 1, 1, 1, 1, 0, 0, 0, 1, 1, 1, 1, 0, 0, 0, 0, 0, 0, 0, 0, 0, 0, 0, 1, 1, 0, 0, 1, 1, 1, 0, 0, 1, 1, 0, 0, 1, 0, 0, 1, 0, 1, 1, 1, 1, 1, 0, 1, 0, 1, 1, 1, 1, 1, 0, 1, 1, 0, 1, 1, 1, 1, 1, 1, 1, 1, 1, 1, 1, 1, 1, 1, 1, 1, 1, 1, 1, 1, 1, 1, 1, 1, 1, 1, 1, 1, 1, 0, 0, 1, 1, 1, 1, 1, 1, 1, 1, 1, 1, 1, 1, 1, 1, 1, 1, 1, 1, 1, 1, 1, 0, 0, 0, 1, 1, 1, 1, 1, 1, 1, 1, 1, 1, 1, 1, 1, 1, 0, 0, 0, 1, 1, 1, 1, 1, 1, 0, 1, 1, 1, 1, 1, 1, 1, 1, 1, 1, 1, 1, 1, 1, 1, 1, 0, 0, 0, 1, 1, 1, 1, 1, 1, 0, 1, 1, 1, 1, 1, 0, 1, 1, 1, 1, 1, 1, 0, 1, 1, 1, 1, 1, 1, 1, 0, 0, 1, 0, 1, 1, 1, 1, 1, 1, 1, 1, 1, 0, 0, 0, 1, 1, 0, 1, 1, 0, 1, 0, 0, 0, 0, 0, 1, 0, 0, 1, 1, 0, 0, 0, 1, 1, 0, 1, 1, 1, 1, 1, 0, 0, 1, 1, 1, 1, 1, 1, 1, 1, 0, 1, 1, 1, 1, 1, 1, 1, 1, 1, 1, 1, 1, 1, 1, 1, 1, 0, 0, 0, 0, 0]\n",
      "\n",
      "ROC AUC Score = 0.735\n",
      "Balanced Acc. = 0.681\n",
      "F1-Score      = 0.764\n",
      "Precision     = 0.707\n",
      "Recall        = 0.831\n"
     ]
    }
   ],
   "source": [
    "test_pred, test_true = gin_predictor.predict_from_loader(\n",
    "    loader=test_loader,\n",
    "    return_class_as_proba=True,\n",
    "    device=\"cuda:0\",\n",
    "    return_true_targets=True,\n",
    "    desc=\"Predicting...\",\n",
    ")\n",
    "\n",
    "\n",
    "\n",
    "threshold = 0.5\n",
    "test_pred_classes = [int(x > threshold) for x in test_pred.squeeze(1)]\n",
    "print(test_pred_classes)\n",
    "\n",
    "print(\n",
    "    f\"\\nROC AUC Score = {round(roc_auc_score(test_true.cpu(), test_pred.detach().cpu()),3)}\"\n",
    ")\n",
    "print(\n",
    "    f\"Balanced Acc. = {round(balanced_accuracy_score(test_true.cpu(), test_pred_classes),3)}\"\n",
    ")\n",
    "print(f\"F1-Score      = {round(f1_score(test_true.cpu(), test_pred_classes),3)}\")\n",
    "print(f\"Precision     = {round(precision_score(test_true.cpu(), test_pred_classes),3)}\")\n",
    "print(f\"Recall        = {round(recall_score(test_true.cpu(), test_pred_classes),3)}\")"
   ]
  },
  {
   "cell_type": "markdown",
   "metadata": {},
   "source": [
    "<h5 style=\"font-family: cursive\"> Predict DD2 Activity from SMILES</h5>"
   ]
  },
  {
   "cell_type": "code",
   "execution_count": 32,
   "metadata": {},
   "outputs": [
    {
     "name": "stdout",
     "output_type": "stream",
     "text": [
      "Clean features...\n",
      "add_global_feats_to_nodes False\n",
      "loader:  DataBatch(x=[33, 73], edge_index=[2, 101], edge_attr=[101, 24], global_feats=[2, 85], batch=[33], ptr=[3])\n",
      "\n",
      "new_preds tensor([[0.6008],\n",
      "        [0.6740]], device='cuda:0', grad_fn=<CatBackward0>)\n",
      "pred_classes [1, 1]\n"
     ]
    }
   ],
   "source": [
    "smiles = [\"CCC(=O)NCc1nccc1CO\", \"O=C(O)c1cccnc1Sc1cc(CCO)c(Cl)cc1\"]\n",
    "new_preds = gin_predictor.predict_from_smiles_list(\n",
    "    smiles_list=smiles, device=\"cuda:0\", desc=\"Predicting...\",\n",
    "    return_class_as_proba=True,\n",
    ")\n",
    "\n",
    "\n",
    "\n",
    "threshold = 0.5\n",
    "pred_classes = [int(x > threshold) for x in new_preds.squeeze(1)]\n",
    "print(\"\\nnew_preds\", new_preds)\n",
    "print(\"pred_classes\", pred_classes)"
   ]
  }
 ],
 "metadata": {
  "kernelspec": {
   "display_name": "chemai-gpu",
   "language": "python",
   "name": "python3"
  },
  "language_info": {
   "codemirror_mode": {
    "name": "ipython",
    "version": 3
   },
   "file_extension": ".py",
   "mimetype": "text/x-python",
   "name": "python",
   "nbconvert_exporter": "python",
   "pygments_lexer": "ipython3",
   "version": "3.9.18"
  }
 },
 "nbformat": 4,
 "nbformat_minor": 2
}
